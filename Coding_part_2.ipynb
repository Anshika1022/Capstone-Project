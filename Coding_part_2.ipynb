{
  "nbformat": 4,
  "nbformat_minor": 0,
  "metadata": {
    "colab": {
      "name": "Coding part 2.ipynb",
      "provenance": [],
      "collapsed_sections": [
        "j3UDbo9Btvjq",
        "NqWzbj6YTnu2",
        "afhELmJa_udq"
      ]
    },
    "kernelspec": {
      "name": "python3",
      "display_name": "Python 3"
    }
  },
  "cells": [
    {
      "cell_type": "code",
      "metadata": {
        "id": "JKp9EGMa0L7U",
        "colab": {
          "resources": {
            "http://localhost:8080/nbextensions/google.colab/files.js": {
              "data": "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",
              "ok": true,
              "headers": [
                [
                  "content-type",
                  "application/javascript"
                ]
              ],
              "status": 200,
              "status_text": ""
            }
          },
          "base_uri": "https://localhost:8080/",
          "height": 73
        },
        "outputId": "c129a667-7d97-41f7-d15d-b0a11067b525"
      },
      "source": [
        "from google.colab import files\n",
        "uploaded = files.upload()"
      ],
      "execution_count": null,
      "outputs": [
        {
          "output_type": "display_data",
          "data": {
            "text/html": [
              "\n",
              "     <input type=\"file\" id=\"files-dcec0ca3-0eb4-433f-9d49-4fcc1fccb78b\" name=\"files[]\" multiple disabled\n",
              "        style=\"border:none\" />\n",
              "     <output id=\"result-dcec0ca3-0eb4-433f-9d49-4fcc1fccb78b\">\n",
              "      Upload widget is only available when the cell has been executed in the\n",
              "      current browser session. Please rerun this cell to enable.\n",
              "      </output>\n",
              "      <script src=\"/nbextensions/google.colab/files.js\"></script> "
            ],
            "text/plain": [
              "<IPython.core.display.HTML object>"
            ]
          },
          "metadata": {
            "tags": []
          }
        },
        {
          "output_type": "stream",
          "text": [
            "Saving customer data 1.xlsx to customer data 1.xlsx\n"
          ],
          "name": "stdout"
        }
      ]
    },
    {
      "cell_type": "code",
      "metadata": {
        "id": "28xwzfiW6G6U"
      },
      "source": [
        "import numpy as np\n",
        "import matplotlib.pyplot as plt\n",
        "import pandas as pd\n",
        "import seaborn as sns\n",
        "from sklearn.model_selection import train_test_split\n",
        "from sklearn.decomposition import PCA\n",
        "from sklearn.preprocessing import StandardScaler\n",
        "from sklearn import preprocessing\n",
        "from sklearn import metrics\n",
        "from sklearn.metrics import classification_report, accuracy_score,precision_score,recall_score,f1_score\n",
        "from sklearn.metrics import confusion_matrix\n",
        "from sklearn.metrics import roc_auc_score\n",
        "%matplotlib inline"
      ],
      "execution_count": null,
      "outputs": []
    },
    {
      "cell_type": "code",
      "metadata": {
        "colab": {
          "base_uri": "https://localhost:8080/",
          "height": 736
        },
        "id": "I0kRr47G6ThH",
        "outputId": "799a6163-0d25-4b2f-9286-4849fe22bf9e"
      },
      "source": [
        "#Importing the dataset\n",
        "import io\n",
        "dt = pd.read_excel(io.BytesIO(uploaded['customer data 1.xlsx']))\n",
        "\n",
        "dt.head()  "
      ],
      "execution_count": null,
      "outputs": [
        {
          "output_type": "execute_result",
          "data": {
            "text/html": [
              "<div>\n",
              "<style scoped>\n",
              "    .dataframe tbody tr th:only-of-type {\n",
              "        vertical-align: middle;\n",
              "    }\n",
              "\n",
              "    .dataframe tbody tr th {\n",
              "        vertical-align: top;\n",
              "    }\n",
              "\n",
              "    .dataframe thead th {\n",
              "        text-align: right;\n",
              "    }\n",
              "</style>\n",
              "<table border=\"1\" class=\"dataframe\">\n",
              "  <thead>\n",
              "    <tr style=\"text-align: right;\">\n",
              "      <th></th>\n",
              "      <th>Gender ?</th>\n",
              "      <th>Age</th>\n",
              "      <th>Marital Status</th>\n",
              "      <th>Current Education</th>\n",
              "      <th>Occupation</th>\n",
              "      <th>Annual Income</th>\n",
              "      <th>Family size</th>\n",
              "      <th>Model</th>\n",
              "      <th>How long you collect information before purchasing a car?</th>\n",
              "      <th>What is the usage of your car? [Shopping]</th>\n",
              "      <th>What is the usage of your car? [Pick up family members]</th>\n",
              "      <th>What is the usage of your car? [Short drive between cities]</th>\n",
              "      <th>What is the usage of your car? [Social Activities]</th>\n",
              "      <th>What is the usage of your car? [Commute to work]</th>\n",
              "      <th>What is the usage of your car? [Load luggage/goods]</th>\n",
              "      <th>Brand</th>\n",
              "      <th>Compeititive Price and discount</th>\n",
              "      <th>Safety</th>\n",
              "      <th>Comfort</th>\n",
              "      <th>Fuel-efficiency/Mileage</th>\n",
              "      <th>Engine</th>\n",
              "      <th>Color</th>\n",
              "      <th>Equipments</th>\n",
              "      <th>Exterior Design</th>\n",
              "      <th>Interior Design</th>\n",
              "      <th>Resale value</th>\n",
              "      <th>Better after sales service</th>\n",
              "      <th>Amount spent</th>\n",
              "      <th>Fuel Type</th>\n",
              "      <th>Transmission Mode</th>\n",
              "      <th>Purchasing Sources</th>\n",
              "      <th>Influencers_while_purchasing</th>\n",
              "      <th>Fashion_item</th>\n",
              "      <th>To what extent, do you care other people see what car you are using when you go out?</th>\n",
              "      <th>Hyundai_App_use</th>\n",
              "      <th>Electric_car_awareness</th>\n",
              "      <th>Environmently_friendly_cars_infuture</th>\n",
              "      <th>Payment_mode</th>\n",
              "      <th>Satisfaction_with_car</th>\n",
              "      <th>Satisfaction_with_Aftersalesservice</th>\n",
              "    </tr>\n",
              "  </thead>\n",
              "  <tbody>\n",
              "    <tr>\n",
              "      <th>0</th>\n",
              "      <td>2</td>\n",
              "      <td>2</td>\n",
              "      <td>2</td>\n",
              "      <td>3</td>\n",
              "      <td>1</td>\n",
              "      <td>3</td>\n",
              "      <td>2</td>\n",
              "      <td>9</td>\n",
              "      <td>2</td>\n",
              "      <td>2</td>\n",
              "      <td>2</td>\n",
              "      <td>3</td>\n",
              "      <td>2</td>\n",
              "      <td>3</td>\n",
              "      <td>1</td>\n",
              "      <td>4</td>\n",
              "      <td>4</td>\n",
              "      <td>4</td>\n",
              "      <td>4</td>\n",
              "      <td>4</td>\n",
              "      <td>4</td>\n",
              "      <td>4</td>\n",
              "      <td>3</td>\n",
              "      <td>3</td>\n",
              "      <td>3</td>\n",
              "      <td>4</td>\n",
              "      <td>4</td>\n",
              "      <td>3</td>\n",
              "      <td>1</td>\n",
              "      <td>1</td>\n",
              "      <td>Friends and family members, Newspaper advertising</td>\n",
              "      <td>Make my own choice</td>\n",
              "      <td>2</td>\n",
              "      <td>2</td>\n",
              "      <td>No</td>\n",
              "      <td>No</td>\n",
              "      <td>Yes</td>\n",
              "      <td>1</td>\n",
              "      <td>4</td>\n",
              "      <td>4</td>\n",
              "    </tr>\n",
              "    <tr>\n",
              "      <th>1</th>\n",
              "      <td>1</td>\n",
              "      <td>2</td>\n",
              "      <td>2</td>\n",
              "      <td>3</td>\n",
              "      <td>2</td>\n",
              "      <td>2</td>\n",
              "      <td>3</td>\n",
              "      <td>2</td>\n",
              "      <td>3</td>\n",
              "      <td>3</td>\n",
              "      <td>5</td>\n",
              "      <td>2</td>\n",
              "      <td>2</td>\n",
              "      <td>5</td>\n",
              "      <td>1</td>\n",
              "      <td>5</td>\n",
              "      <td>5</td>\n",
              "      <td>5</td>\n",
              "      <td>4</td>\n",
              "      <td>4</td>\n",
              "      <td>4</td>\n",
              "      <td>3</td>\n",
              "      <td>3</td>\n",
              "      <td>3</td>\n",
              "      <td>3</td>\n",
              "      <td>4</td>\n",
              "      <td>5</td>\n",
              "      <td>2</td>\n",
              "      <td>1</td>\n",
              "      <td>1</td>\n",
              "      <td>Brochure, Dealer sales staff, Friends and fami...</td>\n",
              "      <td>Friends/family</td>\n",
              "      <td>4</td>\n",
              "      <td>4</td>\n",
              "      <td>No</td>\n",
              "      <td>No</td>\n",
              "      <td>Yes</td>\n",
              "      <td>1</td>\n",
              "      <td>4</td>\n",
              "      <td>4</td>\n",
              "    </tr>\n",
              "    <tr>\n",
              "      <th>2</th>\n",
              "      <td>1</td>\n",
              "      <td>2</td>\n",
              "      <td>2</td>\n",
              "      <td>3</td>\n",
              "      <td>1</td>\n",
              "      <td>1</td>\n",
              "      <td>2</td>\n",
              "      <td>3</td>\n",
              "      <td>2</td>\n",
              "      <td>4</td>\n",
              "      <td>3</td>\n",
              "      <td>2</td>\n",
              "      <td>5</td>\n",
              "      <td>5</td>\n",
              "      <td>2</td>\n",
              "      <td>5</td>\n",
              "      <td>5</td>\n",
              "      <td>4</td>\n",
              "      <td>5</td>\n",
              "      <td>5</td>\n",
              "      <td>5</td>\n",
              "      <td>4</td>\n",
              "      <td>5</td>\n",
              "      <td>5</td>\n",
              "      <td>5</td>\n",
              "      <td>4</td>\n",
              "      <td>5</td>\n",
              "      <td>2</td>\n",
              "      <td>2</td>\n",
              "      <td>1</td>\n",
              "      <td>Dealer sales staff</td>\n",
              "      <td>Friends/family</td>\n",
              "      <td>4</td>\n",
              "      <td>5</td>\n",
              "      <td>No</td>\n",
              "      <td>Yes</td>\n",
              "      <td>Yes</td>\n",
              "      <td>1</td>\n",
              "      <td>5</td>\n",
              "      <td>5</td>\n",
              "    </tr>\n",
              "    <tr>\n",
              "      <th>3</th>\n",
              "      <td>2</td>\n",
              "      <td>2</td>\n",
              "      <td>2</td>\n",
              "      <td>3</td>\n",
              "      <td>1</td>\n",
              "      <td>3</td>\n",
              "      <td>2</td>\n",
              "      <td>3</td>\n",
              "      <td>5</td>\n",
              "      <td>4</td>\n",
              "      <td>4</td>\n",
              "      <td>2</td>\n",
              "      <td>5</td>\n",
              "      <td>2</td>\n",
              "      <td>2</td>\n",
              "      <td>5</td>\n",
              "      <td>5</td>\n",
              "      <td>5</td>\n",
              "      <td>5</td>\n",
              "      <td>5</td>\n",
              "      <td>5</td>\n",
              "      <td>5</td>\n",
              "      <td>3</td>\n",
              "      <td>3</td>\n",
              "      <td>5</td>\n",
              "      <td>3</td>\n",
              "      <td>5</td>\n",
              "      <td>1</td>\n",
              "      <td>1</td>\n",
              "      <td>1</td>\n",
              "      <td>Friends and family members, TV advertising or ...</td>\n",
              "      <td>Make my own choice</td>\n",
              "      <td>2</td>\n",
              "      <td>1</td>\n",
              "      <td>No</td>\n",
              "      <td>Yes</td>\n",
              "      <td>Yes</td>\n",
              "      <td>3</td>\n",
              "      <td>5</td>\n",
              "      <td>5</td>\n",
              "    </tr>\n",
              "    <tr>\n",
              "      <th>4</th>\n",
              "      <td>1</td>\n",
              "      <td>2</td>\n",
              "      <td>2</td>\n",
              "      <td>3</td>\n",
              "      <td>1</td>\n",
              "      <td>1</td>\n",
              "      <td>2</td>\n",
              "      <td>2</td>\n",
              "      <td>3</td>\n",
              "      <td>2</td>\n",
              "      <td>2</td>\n",
              "      <td>2</td>\n",
              "      <td>2</td>\n",
              "      <td>2</td>\n",
              "      <td>2</td>\n",
              "      <td>4</td>\n",
              "      <td>4</td>\n",
              "      <td>4</td>\n",
              "      <td>4</td>\n",
              "      <td>4</td>\n",
              "      <td>4</td>\n",
              "      <td>4</td>\n",
              "      <td>4</td>\n",
              "      <td>4</td>\n",
              "      <td>4</td>\n",
              "      <td>3</td>\n",
              "      <td>3</td>\n",
              "      <td>1</td>\n",
              "      <td>1</td>\n",
              "      <td>1</td>\n",
              "      <td>Brochure, Friends and family members, TV adver...</td>\n",
              "      <td>Make my own choice</td>\n",
              "      <td>3</td>\n",
              "      <td>3</td>\n",
              "      <td>No</td>\n",
              "      <td>Yes</td>\n",
              "      <td>Yes</td>\n",
              "      <td>1</td>\n",
              "      <td>5</td>\n",
              "      <td>4</td>\n",
              "    </tr>\n",
              "  </tbody>\n",
              "</table>\n",
              "</div>"
            ],
            "text/plain": [
              "   Gender ?  Age  ...  Satisfaction_with_car  Satisfaction_with_Aftersalesservice\n",
              "0         2    2  ...                      4                                    4\n",
              "1         1    2  ...                      4                                    4\n",
              "2         1    2  ...                      5                                    5\n",
              "3         2    2  ...                      5                                    5\n",
              "4         1    2  ...                      5                                    4\n",
              "\n",
              "[5 rows x 40 columns]"
            ]
          },
          "metadata": {
            "tags": []
          },
          "execution_count": 3
        }
      ]
    },
    {
      "cell_type": "code",
      "metadata": {
        "id": "BOxmYKLv6Wtb"
      },
      "source": [
        "df=dt.drop(['Model','Purchasing Sources','Influencers_while_purchasing','Hyundai_App_use',\t'Electric_car_awareness',\t'Environmently_friendly_cars_infuture'],axis='columns')"
      ],
      "execution_count": null,
      "outputs": []
    },
    {
      "cell_type": "code",
      "metadata": {
        "id": "f_PGdV5L6fDJ"
      },
      "source": [
        "features = [\"Gender ?\",\"Age\",\"Marital Status\",\"Current Education\",\t\"Occupation\",\t\"Annual Income\",\t\"Family size\",\"How long you collect information before purchasing a car?\",\t\"What is the usage of your car? [Shopping]\",\t\"What is the usage of your car? [Pick up family members]\",\t\"What is the usage of your car? [Short drive between cities]\",\t\"What is the usage of your car? [Social Activities]\",\t\"What is the usage of your car? [Commute to work]\",\t\"What is the usage of your car? [Load luggage/goods]\", \"Brand\",\"Compeititive Price and discount\",\"Safety\",\"Comfort\",\"Engine\",\t\"Color\",\"Equipments\",\t\"Exterior Design\",\t\"Interior Design\",\t\"Resale value\",\t\"Better after sales service\",\"Amount spent\",\"Fuel Type\",\t\"Transmission Mode\",\t\"Fashion_item\",\t\"To what extent, do you care other people see what car you are using when you go out?\",\"Payment_mode\",\t\"Satisfaction_with_car\",\t\"Satisfaction_with_Aftersalesservice\"]"
      ],
      "execution_count": null,
      "outputs": []
    },
    {
      "cell_type": "code",
      "metadata": {
        "id": "v9-dnM-N6qgJ"
      },
      "source": [
        ""
      ],
      "execution_count": null,
      "outputs": []
    },
    {
      "cell_type": "markdown",
      "metadata": {
        "id": "PaDQJOW5nU4S"
      },
      "source": [
        "#EDA"
      ]
    },
    {
      "cell_type": "code",
      "metadata": {
        "colab": {
          "base_uri": "https://localhost:8080/",
          "height": 600
        },
        "id": "6Ya-PWu8m5Pa",
        "outputId": "bc491a3e-32b5-4626-e99e-15fbd5100ccb"
      },
      "source": [
        "dt.groupby('Model').mean()"
      ],
      "execution_count": null,
      "outputs": [
        {
          "output_type": "execute_result",
          "data": {
            "text/html": [
              "<div>\n",
              "<style scoped>\n",
              "    .dataframe tbody tr th:only-of-type {\n",
              "        vertical-align: middle;\n",
              "    }\n",
              "\n",
              "    .dataframe tbody tr th {\n",
              "        vertical-align: top;\n",
              "    }\n",
              "\n",
              "    .dataframe thead th {\n",
              "        text-align: right;\n",
              "    }\n",
              "</style>\n",
              "<table border=\"1\" class=\"dataframe\">\n",
              "  <thead>\n",
              "    <tr style=\"text-align: right;\">\n",
              "      <th></th>\n",
              "      <th>Gender ?</th>\n",
              "      <th>Age</th>\n",
              "      <th>Marital Status</th>\n",
              "      <th>Current Education</th>\n",
              "      <th>Occupation</th>\n",
              "      <th>Annual Income</th>\n",
              "      <th>Family size</th>\n",
              "      <th>How long you collect information before purchasing a car?</th>\n",
              "      <th>What is the usage of your car? [Shopping]</th>\n",
              "      <th>What is the usage of your car? [Pick up family members]</th>\n",
              "      <th>What is the usage of your car? [Short drive between cities]</th>\n",
              "      <th>What is the usage of your car? [Social Activities]</th>\n",
              "      <th>What is the usage of your car? [Commute to work]</th>\n",
              "      <th>What is the usage of your car? [Load luggage/goods]</th>\n",
              "      <th>Brand</th>\n",
              "      <th>Compeititive Price and discount</th>\n",
              "      <th>Safety</th>\n",
              "      <th>Comfort</th>\n",
              "      <th>Fuel-efficiency/Mileage</th>\n",
              "      <th>Engine</th>\n",
              "      <th>Color</th>\n",
              "      <th>Equipments</th>\n",
              "      <th>Exterior Design</th>\n",
              "      <th>Interior Design</th>\n",
              "      <th>Resale value</th>\n",
              "      <th>Better after sales service</th>\n",
              "      <th>Amount spent</th>\n",
              "      <th>Fuel Type</th>\n",
              "      <th>Transmission Mode</th>\n",
              "      <th>Fashion_item</th>\n",
              "      <th>To what extent, do you care other people see what car you are using when you go out?</th>\n",
              "      <th>Payment_mode</th>\n",
              "      <th>Satisfaction_with_car</th>\n",
              "      <th>Satisfaction_with_Aftersalesservice</th>\n",
              "    </tr>\n",
              "    <tr>\n",
              "      <th>Model</th>\n",
              "      <th></th>\n",
              "      <th></th>\n",
              "      <th></th>\n",
              "      <th></th>\n",
              "      <th></th>\n",
              "      <th></th>\n",
              "      <th></th>\n",
              "      <th></th>\n",
              "      <th></th>\n",
              "      <th></th>\n",
              "      <th></th>\n",
              "      <th></th>\n",
              "      <th></th>\n",
              "      <th></th>\n",
              "      <th></th>\n",
              "      <th></th>\n",
              "      <th></th>\n",
              "      <th></th>\n",
              "      <th></th>\n",
              "      <th></th>\n",
              "      <th></th>\n",
              "      <th></th>\n",
              "      <th></th>\n",
              "      <th></th>\n",
              "      <th></th>\n",
              "      <th></th>\n",
              "      <th></th>\n",
              "      <th></th>\n",
              "      <th></th>\n",
              "      <th></th>\n",
              "      <th></th>\n",
              "      <th></th>\n",
              "      <th></th>\n",
              "      <th></th>\n",
              "    </tr>\n",
              "  </thead>\n",
              "  <tbody>\n",
              "    <tr>\n",
              "      <th>1</th>\n",
              "      <td>1.133333</td>\n",
              "      <td>1.400000</td>\n",
              "      <td>1.400000</td>\n",
              "      <td>2.133333</td>\n",
              "      <td>1.600000</td>\n",
              "      <td>1.933333</td>\n",
              "      <td>2.000000</td>\n",
              "      <td>2.000000</td>\n",
              "      <td>2.133333</td>\n",
              "      <td>2.533333</td>\n",
              "      <td>2.466667</td>\n",
              "      <td>2.066667</td>\n",
              "      <td>2.933333</td>\n",
              "      <td>2.200000</td>\n",
              "      <td>4.400000</td>\n",
              "      <td>4.600000</td>\n",
              "      <td>4.600000</td>\n",
              "      <td>4.866667</td>\n",
              "      <td>4.800000</td>\n",
              "      <td>4.066667</td>\n",
              "      <td>3.466667</td>\n",
              "      <td>3.800000</td>\n",
              "      <td>4.533333</td>\n",
              "      <td>4.000000</td>\n",
              "      <td>4.200000</td>\n",
              "      <td>4.533333</td>\n",
              "      <td>1.733333</td>\n",
              "      <td>1.200000</td>\n",
              "      <td>1.133333</td>\n",
              "      <td>3.600000</td>\n",
              "      <td>4.266667</td>\n",
              "      <td>1.200000</td>\n",
              "      <td>3.866667</td>\n",
              "      <td>3.533333</td>\n",
              "    </tr>\n",
              "    <tr>\n",
              "      <th>2</th>\n",
              "      <td>1.095238</td>\n",
              "      <td>1.476190</td>\n",
              "      <td>1.571429</td>\n",
              "      <td>3.000000</td>\n",
              "      <td>1.142857</td>\n",
              "      <td>2.333333</td>\n",
              "      <td>2.047619</td>\n",
              "      <td>2.714286</td>\n",
              "      <td>2.285714</td>\n",
              "      <td>2.476190</td>\n",
              "      <td>2.142857</td>\n",
              "      <td>2.238095</td>\n",
              "      <td>1.809524</td>\n",
              "      <td>2.142857</td>\n",
              "      <td>4.285714</td>\n",
              "      <td>4.333333</td>\n",
              "      <td>4.142857</td>\n",
              "      <td>4.095238</td>\n",
              "      <td>4.190476</td>\n",
              "      <td>4.238095</td>\n",
              "      <td>3.523810</td>\n",
              "      <td>3.095238</td>\n",
              "      <td>3.380952</td>\n",
              "      <td>3.523810</td>\n",
              "      <td>3.619048</td>\n",
              "      <td>4.142857</td>\n",
              "      <td>1.666667</td>\n",
              "      <td>1.190476</td>\n",
              "      <td>1.095238</td>\n",
              "      <td>3.095238</td>\n",
              "      <td>3.238095</td>\n",
              "      <td>1.238095</td>\n",
              "      <td>4.523810</td>\n",
              "      <td>4.523810</td>\n",
              "    </tr>\n",
              "    <tr>\n",
              "      <th>3</th>\n",
              "      <td>1.274510</td>\n",
              "      <td>1.862745</td>\n",
              "      <td>1.666667</td>\n",
              "      <td>2.333333</td>\n",
              "      <td>1.490196</td>\n",
              "      <td>2.137255</td>\n",
              "      <td>2.098039</td>\n",
              "      <td>3.254902</td>\n",
              "      <td>2.803922</td>\n",
              "      <td>2.764706</td>\n",
              "      <td>2.431373</td>\n",
              "      <td>2.686275</td>\n",
              "      <td>3.980392</td>\n",
              "      <td>2.588235</td>\n",
              "      <td>4.450980</td>\n",
              "      <td>4.686275</td>\n",
              "      <td>4.823529</td>\n",
              "      <td>4.901961</td>\n",
              "      <td>4.686275</td>\n",
              "      <td>4.098039</td>\n",
              "      <td>3.941176</td>\n",
              "      <td>4.117647</td>\n",
              "      <td>4.235294</td>\n",
              "      <td>4.392157</td>\n",
              "      <td>4.000000</td>\n",
              "      <td>4.431373</td>\n",
              "      <td>1.980392</td>\n",
              "      <td>1.588235</td>\n",
              "      <td>1.450980</td>\n",
              "      <td>2.980392</td>\n",
              "      <td>3.470588</td>\n",
              "      <td>1.803922</td>\n",
              "      <td>4.549020</td>\n",
              "      <td>4.117647</td>\n",
              "    </tr>\n",
              "    <tr>\n",
              "      <th>4</th>\n",
              "      <td>1.000000</td>\n",
              "      <td>2.074074</td>\n",
              "      <td>1.814815</td>\n",
              "      <td>2.148148</td>\n",
              "      <td>2.370370</td>\n",
              "      <td>2.222222</td>\n",
              "      <td>1.777778</td>\n",
              "      <td>3.222222</td>\n",
              "      <td>2.148148</td>\n",
              "      <td>2.481481</td>\n",
              "      <td>2.888889</td>\n",
              "      <td>2.481481</td>\n",
              "      <td>3.407407</td>\n",
              "      <td>1.740741</td>\n",
              "      <td>4.111111</td>\n",
              "      <td>4.296296</td>\n",
              "      <td>4.777778</td>\n",
              "      <td>4.925926</td>\n",
              "      <td>4.370370</td>\n",
              "      <td>4.185185</td>\n",
              "      <td>3.666667</td>\n",
              "      <td>4.370370</td>\n",
              "      <td>3.814815</td>\n",
              "      <td>4.000000</td>\n",
              "      <td>4.555556</td>\n",
              "      <td>4.888889</td>\n",
              "      <td>2.296296</td>\n",
              "      <td>2.148148</td>\n",
              "      <td>1.481481</td>\n",
              "      <td>2.814815</td>\n",
              "      <td>3.111111</td>\n",
              "      <td>1.518519</td>\n",
              "      <td>4.518519</td>\n",
              "      <td>4.444444</td>\n",
              "    </tr>\n",
              "    <tr>\n",
              "      <th>5</th>\n",
              "      <td>1.095238</td>\n",
              "      <td>1.809524</td>\n",
              "      <td>1.809524</td>\n",
              "      <td>2.095238</td>\n",
              "      <td>2.047619</td>\n",
              "      <td>2.428571</td>\n",
              "      <td>2.190476</td>\n",
              "      <td>2.619048</td>\n",
              "      <td>2.047619</td>\n",
              "      <td>2.857143</td>\n",
              "      <td>2.904762</td>\n",
              "      <td>2.285714</td>\n",
              "      <td>3.476190</td>\n",
              "      <td>1.809524</td>\n",
              "      <td>4.476190</td>\n",
              "      <td>4.000000</td>\n",
              "      <td>4.761905</td>\n",
              "      <td>3.809524</td>\n",
              "      <td>4.190476</td>\n",
              "      <td>4.285714</td>\n",
              "      <td>3.238095</td>\n",
              "      <td>3.380952</td>\n",
              "      <td>3.857143</td>\n",
              "      <td>3.952381</td>\n",
              "      <td>3.809524</td>\n",
              "      <td>4.476190</td>\n",
              "      <td>2.571429</td>\n",
              "      <td>1.619048</td>\n",
              "      <td>1.333333</td>\n",
              "      <td>2.904762</td>\n",
              "      <td>3.809524</td>\n",
              "      <td>1.571429</td>\n",
              "      <td>4.428571</td>\n",
              "      <td>3.761905</td>\n",
              "    </tr>\n",
              "    <tr>\n",
              "      <th>6</th>\n",
              "      <td>1.300000</td>\n",
              "      <td>1.700000</td>\n",
              "      <td>1.650000</td>\n",
              "      <td>1.600000</td>\n",
              "      <td>1.900000</td>\n",
              "      <td>2.800000</td>\n",
              "      <td>1.850000</td>\n",
              "      <td>3.250000</td>\n",
              "      <td>1.700000</td>\n",
              "      <td>2.450000</td>\n",
              "      <td>2.350000</td>\n",
              "      <td>1.150000</td>\n",
              "      <td>3.600000</td>\n",
              "      <td>1.900000</td>\n",
              "      <td>3.550000</td>\n",
              "      <td>4.250000</td>\n",
              "      <td>4.150000</td>\n",
              "      <td>4.400000</td>\n",
              "      <td>4.600000</td>\n",
              "      <td>4.700000</td>\n",
              "      <td>4.000000</td>\n",
              "      <td>4.250000</td>\n",
              "      <td>3.850000</td>\n",
              "      <td>4.100000</td>\n",
              "      <td>3.850000</td>\n",
              "      <td>4.150000</td>\n",
              "      <td>2.550000</td>\n",
              "      <td>1.750000</td>\n",
              "      <td>1.300000</td>\n",
              "      <td>3.150000</td>\n",
              "      <td>3.750000</td>\n",
              "      <td>1.150000</td>\n",
              "      <td>3.250000</td>\n",
              "      <td>4.100000</td>\n",
              "    </tr>\n",
              "    <tr>\n",
              "      <th>7</th>\n",
              "      <td>1.888889</td>\n",
              "      <td>1.222222</td>\n",
              "      <td>1.333333</td>\n",
              "      <td>1.777778</td>\n",
              "      <td>2.777778</td>\n",
              "      <td>3.111111</td>\n",
              "      <td>1.444444</td>\n",
              "      <td>3.444444</td>\n",
              "      <td>2.555556</td>\n",
              "      <td>2.000000</td>\n",
              "      <td>1.222222</td>\n",
              "      <td>1.666667</td>\n",
              "      <td>3.888889</td>\n",
              "      <td>2.111111</td>\n",
              "      <td>4.777778</td>\n",
              "      <td>4.333333</td>\n",
              "      <td>5.000000</td>\n",
              "      <td>4.333333</td>\n",
              "      <td>4.888889</td>\n",
              "      <td>4.000000</td>\n",
              "      <td>4.666667</td>\n",
              "      <td>3.777778</td>\n",
              "      <td>4.555556</td>\n",
              "      <td>3.222222</td>\n",
              "      <td>3.444444</td>\n",
              "      <td>4.888889</td>\n",
              "      <td>2.222222</td>\n",
              "      <td>1.444444</td>\n",
              "      <td>1.111111</td>\n",
              "      <td>3.222222</td>\n",
              "      <td>4.000000</td>\n",
              "      <td>1.222222</td>\n",
              "      <td>4.000000</td>\n",
              "      <td>4.111111</td>\n",
              "    </tr>\n",
              "    <tr>\n",
              "      <th>8</th>\n",
              "      <td>1.666667</td>\n",
              "      <td>1.933333</td>\n",
              "      <td>1.866667</td>\n",
              "      <td>1.333333</td>\n",
              "      <td>2.000000</td>\n",
              "      <td>3.600000</td>\n",
              "      <td>2.600000</td>\n",
              "      <td>2.533333</td>\n",
              "      <td>2.600000</td>\n",
              "      <td>2.266667</td>\n",
              "      <td>2.600000</td>\n",
              "      <td>1.866667</td>\n",
              "      <td>4.400000</td>\n",
              "      <td>1.733333</td>\n",
              "      <td>4.600000</td>\n",
              "      <td>4.533333</td>\n",
              "      <td>4.466667</td>\n",
              "      <td>5.000000</td>\n",
              "      <td>4.266667</td>\n",
              "      <td>4.266667</td>\n",
              "      <td>4.466667</td>\n",
              "      <td>4.066667</td>\n",
              "      <td>3.933333</td>\n",
              "      <td>4.000000</td>\n",
              "      <td>4.266667</td>\n",
              "      <td>4.266667</td>\n",
              "      <td>2.933333</td>\n",
              "      <td>1.533333</td>\n",
              "      <td>1.466667</td>\n",
              "      <td>4.200000</td>\n",
              "      <td>4.333333</td>\n",
              "      <td>1.733333</td>\n",
              "      <td>4.000000</td>\n",
              "      <td>4.533333</td>\n",
              "    </tr>\n",
              "    <tr>\n",
              "      <th>9</th>\n",
              "      <td>1.190476</td>\n",
              "      <td>1.761905</td>\n",
              "      <td>1.857143</td>\n",
              "      <td>1.619048</td>\n",
              "      <td>2.190476</td>\n",
              "      <td>3.523810</td>\n",
              "      <td>2.761905</td>\n",
              "      <td>2.238095</td>\n",
              "      <td>2.428571</td>\n",
              "      <td>2.476190</td>\n",
              "      <td>3.333333</td>\n",
              "      <td>2.142857</td>\n",
              "      <td>3.428571</td>\n",
              "      <td>2.476190</td>\n",
              "      <td>4.761905</td>\n",
              "      <td>4.809524</td>\n",
              "      <td>4.761905</td>\n",
              "      <td>4.809524</td>\n",
              "      <td>4.809524</td>\n",
              "      <td>4.095238</td>\n",
              "      <td>4.000000</td>\n",
              "      <td>3.809524</td>\n",
              "      <td>4.047619</td>\n",
              "      <td>4.047619</td>\n",
              "      <td>4.285714</td>\n",
              "      <td>4.619048</td>\n",
              "      <td>3.142857</td>\n",
              "      <td>1.476190</td>\n",
              "      <td>1.476190</td>\n",
              "      <td>3.095238</td>\n",
              "      <td>3.619048</td>\n",
              "      <td>1.523810</td>\n",
              "      <td>4.190476</td>\n",
              "      <td>4.523810</td>\n",
              "    </tr>\n",
              "  </tbody>\n",
              "</table>\n",
              "</div>"
            ],
            "text/plain": [
              "       Gender ?  ...  Satisfaction_with_Aftersalesservice\n",
              "Model            ...                                     \n",
              "1      1.133333  ...                             3.533333\n",
              "2      1.095238  ...                             4.523810\n",
              "3      1.274510  ...                             4.117647\n",
              "4      1.000000  ...                             4.444444\n",
              "5      1.095238  ...                             3.761905\n",
              "6      1.300000  ...                             4.100000\n",
              "7      1.888889  ...                             4.111111\n",
              "8      1.666667  ...                             4.533333\n",
              "9      1.190476  ...                             4.523810\n",
              "\n",
              "[9 rows x 34 columns]"
            ]
          },
          "metadata": {
            "tags": []
          },
          "execution_count": 121
        }
      ]
    },
    {
      "cell_type": "markdown",
      "metadata": {
        "id": "k1ggZn-MrWm6"
      },
      "source": [
        "#Pre-processing"
      ]
    },
    {
      "cell_type": "code",
      "metadata": {
        "colab": {
          "base_uri": "https://localhost:8080/"
        },
        "id": "bP9hs3rfnRx5",
        "outputId": "39cc9105-13ce-458a-e606-ce3417979b43"
      },
      "source": [
        "dt.isnull().sum()"
      ],
      "execution_count": null,
      "outputs": [
        {
          "output_type": "execute_result",
          "data": {
            "text/plain": [
              "Gender ?                                                                                0\n",
              "Age                                                                                     0\n",
              "Marital Status                                                                          0\n",
              "Current Education                                                                       0\n",
              "Occupation                                                                              0\n",
              "Annual Income                                                                           0\n",
              "Family size                                                                             0\n",
              "Model                                                                                   0\n",
              "How long you collect information before purchasing a car?                               0\n",
              "What is the usage of your car? [Shopping]                                               0\n",
              "What is the usage of your car? [Pick up family members]                                 0\n",
              "What is the usage of your car? [Short drive between cities]                             0\n",
              "What is the usage of your car? [Social Activities]                                      0\n",
              "What is the usage of your car? [Commute to work]                                        0\n",
              "What is the usage of your car? [Load luggage/goods]                                     0\n",
              "Brand                                                                                   0\n",
              "Compeititive Price and discount                                                         0\n",
              "Safety                                                                                  0\n",
              "Comfort                                                                                 0\n",
              "Fuel-efficiency/Mileage                                                                 0\n",
              "Engine                                                                                  0\n",
              "Color                                                                                   0\n",
              "Equipments                                                                              0\n",
              "Exterior Design                                                                         0\n",
              "Interior Design                                                                         0\n",
              "Resale value                                                                            0\n",
              "Better after sales service                                                              0\n",
              "Amount spent                                                                            0\n",
              "Fuel Type                                                                               0\n",
              "Transmission Mode                                                                       0\n",
              "Purchasing Sources                                                                      0\n",
              "Influencers_while_purchasing                                                            0\n",
              "Fashion_item                                                                            0\n",
              "To what extent, do you care other people see what car you are using when you go out?    0\n",
              "Hyundai_App_use                                                                         0\n",
              "Electric_car_awareness                                                                  0\n",
              "Environmently_friendly_cars_infuture                                                    0\n",
              "Payment_mode                                                                            0\n",
              "Satisfaction_with_car                                                                   0\n",
              "Satisfaction_with_Aftersalesservice                                                     0\n",
              "dtype: int64"
            ]
          },
          "metadata": {
            "tags": []
          },
          "execution_count": 122
        }
      ]
    },
    {
      "cell_type": "code",
      "metadata": {
        "colab": {
          "base_uri": "https://localhost:8080/"
        },
        "id": "eLYJ44LcsOSl",
        "outputId": "574303bb-6331-4645-9214-253835f7ce9b"
      },
      "source": [
        "from scipy import stats\n",
        "z = np.abs(stats.zscore(dt[[\"Gender ?\",\"Age\",\"Marital Status\",\"Current Education\",\t\"Occupation\",\t\"Annual Income\",\t\"Family size\",\"How long you collect information before purchasing a car?\",\t\"What is the usage of your car? [Shopping]\",\t\"What is the usage of your car? [Pick up family members]\",\t\"What is the usage of your car? [Short drive between cities]\",\t\"What is the usage of your car? [Social Activities]\",\t\"What is the usage of your car? [Commute to work]\",\t\"What is the usage of your car? [Load luggage/goods]\", \"Brand\",\"Compeititive Price and discount\",\"Safety\",\"Comfort\",\"Engine\",\t\"Color\",\"Equipments\",\t\"Exterior Design\",\t\"Interior Design\",\t\"Resale value\",\t\"Better after sales service\",\"Amount spent\",\"Fuel Type\",\t\"Transmission Mode\",\t\"Fashion_item\",\t\"To what extent, do you care other people see what car you are using when you go out?\",\"Payment_mode\",\t\"Satisfaction_with_car\",\t\"Satisfaction_with_Aftersalesservice\"]]))\n",
        "print(z)"
      ],
      "execution_count": null,
      "outputs": [
        {
          "output_type": "stream",
          "text": [
            "[[1.77951304 0.35294118 0.67028006 ... 0.70731076 0.33814018 0.28234936]\n",
            " [0.56195149 0.35294118 0.67028006 ... 0.70731076 0.33814018 0.28234936]\n",
            " [0.56195149 0.35294118 0.67028006 ... 0.70731076 1.0420238  1.16559606]\n",
            " ...\n",
            " [0.56195149 1.11764706 1.49191369 ... 0.70731076 0.33814018 0.28234936]\n",
            " [0.56195149 1.11764706 1.49191369 ... 2.06645694 0.33814018 1.16559606]\n",
            " [0.56195149 1.11764706 1.49191369 ... 0.70731076 0.33814018 0.28234936]]\n"
          ],
          "name": "stdout"
        }
      ]
    },
    {
      "cell_type": "code",
      "metadata": {
        "colab": {
          "base_uri": "https://localhost:8080/"
        },
        "id": "9Gk-6MrjsOah",
        "outputId": "2134f7ff-1923-44e2-8e76-dafc7cf891f4"
      },
      "source": [
        "threshold = 3\n",
        "print(np.where(z > 3))"
      ],
      "execution_count": null,
      "outputs": [
        {
          "output_type": "stream",
          "text": [
            "(array([  5,   5,   5,   5,  10,  10,  15,  57,  57,  57,  57,  62,  62,\n",
            "        69,  93,  93,  93,  93,  98,  98, 103, 127, 127, 127, 127, 132,\n",
            "       132, 137, 157, 157, 162, 174, 174, 179]), array([14, 15, 16, 31, 15, 17, 21, 14, 15, 16, 31, 15, 17, 21, 14, 15, 16,\n",
            "       31, 15, 17, 21, 14, 15, 16, 31, 15, 17, 21, 15, 17, 21, 15, 17, 21]))\n"
          ],
          "name": "stdout"
        }
      ]
    },
    {
      "cell_type": "code",
      "metadata": {
        "colab": {
          "base_uri": "https://localhost:8080/"
        },
        "id": "Cc0thIuCsOd8",
        "outputId": "e4bca3b5-9cad-4d7b-e139-726687beb3c3"
      },
      "source": [
        "dt.shape"
      ],
      "execution_count": null,
      "outputs": [
        {
          "output_type": "execute_result",
          "data": {
            "text/plain": [
              "(200, 40)"
            ]
          },
          "metadata": {
            "tags": []
          },
          "execution_count": 109
        }
      ]
    },
    {
      "cell_type": "code",
      "metadata": {
        "id": "tnWG7UoSssyX"
      },
      "source": [
        "dt_new = dt[(z < 3).all(axis=1)]"
      ],
      "execution_count": null,
      "outputs": []
    },
    {
      "cell_type": "code",
      "metadata": {
        "colab": {
          "base_uri": "https://localhost:8080/"
        },
        "id": "P2dD_keTsz00",
        "outputId": "de901987-8133-411f-fe15-6357ce77f746"
      },
      "source": [
        "dt_new.shape"
      ],
      "execution_count": null,
      "outputs": [
        {
          "output_type": "execute_result",
          "data": {
            "text/plain": [
              "(184, 40)"
            ]
          },
          "metadata": {
            "tags": []
          },
          "execution_count": 112
        }
      ]
    },
    {
      "cell_type": "code",
      "metadata": {
        "id": "bW7KvIVttFyA"
      },
      "source": [
        "x= dt[features]\n",
        "y=dt[\"Model\"]"
      ],
      "execution_count": null,
      "outputs": []
    },
    {
      "cell_type": "markdown",
      "metadata": {
        "id": "CvcwFz4dONB6"
      },
      "source": [
        "#Feature Selection using Random forest classifier"
      ]
    },
    {
      "cell_type": "code",
      "metadata": {
        "colab": {
          "base_uri": "https://localhost:8080/"
        },
        "id": "esL-QYr8ORyy",
        "outputId": "41c84695-ae2e-4ced-bd0d-15b358bc8efc"
      },
      "source": [
        "from sklearn.ensemble import RandomForestClassifier\n",
        "\n",
        "print(RandomForestClassifier())\n",
        "\n",
        "from sklearn.feature_selection import SelectFromModel"
      ],
      "execution_count": null,
      "outputs": [
        {
          "output_type": "stream",
          "text": [
            "RandomForestClassifier(bootstrap=True, ccp_alpha=0.0, class_weight=None,\n",
            "                       criterion='gini', max_depth=None, max_features='auto',\n",
            "                       max_leaf_nodes=None, max_samples=None,\n",
            "                       min_impurity_decrease=0.0, min_impurity_split=None,\n",
            "                       min_samples_leaf=1, min_samples_split=2,\n",
            "                       min_weight_fraction_leaf=0.0, n_estimators=100,\n",
            "                       n_jobs=None, oob_score=False, random_state=None,\n",
            "                       verbose=0, warm_start=False)\n"
          ],
          "name": "stdout"
        }
      ]
    },
    {
      "cell_type": "code",
      "metadata": {
        "id": "hFNIF5VgPTbM"
      },
      "source": [
        "sel = SelectFromModel(RandomForestClassifier(n_estimators = 100))\n",
        "sel.fit(x_train, y_train)"
      ],
      "execution_count": null,
      "outputs": []
    },
    {
      "cell_type": "code",
      "metadata": {
        "id": "gX-N-WHHPTi5"
      },
      "source": [
        "x= dt[features]\n",
        "y=dt[\"Model\"]"
      ],
      "execution_count": null,
      "outputs": []
    },
    {
      "cell_type": "code",
      "metadata": {
        "id": "hEV-A_ioPkhj"
      },
      "source": [
        "x_train,x_test,y_train,y_test=train_test_split(x,y,test_size=0.2,random_state=42)"
      ],
      "execution_count": null,
      "outputs": []
    },
    {
      "cell_type": "code",
      "metadata": {
        "colab": {
          "base_uri": "https://localhost:8080/"
        },
        "id": "Lb3xF2oKPnAr",
        "outputId": "ef5ba9d1-d0ef-4778-a23c-8c0f21a173cc"
      },
      "source": [
        "sel = SelectFromModel(RandomForestClassifier(n_estimators = 100))\n",
        "sel.fit(x_train, y_train)"
      ],
      "execution_count": null,
      "outputs": [
        {
          "output_type": "execute_result",
          "data": {
            "text/plain": [
              "SelectFromModel(estimator=RandomForestClassifier(bootstrap=True, ccp_alpha=0.0,\n",
              "                                                 class_weight=None,\n",
              "                                                 criterion='gini',\n",
              "                                                 max_depth=None,\n",
              "                                                 max_features='auto',\n",
              "                                                 max_leaf_nodes=None,\n",
              "                                                 max_samples=None,\n",
              "                                                 min_impurity_decrease=0.0,\n",
              "                                                 min_impurity_split=None,\n",
              "                                                 min_samples_leaf=1,\n",
              "                                                 min_samples_split=2,\n",
              "                                                 min_weight_fraction_leaf=0.0,\n",
              "                                                 n_estimators=100, n_jobs=None,\n",
              "                                                 oob_score=False,\n",
              "                                                 random_state=None, verbose=0,\n",
              "                                                 warm_start=False),\n",
              "                max_features=None, norm_order=1, prefit=False, threshold=None)"
            ]
          },
          "metadata": {
            "tags": []
          },
          "execution_count": 64
        }
      ]
    },
    {
      "cell_type": "code",
      "metadata": {
        "colab": {
          "base_uri": "https://localhost:8080/"
        },
        "id": "e-wWp277PpVD",
        "outputId": "f3c1323c-e3ad-4612-88f3-7c62a9ad92e1"
      },
      "source": [
        "sel.get_support()"
      ],
      "execution_count": null,
      "outputs": [
        {
          "output_type": "execute_result",
          "data": {
            "text/plain": [
              "array([False,  True, False, False,  True,  True,  True,  True,  True,\n",
              "        True,  True,  True,  True,  True, False, False, False,  True,\n",
              "       False,  True,  True, False, False, False, False,  True, False,\n",
              "       False,  True, False, False,  True, False])"
            ]
          },
          "metadata": {
            "tags": []
          },
          "execution_count": 65
        }
      ]
    },
    {
      "cell_type": "code",
      "metadata": {
        "colab": {
          "base_uri": "https://localhost:8080/"
        },
        "id": "jszmOspmPrzm",
        "outputId": "3ef997a5-fd37-4b40-9b1a-e0dc4920ef51"
      },
      "source": [
        "selected_feat= x_train.columns[(sel.get_support())]\n",
        "len(selected_feat)\n",
        "print(selected_feat)"
      ],
      "execution_count": null,
      "outputs": [
        {
          "output_type": "stream",
          "text": [
            "Index(['Age', 'Occupation', 'Annual Income', 'Family size',\n",
            "       'How long you collect information before purchasing a car?',\n",
            "       'What is the usage of your car? [Shopping]',\n",
            "       'What is the usage of your car? [Pick up family members]',\n",
            "       'What is the usage of your car? [Short drive between cities]',\n",
            "       'What is the usage of your car? [Social Activities]',\n",
            "       'What is the usage of your car? [Commute to work]',\n",
            "       'What is the usage of your car? [Load luggage/goods]', 'Comfort',\n",
            "       'Color', 'Equipments', 'Amount spent', 'Fashion_item',\n",
            "       'Satisfaction_with_car'],\n",
            "      dtype='object')\n"
          ],
          "name": "stdout"
        }
      ]
    },
    {
      "cell_type": "code",
      "metadata": {
        "colab": {
          "base_uri": "https://localhost:8080/",
          "height": 282
        },
        "id": "4uo6PNmvPytk",
        "outputId": "02c8aea5-7aed-48d7-8913-e81f05659f55"
      },
      "source": [
        "pd.Series(sel.estimator_.feature_importances_.ravel()).hist()"
      ],
      "execution_count": null,
      "outputs": [
        {
          "output_type": "execute_result",
          "data": {
            "text/plain": [
              "<matplotlib.axes._subplots.AxesSubplot at 0x7ffaf5b9e050>"
            ]
          },
          "metadata": {
            "tags": []
          },
          "execution_count": 68
        },
        {
          "output_type": "display_data",
          "data": {
            "image/png": "[encoded data removed]",
            "text/plain": [
              "<Figure size 432x288 with 1 Axes>"
            ]
          },
          "metadata": {
            "tags": [],
            "needs_background": "light"
          }
        }
      ]
    },
    {
      "cell_type": "code",
      "metadata": {
        "colab": {
          "base_uri": "https://localhost:8080/",
          "height": 282
        },
        "id": "nrxmrMJePr1l",
        "outputId": "75804d9d-8abc-4e60-c657-6e6269589660"
      },
      "source": [
        "(pd.Series(sel.estimator_.feature_importances_, index=x.columns)\n",
        "   .nlargest(17)\n",
        "   .plot(kind='barh'))"
      ],
      "execution_count": null,
      "outputs": [
        {
          "output_type": "execute_result",
          "data": {
            "text/plain": [
              "<matplotlib.axes._subplots.AxesSubplot at 0x7ffaf5281e50>"
            ]
          },
          "metadata": {
            "tags": []
          },
          "execution_count": 69
        },
        {
          "output_type": "display_data",
          "data": {
            "image/png": "[encoded data removed]",
            "text/plain": [
              "<Figure size 432x288 with 1 Axes>"
            ]
          },
          "metadata": {
            "tags": [],
            "needs_background": "light"
          }
        }
      ]
    },
    {
      "cell_type": "markdown",
      "metadata": {
        "id": "j3UDbo9Btvjq"
      },
      "source": [
        "#Train Test Split"
      ]
    },
    {
      "cell_type": "code",
      "metadata": {
        "id": "VswawjVOOUhA"
      },
      "source": [
        "x=dt[['Occupation', 'Annual Income',\n",
        "       'How long you collect information before purchasing a car?',\n",
        "       'What is the usage of your car? [Shopping]',\n",
        "       'What is the usage of your car? [Pick up family members]',\n",
        "       'What is the usage of your car? [Short drive between cities]',\n",
        "       'What is the usage of your car? [Social Activities]',\n",
        "       'What is the usage of your car? [Commute to work]',\n",
        "       'What is the usage of your car? [Load luggage/goods]', 'Comfort',\n",
        "       'Color', 'Equipments', 'Amount spent', 'Fuel Type', 'Fashion_item',\n",
        "       'Payment_mode', 'Satisfaction_with_car']]\n",
        "y=dt['Model']"
      ],
      "execution_count": null,
      "outputs": []
    },
    {
      "cell_type": "code",
      "metadata": {
        "id": "fjFMOyHW7cCQ"
      },
      "source": [
        "x_train,x_test,y_train,y_test=train_test_split(x,y,test_size=0.2,random_state=42)"
      ],
      "execution_count": null,
      "outputs": []
    },
    {
      "cell_type": "markdown",
      "metadata": {
        "id": "rXJwvFAV0UZG"
      },
      "source": [
        "#Decision Tree classifier"
      ]
    },
    {
      "cell_type": "code",
      "metadata": {
        "id": "LJEwwZam6wND"
      },
      "source": [
        "from sklearn import tree\n",
        "model1 = tree.DecisionTreeClassifier(criterion='entropy',\n",
        " max_depth=4,\n",
        " max_leaf_nodes=14,\n",
        " min_samples_split=2)"
      ],
      "execution_count": null,
      "outputs": []
    },
    {
      "cell_type": "code",
      "metadata": {
        "colab": {
          "base_uri": "https://localhost:8080/"
        },
        "id": "miHY2FPW6zi-",
        "outputId": "c021c74d-7e97-4171-f25f-6f5395ab3279"
      },
      "source": [
        "model1.fit(x, y)"
      ],
      "execution_count": null,
      "outputs": [
        {
          "output_type": "execute_result",
          "data": {
            "text/plain": [
              "DecisionTreeClassifier(ccp_alpha=0.0, class_weight=None, criterion='entropy',\n",
              "                       max_depth=4, max_features=None, max_leaf_nodes=14,\n",
              "                       min_impurity_decrease=0.0, min_impurity_split=None,\n",
              "                       min_samples_leaf=1, min_samples_split=2,\n",
              "                       min_weight_fraction_leaf=0.0, presort='deprecated',\n",
              "                       random_state=None, splitter='best')"
            ]
          },
          "metadata": {
            "tags": []
          },
          "execution_count": 237
        }
      ]
    },
    {
      "cell_type": "code",
      "metadata": {
        "colab": {
          "base_uri": "https://localhost:8080/"
        },
        "id": "eoONnYHO68PX",
        "outputId": "c2f96da1-3c16-455a-a136-353f3e4f92f3"
      },
      "source": [
        "y_predicted=model1.predict(x_test)\n",
        "y_predicted"
      ],
      "execution_count": null,
      "outputs": [
        {
          "output_type": "execute_result",
          "data": {
            "text/plain": [
              "array([2, 2, 4, 3, 1, 6, 2, 4, 5, 6, 6, 5, 5, 8, 3, 3, 2, 4, 8, 9, 3, 3,\n",
              "       9, 6, 3, 3, 4, 3, 1, 5, 4, 5, 1, 9, 8, 3, 3, 2, 2, 3])"
            ]
          },
          "metadata": {
            "tags": []
          },
          "execution_count": 238
        }
      ]
    },
    {
      "cell_type": "code",
      "metadata": {
        "colab": {
          "base_uri": "https://localhost:8080/"
        },
        "id": "dBZgUHU52kx7",
        "outputId": "bdc1c2aa-b62f-494e-cdaf-39f38653a104"
      },
      "source": [
        "DT_confusion_matrix= metrics.confusion_matrix(y_test,y_predicted)\n",
        "print(DT_confusion_matrix)"
      ],
      "execution_count": null,
      "outputs": [
        {
          "output_type": "stream",
          "text": [
            "[[ 1  1  1  0  0  0  0  0  0]\n",
            " [ 0  5  0  0  0  0  0  0  0]\n",
            " [ 2  0 10  1  0  1  0  0  1]\n",
            " [ 0  0  0  4  0  1  0  0  0]\n",
            " [ 0  0  0  0  5  0  0  0  0]\n",
            " [ 0  0  0  0  0  0  0  0  0]\n",
            " [ 0  0  0  0  0  2  0  0  0]\n",
            " [ 0  0  0  0  0  0  0  3  0]\n",
            " [ 0  0  0  0  0  0  0  0  2]]\n"
          ],
          "name": "stdout"
        }
      ]
    },
    {
      "cell_type": "code",
      "metadata": {
        "colab": {
          "base_uri": "https://localhost:8080/"
        },
        "id": "9SqGcyY-269_",
        "outputId": "f7d294b6-d1e3-4972-e340-2e971006bca6"
      },
      "source": [
        "from sklearn.metrics import classification_report, accuracy_score,precision_score,recall_score,f1_score,matthews_corrcoef\n",
        "from sklearn.metrics import confusion_matrix\n",
        "\n",
        "print(\"The model used is Decision Tree\")\n",
        "acc= accuracy_score(y_test,y_predicted)\n",
        "print(\"The accuracy is {} %\".format(acc*100))\n",
        "prec= precision_score(y_test,y_predicted,average='micro')\n",
        "print(\"The precision is {} %\".format(prec*100))\n",
        "rec= recall_score(y_test,y_predicted,average='micro')\n",
        "print(\"The recall is {} %\".format(rec*100))\n",
        "f1= f1_score(y_test,y_predicted,average='micro')\n",
        "print(\"The F1-Score is {} %\".format(f1*100))"
      ],
      "execution_count": null,
      "outputs": [
        {
          "output_type": "stream",
          "text": [
            "The model used is Decision Tree\n",
            "The accuracy is 75.0 %\n",
            "The precision is 75.0 %\n",
            "The recall is 75.0 %\n",
            "The F1-Score is 75.0 %\n"
          ],
          "name": "stdout"
        }
      ]
    },
    {
      "cell_type": "code",
      "metadata": {
        "colab": {
          "base_uri": "https://localhost:8080/"
        },
        "id": "MkGcafnN3P2r",
        "outputId": "3b16360c-6813-47ba-fe07-a2a6d3336191"
      },
      "source": [
        "y_train_pred_dt = model1.predict(x_train)\n",
        "DT_train_accuracy = accuracy_score(y_train,y_train_pred_dt)\n",
        "DT_train_f1 = f1_score(y_train,y_train_pred_dt,average='micro')\n",
        "print(\"Decision Tree Training Accuracy: \", DT_train_accuracy)\n",
        "print(\"Decision Tree Training F1 Score: \", DT_train_f1)"
      ],
      "execution_count": null,
      "outputs": [
        {
          "output_type": "stream",
          "text": [
            "Decision Tree Training Accuracy:  0.725\n",
            "Decision Tree Training F1 Score:  0.7250000000000001\n"
          ],
          "name": "stdout"
        }
      ]
    },
    {
      "cell_type": "code",
      "metadata": {
        "id": "iQotYH96iXOl"
      },
      "source": [
        "from sklearn.metrics import roc_auc_score\n",
        "from sklearn.preprocessing import LabelBinarizer"
      ],
      "execution_count": null,
      "outputs": []
    },
    {
      "cell_type": "code",
      "metadata": {
        "colab": {
          "base_uri": "https://localhost:8080/"
        },
        "id": "mqXUUNGWmrvq",
        "outputId": "9286c39c-7840-463a-ae88-a5fad0eff65c"
      },
      "source": [
        "def multiclass_roc_auc_score(y_test, y_pred, average=\"macro\"):\n",
        " lb = LabelBinarizer()\n",
        " lb.fit(y_test)\n",
        " y_test = lb.transform(y_test)\n",
        " y_pred = lb.transform(y_pred)\n",
        " return roc_auc_score(y_test, y_pred, average=average)\n",
        "print(multiclass_roc_auc_score(y_test, y_pred, average=\"macro\"))"
      ],
      "execution_count": null,
      "outputs": [
        {
          "output_type": "stream",
          "text": [
            "0.8810708358734674\n"
          ],
          "name": "stdout"
        }
      ]
    },
    {
      "cell_type": "code",
      "metadata": {
        "colab": {
          "base_uri": "https://localhost:8080/"
        },
        "id": "JsTHRdWtyO5Z",
        "outputId": "333efdd3-487c-43e9-acc4-54b9009b772f"
      },
      "source": [
        "params = {'criterion': ['gini','entropy'], 'max_leaf_nodes': list(range(2, 50)), 'min_samples_split': list(range(2, 5)), 'max_depth': [2,3,4]}\n",
        "DT_grid_search_cv = GridSearchCV(model1, params, verbose=1, cv=5)\n",
        "DT_grid_search_cv.fit(x_train,y_train)"
      ],
      "execution_count": null,
      "outputs": [
        {
          "output_type": "stream",
          "text": [
            "Fitting 5 folds for each of 864 candidates, totalling 4320 fits\n"
          ],
          "name": "stdout"
        },
        {
          "output_type": "stream",
          "text": [
            "[Parallel(n_jobs=1)]: Using backend SequentialBackend with 1 concurrent workers.\n",
            "[Parallel(n_jobs=1)]: Done 4320 out of 4320 | elapsed:   12.0s finished\n"
          ],
          "name": "stderr"
        },
        {
          "output_type": "execute_result",
          "data": {
            "text/plain": [
              "GridSearchCV(cv=5, error_score=nan,\n",
              "             estimator=DecisionTreeClassifier(ccp_alpha=0.0, class_weight=None,\n",
              "                                              criterion='gini', max_depth=None,\n",
              "                                              max_features=None,\n",
              "                                              max_leaf_nodes=None,\n",
              "                                              min_impurity_decrease=0.0,\n",
              "                                              min_impurity_split=None,\n",
              "                                              min_samples_leaf=1,\n",
              "                                              min_samples_split=2,\n",
              "                                              min_weight_fraction_leaf=0.0,\n",
              "                                              presort='deprecated',\n",
              "                                              random_state=None,\n",
              "                                              splitter='best'),\n",
              "             iid='deprecated', n_jobs=None,\n",
              "             param_grid={'criterion': ['gini', 'entropy'],\n",
              "                         'max_depth': [2, 3, 4],\n",
              "                         'max_leaf_nodes': [2, 3, 4, 5, 6, 7, 8, 9, 10, 11, 12,\n",
              "                                            13, 14, 15, 16, 17, 18, 19, 20, 21,\n",
              "                                            22, 23, 24, 25, 26, 27, 28, 29, 30,\n",
              "                                            31, ...],\n",
              "                         'min_samples_split': [2, 3, 4]},\n",
              "             pre_dispatch='2*n_jobs', refit=True, return_train_score=False,\n",
              "             scoring=None, verbose=1)"
            ]
          },
          "metadata": {
            "tags": []
          },
          "execution_count": 231
        }
      ]
    },
    {
      "cell_type": "code",
      "metadata": {
        "colab": {
          "base_uri": "https://localhost:8080/"
        },
        "id": "rxf0S04rzQ6r",
        "outputId": "80119ec9-5d11-45eb-8e90-48fa1947c111"
      },
      "source": [
        "DT_grid_search_cv.best_params_"
      ],
      "execution_count": null,
      "outputs": [
        {
          "output_type": "execute_result",
          "data": {
            "text/plain": [
              "{'criterion': 'entropy',\n",
              " 'max_depth': 4,\n",
              " 'max_leaf_nodes': 14,\n",
              " 'min_samples_split': 2}"
            ]
          },
          "metadata": {
            "tags": []
          },
          "execution_count": 232
        }
      ]
    },
    {
      "cell_type": "markdown",
      "metadata": {
        "id": "5fMdgySK9TYY"
      },
      "source": [
        "#RANDOM FOREST CLASSIFIER"
      ]
    },
    {
      "cell_type": "code",
      "metadata": {
        "id": "3En8eM6V9aJm"
      },
      "source": [
        "# Building the Random Forest Classifier (RANDOM FOREST)\n",
        "from sklearn.ensemble import RandomForestClassifier\n",
        "# random forest model creation\n",
        "model2= RandomForestClassifier(n_estimators=200,min_samples_leaf=5,random_state=42)\n",
        "model2.fit(x_train,y_train)\n",
        "# predictions\n",
        "y_pred = model2.predict(x_test)\n",
        "\n"
      ],
      "execution_count": null,
      "outputs": []
    },
    {
      "cell_type": "code",
      "metadata": {
        "colab": {
          "base_uri": "https://localhost:8080/",
          "height": 338
        },
        "id": "_0xqcK55uqMH",
        "outputId": "785aef47-3ca2-4c6e-a415-db597c14222e"
      },
      "source": [
        "cnf_matrix = metrics.confusion_matrix(y_test, y_pred)\n",
        "cnf_matrix\n",
        "class_names=[0,1] # name  of classes\n",
        "fig, ax = plt.subplots()\n",
        "tick_marks = np.arange(len(class_names))\n",
        "plt.xticks(tick_marks, class_names)\n",
        "plt.yticks(tick_marks, class_names)\n",
        "# create heatmap\n",
        "sns.heatmap(pd.DataFrame(cnf_matrix), annot=True, cmap=\"viridis\" ,fmt='g')\n",
        "ax.xaxis.set_label_position(\"top\")\n",
        "plt.tight_layout()\n",
        "plt.title('Confusion matrix', y=1.1)\n",
        "plt.ylabel('Actual label')\n",
        "plt.xlabel('Predicted label')"
      ],
      "execution_count": null,
      "outputs": [
        {
          "output_type": "execute_result",
          "data": {
            "text/plain": [
              "Text(0.5, 257.44, 'Predicted label')"
            ]
          },
          "metadata": {
            "tags": []
          },
          "execution_count": 203
        },
        {
          "output_type": "display_data",
          "data": {
            "image/png": "[encoded data removed]",
            "text/plain": [
              "<Figure size 432x288 with 2 Axes>"
            ]
          },
          "metadata": {
            "tags": [],
            "needs_background": "light"
          }
        }
      ]
    },
    {
      "cell_type": "code",
      "metadata": {
        "colab": {
          "base_uri": "https://localhost:8080/"
        },
        "id": "Y9EZNIg3u_ZE",
        "outputId": "0dbff33d-d186-46ce-e14c-f1b431463667"
      },
      "source": [
        "#Evaluating the classifier\n",
        "#printing every score of the classifier\n",
        "#scoring in any thing\n",
        "\n",
        "\n",
        "print(\"The model used is Random Forest classifier\")\n",
        "acc= accuracy_score(y_test,y_pred)\n",
        "print(\"The accuracy is {} %\".format(acc*100))\n",
        "prec= precision_score(y_test,y_pred,average='micro')\n",
        "print(\"The precision is {} %\".format(prec*100))\n",
        "rec= recall_score(y_test,y_pred,average='micro')\n",
        "print(\"The recall is {} %\".format(rec*100))\n",
        "f1= f1_score(y_test,y_pred,average='micro')\n",
        "print(\"The F1-Score is {} %\".format(f1*100))\n"
      ],
      "execution_count": null,
      "outputs": [
        {
          "output_type": "stream",
          "text": [
            "The model used is Random Forest classifier\n",
            "The accuracy is 77.5 %\n",
            "The precision is 77.5 %\n",
            "The recall is 77.5 %\n",
            "The F1-Score is 77.5 %\n"
          ],
          "name": "stdout"
        }
      ]
    },
    {
      "cell_type": "code",
      "metadata": {
        "colab": {
          "base_uri": "https://localhost:8080/"
        },
        "id": "S-A-59KPw8Wc",
        "outputId": "76877b02-1725-4f6d-8117-e323d5b1a354"
      },
      "source": [
        "y_train_pred_RF = model2.predict(x_train)\n",
        "RF_train_accuracy = accuracy_score(y_train,y_train_pred_RF)\n",
        "RF_train_f1 = f1_score(y_train,y_train_pred_RF,average='micro')\n",
        "print(\"Random Forest Training Accuracy: \", RF_train_accuracy*100, \"%\")\n",
        "print(\"Random Forest Training F1 Score: \", RF_train_f1*100, \"%\")"
      ],
      "execution_count": null,
      "outputs": [
        {
          "output_type": "stream",
          "text": [
            "Random Forest Training Accuracy:  84.375 %\n",
            "Random Forest Training F1 Score:  84.375 %\n"
          ],
          "name": "stdout"
        }
      ]
    },
    {
      "cell_type": "code",
      "metadata": {
        "colab": {
          "base_uri": "https://localhost:8080/"
        },
        "id": "OwDlSFthpOLr",
        "outputId": "85b4c5eb-e57f-4f52-aaea-05771932e82d"
      },
      "source": [
        "def multiclass_roc_auc_score(y_test, y_pred, average=\"macro\"):\n",
        " lb = LabelBinarizer()\n",
        " lb.fit(y_test)\n",
        " y_test = lb.transform(y_test)\n",
        " y_pred = lb.transform(y_pred)\n",
        " return roc_auc_score(y_test, y_pred, average=average)\n",
        "print(multiclass_roc_auc_score(y_test, y_pred, average=\"macro\"))"
      ],
      "execution_count": null,
      "outputs": [
        {
          "output_type": "stream",
          "text": [
            "0.8810708358734674\n"
          ],
          "name": "stdout"
        }
      ]
    },
    {
      "cell_type": "code",
      "metadata": {
        "id": "86ZKUjQlv_j1"
      },
      "source": [
        "model_params = {\n",
        "    'n_estimators': [10,20,50,100,200],\n",
        "    'min_samples_leaf': [5,10,15,20],\n",
        "    'min_samples_split': [4, 6,8,10],\n",
        "    'max_depth': [5,6,7]\n",
        "}"
      ],
      "execution_count": null,
      "outputs": []
    },
    {
      "cell_type": "code",
      "metadata": {
        "colab": {
          "base_uri": "https://localhost:8080/"
        },
        "id": "urIe5_YFwCA8",
        "outputId": "465af169-5d77-40e2-f9cb-821fb949d072"
      },
      "source": [
        "from sklearn.model_selection import GridSearchCV\n",
        "\n",
        "# create random forest classifier model\n",
        "rf_model = RandomForestClassifier(random_state=1)\n",
        "\n",
        "# set up grid search meta-estimator\n",
        "clf = GridSearchCV(rf_model, model_params, cv = 5, n_jobs = -1, verbose = 2)\n",
        "\n",
        "# train the grid search meta-estimator to find the best model\n",
        "model = clf.fit(x_train, y_train)\n",
        "\n",
        "# print winning set of hyperparameters\n",
        "print(model.best_estimator_.get_params())"
      ],
      "execution_count": null,
      "outputs": [
        {
          "output_type": "stream",
          "text": [
            "Fitting 5 folds for each of 240 candidates, totalling 1200 fits\n"
          ],
          "name": "stdout"
        },
        {
          "output_type": "stream",
          "text": [
            "[Parallel(n_jobs=-1)]: Using backend LokyBackend with 2 concurrent workers.\n",
            "[Parallel(n_jobs=-1)]: Done  37 tasks      | elapsed:    3.9s\n",
            "[Parallel(n_jobs=-1)]: Done 158 tasks      | elapsed:   15.8s\n",
            "[Parallel(n_jobs=-1)]: Done 361 tasks      | elapsed:   35.1s\n",
            "[Parallel(n_jobs=-1)]: Done 644 tasks      | elapsed:  1.0min\n",
            "[Parallel(n_jobs=-1)]: Done 1009 tasks      | elapsed:  1.6min\n",
            "[Parallel(n_jobs=-1)]: Done 1200 out of 1200 | elapsed:  1.9min finished\n"
          ],
          "name": "stderr"
        },
        {
          "output_type": "stream",
          "text": [
            "{'bootstrap': True, 'ccp_alpha': 0.0, 'class_weight': None, 'criterion': 'gini', 'max_depth': 5, 'max_features': 'auto', 'max_leaf_nodes': None, 'max_samples': None, 'min_impurity_decrease': 0.0, 'min_impurity_split': None, 'min_samples_leaf': 5, 'min_samples_split': 4, 'min_weight_fraction_leaf': 0.0, 'n_estimators': 200, 'n_jobs': None, 'oob_score': False, 'random_state': 1, 'verbose': 0, 'warm_start': False}\n"
          ],
          "name": "stdout"
        }
      ]
    },
    {
      "cell_type": "markdown",
      "metadata": {
        "id": "95VkYVxuz8VO"
      },
      "source": [
        "#Naive Bayes Algo"
      ]
    },
    {
      "cell_type": "code",
      "metadata": {
        "id": "jGXEGoZzonJf"
      },
      "source": [
        "from sklearn.naive_bayes import GaussianNB\n",
        "\n",
        "model3= GaussianNB()\n",
        "model3.fit(x_train, y_train)\n",
        "y_pred = model3.predict(x_test)# reasonate with reason why used Gaussian"
      ],
      "execution_count": null,
      "outputs": []
    },
    {
      "cell_type": "code",
      "metadata": {
        "colab": {
          "base_uri": "https://localhost:8080/"
        },
        "id": "cGnG8PQrxVQI",
        "outputId": "67be47fa-1202-48dc-be2f-15567beb94ed"
      },
      "source": [
        "print(\"The model used is Naive Bayes classifier\")\n",
        "acc= accuracy_score(y_test,y_pred)\n",
        "print(\"The accuracy is {} %\".format(acc*100))\n",
        "prec= precision_score(y_test,y_pred,average='micro')\n",
        "print(\"The precision is {} %\".format(prec*100))\n",
        "rec= recall_score(y_test,y_pred,average='micro')\n",
        "print(\"The recall is {} %\".format(rec*100))\n",
        "f1= f1_score(y_test,y_pred,average='micro')\n",
        "print(\"The F1-Score is {} %\".format(f1*100))"
      ],
      "execution_count": null,
      "outputs": [
        {
          "output_type": "stream",
          "text": [
            "The model used is Naive Bayes classifier\n",
            "The accuracy is 40.0 %\n",
            "The precision is 40.0 %\n",
            "The recall is 40.0 %\n",
            "The F1-Score is 40.00000000000001 %\n"
          ],
          "name": "stdout"
        }
      ]
    },
    {
      "cell_type": "code",
      "metadata": {
        "colab": {
          "base_uri": "https://localhost:8080/"
        },
        "id": "33SHPTChxlm2",
        "outputId": "6d6e8861-8985-42ae-a545-ef39911d5f3a"
      },
      "source": [
        "y_train_pred_nb = model3.predict(x_train)\n",
        "NB_train_accuracy = accuracy_score(y_train,y_train_pred_nb)\n",
        "NB_train_f1 = f1_score(y_train,y_train_pred_nb,average='micro')\n",
        "print(\"Naive Bayes Training Accuracy: \", NB_train_accuracy*100,\"%\")\n",
        "print(\"Naive Bayes Training F1 Score: \", NB_train_f1*100,\"%\")"
      ],
      "execution_count": null,
      "outputs": [
        {
          "output_type": "stream",
          "text": [
            "Naive Bayes Training Accuracy:  50.625 %\n",
            "Naive Bayes Training F1 Score:  50.625 %\n"
          ],
          "name": "stdout"
        }
      ]
    },
    {
      "cell_type": "code",
      "metadata": {
        "colab": {
          "base_uri": "https://localhost:8080/"
        },
        "id": "6uDYwceix8SD",
        "outputId": "6a558a7e-99b1-4f24-e1e3-cfc014b2d5fe"
      },
      "source": [
        "NB_confusion_matrix= metrics.confusion_matrix(y_test,y_pred)\n",
        "print(NB_confusion_matrix)"
      ],
      "execution_count": null,
      "outputs": [
        {
          "output_type": "stream",
          "text": [
            "[[ 1  1  0  1  0  0  0  0  0]\n",
            " [ 1  4  0  0  0  0  0  0  0]\n",
            " [ 2  0  0 12  0  0  0  0  1]\n",
            " [ 0  0  0  4  0  1  0  0  0]\n",
            " [ 0  0  0  3  2  0  0  0  0]\n",
            " [ 0  0  0  0  0  0  0  0  0]\n",
            " [ 0  0  0  0  0  0  2  0  0]\n",
            " [ 0  0  0  0  0  0  0  3  0]\n",
            " [ 0  0  0  0  0  0  0  2  0]]\n"
          ],
          "name": "stdout"
        }
      ]
    },
    {
      "cell_type": "code",
      "metadata": {
        "colab": {
          "base_uri": "https://localhost:8080/",
          "height": 338
        },
        "id": "PdzMmtu4x_XU",
        "outputId": "c17d75bc-ac92-4512-fb7e-5a0b5a93be6a"
      },
      "source": [
        "class_names=[0,1] # name  of classes\n",
        "fig, ax = plt.subplots()\n",
        "tick_marks = np.arange(len(class_names))\n",
        "plt.xticks(tick_marks, class_names)\n",
        "plt.yticks(tick_marks, class_names)\n",
        "# create heatmap\n",
        "sns.heatmap(pd.DataFrame(NB_confusion_matrix), annot=True, cmap=\"viridis\" ,fmt='g')\n",
        "ax.xaxis.set_label_position(\"top\")\n",
        "plt.tight_layout()\n",
        "plt.title('Confusion matrix', y=1.1)\n",
        "plt.ylabel('Actual label')\n",
        "plt.xlabel('Predicted label')"
      ],
      "execution_count": null,
      "outputs": [
        {
          "output_type": "execute_result",
          "data": {
            "text/plain": [
              "Text(0.5, 257.44, 'Predicted label')"
            ]
          },
          "metadata": {
            "tags": []
          },
          "execution_count": 157
        },
        {
          "output_type": "display_data",
          "data": {
            "image/png": "[encoded data removed]",
            "text/plain": [
              "<Figure size 432x288 with 2 Axes>"
            ]
          },
          "metadata": {
            "tags": [],
            "needs_background": "light"
          }
        }
      ]
    },
    {
      "cell_type": "code",
      "metadata": {
        "colab": {
          "base_uri": "https://localhost:8080/"
        },
        "id": "l0RZW1ompYKY",
        "outputId": "5c726df5-f43b-47de-e5c1-c243afb3c628"
      },
      "source": [
        "def multiclass_roc_auc_score(y_test, y_pred, average=\"macro\"):\n",
        " lb = LabelBinarizer()\n",
        " lb.fit(y_test)\n",
        " y_test = lb.transform(y_test)\n",
        " y_pred = lb.transform(y_pred)\n",
        " return roc_auc_score(y_test, y_pred, average=average)\n",
        "print(multiclass_roc_auc_score(y_test, y_pred, average=\"macro\"))"
      ],
      "execution_count": null,
      "outputs": [
        {
          "output_type": "stream",
          "text": [
            "0.7303855076881394\n"
          ],
          "name": "stdout"
        }
      ]
    },
    {
      "cell_type": "markdown",
      "metadata": {
        "id": "Po9_fNllz2QD"
      },
      "source": [
        "#SVM Algo"
      ]
    },
    {
      "cell_type": "code",
      "metadata": {
        "id": "byI7xOT8v4wn",
        "colab": {
          "base_uri": "https://localhost:8080/"
        },
        "outputId": "d1330492-b97c-42a2-ccc6-0fc8040ecfdf"
      },
      "source": [
        "from sklearn.svm import SVC\n",
        "model4 = SVC(C=1, gamma=1, kernel='rbf')\n",
        "model4.fit(x_train, y_train)"
      ],
      "execution_count": null,
      "outputs": [
        {
          "output_type": "execute_result",
          "data": {
            "text/plain": [
              "SVC(C=1, break_ties=False, cache_size=200, class_weight=None, coef0=0.0,\n",
              "    decision_function_shape='ovr', degree=3, gamma=1, kernel='rbf', max_iter=-1,\n",
              "    probability=False, random_state=None, shrinking=True, tol=0.001,\n",
              "    verbose=False)"
            ]
          },
          "metadata": {
            "tags": []
          },
          "execution_count": 247
        }
      ]
    },
    {
      "cell_type": "code",
      "metadata": {
        "id": "hdpQLzahwu8q"
      },
      "source": [
        "y_pred=model4.predict(x_test)"
      ],
      "execution_count": null,
      "outputs": []
    },
    {
      "cell_type": "code",
      "metadata": {
        "colab": {
          "base_uri": "https://localhost:8080/"
        },
        "id": "HksGi9lXyhZC",
        "outputId": "828761ce-5fbd-48fa-8333-9e14702b820a"
      },
      "source": [
        "print(\"The model used is SVM\")\n",
        "acc= accuracy_score(y_test,y_pred)\n",
        "print(\"The accuracy is {} %\".format(acc*100))\n",
        "prec= precision_score(y_test,y_pred,average='micro')\n",
        "print(\"The precision is {} %\".format(prec*100))\n",
        "rec= recall_score(y_test,y_pred,average='micro')\n",
        "print(\"The recall is {} %\".format(rec*100))\n",
        "f1= f1_score(y_test,y_pred,average='micro')\n",
        "print(\"The F1-Score is {} %\".format(f1*100))"
      ],
      "execution_count": null,
      "outputs": [
        {
          "output_type": "stream",
          "text": [
            "The model used is SVM\n",
            "The accuracy is 82.5 %\n",
            "The precision is 82.5 %\n",
            "The recall is 82.5 %\n",
            "The F1-Score is 82.5 %\n"
          ],
          "name": "stdout"
        }
      ]
    },
    {
      "cell_type": "code",
      "metadata": {
        "colab": {
          "base_uri": "https://localhost:8080/"
        },
        "id": "BUW6_Qouy0tb",
        "outputId": "7d38dfe1-4940-4c5a-f96f-cd15416027c9"
      },
      "source": [
        "y_train_pred_svm = model4.predict(x_train)\n",
        "svm_train_accuracy = accuracy_score(y_train,y_train_pred_svm)\n",
        "svm_train_f1 = f1_score(y_train,y_train_pred_svm,average='micro')\n",
        "print(\"SVM Training Accuracy: \", svm_train_accuracy*100,\"%\")\n",
        "print(\"SVMTraining F1 Score: \", svm_train_f1*100,\"%\")"
      ],
      "execution_count": null,
      "outputs": [
        {
          "output_type": "stream",
          "text": [
            "SVM Training Accuracy:  85.625 %\n",
            "SVMTraining F1 Score:  85.625 %\n"
          ],
          "name": "stdout"
        }
      ]
    },
    {
      "cell_type": "code",
      "metadata": {
        "colab": {
          "base_uri": "https://localhost:8080/"
        },
        "id": "Y10txivJpcQ_",
        "outputId": "80d16449-4aae-4e37-f99a-6053a5dd80a2"
      },
      "source": [
        "def multiclass_roc_auc_score(y_test, y_pred, average=\"macro\"):\n",
        " lb = LabelBinarizer()\n",
        " lb.fit(y_test)\n",
        " y_test = lb.transform(y_test)\n",
        " y_pred = lb.transform(y_pred)\n",
        " return roc_auc_score(y_test, y_pred, average=average)\n",
        "print(multiclass_roc_auc_score(y_test, y_pred, average=\"macro\"))"
      ],
      "execution_count": null,
      "outputs": [
        {
          "output_type": "stream",
          "text": [
            "0.9239279787306103\n"
          ],
          "name": "stdout"
        }
      ]
    },
    {
      "cell_type": "code",
      "metadata": {
        "colab": {
          "base_uri": "https://localhost:8080/"
        },
        "id": "cHXsT5ap2AFJ",
        "outputId": "d5b44ef1-9b00-4898-90dc-6ff3b18dab26"
      },
      "source": [
        "# defining parameter range \n",
        "param_grid = {'C': [0.1, 1, 10, 100, 1000],  \n",
        "              'gamma': [1, 0.1, 0.01, 0.001, 0.0001], \n",
        "              'kernel': ['rbf']}  \n",
        "  \n",
        "grid = GridSearchCV(SVC(), param_grid, refit = True, verbose = 3) \n",
        "  \n",
        "# fitting the model for grid search \n",
        "grid.fit(x_train, y_train)\n",
        "\n",
        "# print best parameter after tuning \n",
        "print(grid.best_params_) "
      ],
      "execution_count": null,
      "outputs": [
        {
          "output_type": "stream",
          "text": [
            "Fitting 5 folds for each of 25 candidates, totalling 125 fits\n",
            "[CV] C=0.1, gamma=1, kernel=rbf ......................................\n",
            "[CV] .......... C=0.1, gamma=1, kernel=rbf, score=0.219, total=   0.0s\n",
            "[CV] C=0.1, gamma=1, kernel=rbf ......................................\n",
            "[CV] .......... C=0.1, gamma=1, kernel=rbf, score=0.219, total=   0.0s\n",
            "[CV] C=0.1, gamma=1, kernel=rbf ......................................\n",
            "[CV] .......... C=0.1, gamma=1, kernel=rbf, score=0.250, total=   0.0s\n",
            "[CV] C=0.1, gamma=1, kernel=rbf ......................................\n",
            "[CV] .......... C=0.1, gamma=1, kernel=rbf, score=0.219, total=   0.0s\n",
            "[CV] C=0.1, gamma=1, kernel=rbf ......................................\n",
            "[CV] .......... C=0.1, gamma=1, kernel=rbf, score=0.219, total=   0.0s\n",
            "[CV] C=0.1, gamma=0.1, kernel=rbf ....................................\n",
            "[CV] ........ C=0.1, gamma=0.1, kernel=rbf, score=0.219, total=   0.0s\n",
            "[CV] C=0.1, gamma=0.1, kernel=rbf ....................................\n",
            "[CV] ........ C=0.1, gamma=0.1, kernel=rbf, score=0.219, total=   0.0s\n",
            "[CV] C=0.1, gamma=0.1, kernel=rbf ....................................\n",
            "[CV] ........ C=0.1, gamma=0.1, kernel=rbf, score=0.250, total=   0.0s\n",
            "[CV] C=0.1, gamma=0.1, kernel=rbf ....................................\n",
            "[CV] ........ C=0.1, gamma=0.1, kernel=rbf, score=0.219, total=   0.0s\n",
            "[CV] C=0.1, gamma=0.1, kernel=rbf ....................................\n",
            "[CV] ........ C=0.1, gamma=0.1, kernel=rbf, score=0.219, total=   0.0s\n",
            "[CV] C=0.1, gamma=0.01, kernel=rbf ...................................\n",
            "[CV] ....... C=0.1, gamma=0.01, kernel=rbf, score=0.219, total=   0.0s\n",
            "[CV] C=0.1, gamma=0.01, kernel=rbf ...................................\n",
            "[CV] ....... C=0.1, gamma=0.01, kernel=rbf, score=0.219, total=   0.0s\n",
            "[CV] C=0.1, gamma=0.01, kernel=rbf ...................................\n",
            "[CV] ....... C=0.1, gamma=0.01, kernel=rbf, score=0.250, total=   0.0s\n",
            "[CV] C=0.1, gamma=0.01, kernel=rbf ...................................\n",
            "[CV] ....... C=0.1, gamma=0.01, kernel=rbf, score=0.219, total=   0.0s\n",
            "[CV] C=0.1, gamma=0.01, kernel=rbf ...................................\n",
            "[CV] ....... C=0.1, gamma=0.01, kernel=rbf, score=0.219, total=   0.0s\n",
            "[CV] C=0.1, gamma=0.001, kernel=rbf ..................................\n",
            "[CV] ...... C=0.1, gamma=0.001, kernel=rbf, score=0.219, total=   0.0s\n",
            "[CV] C=0.1, gamma=0.001, kernel=rbf ..................................\n",
            "[CV] ...... C=0.1, gamma=0.001, kernel=rbf, score=0.219, total=   0.0s\n",
            "[CV] C=0.1, gamma=0.001, kernel=rbf ..................................\n",
            "[CV] ...... C=0.1, gamma=0.001, kernel=rbf, score=0.250, total=   0.0s\n",
            "[CV] C=0.1, gamma=0.001, kernel=rbf ..................................\n",
            "[CV] ...... C=0.1, gamma=0.001, kernel=rbf, score=0.219, total=   0.0s\n",
            "[CV] C=0.1, gamma=0.001, kernel=rbf ..................................\n",
            "[CV] ...... C=0.1, gamma=0.001, kernel=rbf, score=0.219, total=   0.0s\n",
            "[CV] C=0.1, gamma=0.0001, kernel=rbf .................................\n",
            "[CV] ..... C=0.1, gamma=0.0001, kernel=rbf, score=0.219, total=   0.0s\n",
            "[CV] C=0.1, gamma=0.0001, kernel=rbf .................................\n",
            "[CV] ..... C=0.1, gamma=0.0001, kernel=rbf, score=0.219, total=   0.0s\n",
            "[CV] C=0.1, gamma=0.0001, kernel=rbf .................................\n",
            "[CV] ..... C=0.1, gamma=0.0001, kernel=rbf, score=0.250, total=   0.0s\n",
            "[CV] C=0.1, gamma=0.0001, kernel=rbf .................................\n",
            "[CV] ..... C=0.1, gamma=0.0001, kernel=rbf, score=0.219, total=   0.0s\n",
            "[CV] C=0.1, gamma=0.0001, kernel=rbf .................................\n",
            "[CV] ..... C=0.1, gamma=0.0001, kernel=rbf, score=0.219, total=   0.0s\n",
            "[CV] C=1, gamma=1, kernel=rbf ........................................\n",
            "[CV] ............ C=1, gamma=1, kernel=rbf, score=0.781, total=   0.0s\n",
            "[CV] C=1, gamma=1, kernel=rbf ........................................\n",
            "[CV] ............ C=1, gamma=1, kernel=rbf, score=0.812, total=   0.0s\n",
            "[CV] C=1, gamma=1, kernel=rbf ........................................\n",
            "[CV] ............ C=1, gamma=1, kernel=rbf, score=0.781, total=   0.0s\n",
            "[CV] C=1, gamma=1, kernel=rbf ........................................\n",
            "[CV] ............ C=1, gamma=1, kernel=rbf, score=0.812, total=   0.0s\n",
            "[CV] C=1, gamma=1, kernel=rbf ........................................\n",
            "[CV] ............ C=1, gamma=1, kernel=rbf, score=0.812, total=   0.0s\n",
            "[CV] C=1, gamma=0.1, kernel=rbf ......................................\n",
            "[CV] .......... C=1, gamma=0.1, kernel=rbf, score=0.719, total=   0.0s\n",
            "[CV] C=1, gamma=0.1, kernel=rbf ......................................\n",
            "[CV] .......... C=1, gamma=0.1, kernel=rbf, score=0.812, total=   0.0s\n",
            "[CV] C=1, gamma=0.1, kernel=rbf ......................................\n",
            "[CV] .......... C=1, gamma=0.1, kernel=rbf, score=0.781, total=   0.0s\n",
            "[CV] C=1, gamma=0.1, kernel=rbf ......................................\n",
            "[CV] .......... C=1, gamma=0.1, kernel=rbf, score=0.812, total=   0.0s\n",
            "[CV] C=1, gamma=0.1, kernel=rbf ......................................\n",
            "[CV] .......... C=1, gamma=0.1, kernel=rbf, score=0.719, total=   0.0s\n",
            "[CV] C=1, gamma=0.01, kernel=rbf .....................................\n",
            "[CV] ......... C=1, gamma=0.01, kernel=rbf, score=0.531, total=   0.0s\n",
            "[CV] C=1, gamma=0.01, kernel=rbf .....................................\n",
            "[CV] ......... C=1, gamma=0.01, kernel=rbf, score=0.531, total=   0.0s\n",
            "[CV] C=1, gamma=0.01, kernel=rbf .....................................\n"
          ],
          "name": "stdout"
        },
        {
          "output_type": "stream",
          "text": [
            "[Parallel(n_jobs=1)]: Using backend SequentialBackend with 1 concurrent workers.\n",
            "[Parallel(n_jobs=1)]: Done   1 out of   1 | elapsed:    0.0s remaining:    0.0s\n",
            "[Parallel(n_jobs=1)]: Done   2 out of   2 | elapsed:    0.0s remaining:    0.0s\n"
          ],
          "name": "stderr"
        },
        {
          "output_type": "stream",
          "text": [
            "[CV] ......... C=1, gamma=0.01, kernel=rbf, score=0.625, total=   0.0s\n",
            "[CV] C=1, gamma=0.01, kernel=rbf .....................................\n",
            "[CV] ......... C=1, gamma=0.01, kernel=rbf, score=0.438, total=   0.0s\n",
            "[CV] C=1, gamma=0.01, kernel=rbf .....................................\n",
            "[CV] ......... C=1, gamma=0.01, kernel=rbf, score=0.500, total=   0.0s\n",
            "[CV] C=1, gamma=0.001, kernel=rbf ....................................\n",
            "[CV] ........ C=1, gamma=0.001, kernel=rbf, score=0.219, total=   0.0s\n",
            "[CV] C=1, gamma=0.001, kernel=rbf ....................................\n",
            "[CV] ........ C=1, gamma=0.001, kernel=rbf, score=0.219, total=   0.0s\n",
            "[CV] C=1, gamma=0.001, kernel=rbf ....................................\n",
            "[CV] ........ C=1, gamma=0.001, kernel=rbf, score=0.250, total=   0.0s\n",
            "[CV] C=1, gamma=0.001, kernel=rbf ....................................\n",
            "[CV] ........ C=1, gamma=0.001, kernel=rbf, score=0.219, total=   0.0s\n",
            "[CV] C=1, gamma=0.001, kernel=rbf ....................................\n",
            "[CV] ........ C=1, gamma=0.001, kernel=rbf, score=0.219, total=   0.0s\n",
            "[CV] C=1, gamma=0.0001, kernel=rbf ...................................\n",
            "[CV] ....... C=1, gamma=0.0001, kernel=rbf, score=0.219, total=   0.0s\n",
            "[CV] C=1, gamma=0.0001, kernel=rbf ...................................\n",
            "[CV] ....... C=1, gamma=0.0001, kernel=rbf, score=0.219, total=   0.0s\n",
            "[CV] C=1, gamma=0.0001, kernel=rbf ...................................\n",
            "[CV] ....... C=1, gamma=0.0001, kernel=rbf, score=0.250, total=   0.0s\n",
            "[CV] C=1, gamma=0.0001, kernel=rbf ...................................\n",
            "[CV] ....... C=1, gamma=0.0001, kernel=rbf, score=0.219, total=   0.0s\n",
            "[CV] C=1, gamma=0.0001, kernel=rbf ...................................\n",
            "[CV] ....... C=1, gamma=0.0001, kernel=rbf, score=0.219, total=   0.0s\n",
            "[CV] C=10, gamma=1, kernel=rbf .......................................\n",
            "[CV] ........... C=10, gamma=1, kernel=rbf, score=0.781, total=   0.0s\n",
            "[CV] C=10, gamma=1, kernel=rbf .......................................\n",
            "[CV] ........... C=10, gamma=1, kernel=rbf, score=0.812, total=   0.0s\n",
            "[CV] C=10, gamma=1, kernel=rbf .......................................\n",
            "[CV] ........... C=10, gamma=1, kernel=rbf, score=0.781, total=   0.0s\n",
            "[CV] C=10, gamma=1, kernel=rbf .......................................\n",
            "[CV] ........... C=10, gamma=1, kernel=rbf, score=0.812, total=   0.0s\n",
            "[CV] C=10, gamma=1, kernel=rbf .......................................\n",
            "[CV] ........... C=10, gamma=1, kernel=rbf, score=0.812, total=   0.0s\n",
            "[CV] C=10, gamma=0.1, kernel=rbf .....................................\n",
            "[CV] ......... C=10, gamma=0.1, kernel=rbf, score=0.719, total=   0.0s\n",
            "[CV] C=10, gamma=0.1, kernel=rbf .....................................\n",
            "[CV] ......... C=10, gamma=0.1, kernel=rbf, score=0.812, total=   0.0s\n",
            "[CV] C=10, gamma=0.1, kernel=rbf .....................................\n",
            "[CV] ......... C=10, gamma=0.1, kernel=rbf, score=0.781, total=   0.0s\n",
            "[CV] C=10, gamma=0.1, kernel=rbf .....................................\n",
            "[CV] ......... C=10, gamma=0.1, kernel=rbf, score=0.812, total=   0.0s\n",
            "[CV] C=10, gamma=0.1, kernel=rbf .....................................\n",
            "[CV] ......... C=10, gamma=0.1, kernel=rbf, score=0.812, total=   0.0s\n",
            "[CV] C=10, gamma=0.01, kernel=rbf ....................................\n",
            "[CV] ........ C=10, gamma=0.01, kernel=rbf, score=0.781, total=   0.0s\n",
            "[CV] C=10, gamma=0.01, kernel=rbf ....................................\n",
            "[CV] ........ C=10, gamma=0.01, kernel=rbf, score=0.812, total=   0.0s\n",
            "[CV] C=10, gamma=0.01, kernel=rbf ....................................\n",
            "[CV] ........ C=10, gamma=0.01, kernel=rbf, score=0.781, total=   0.0s\n",
            "[CV] C=10, gamma=0.01, kernel=rbf ....................................\n",
            "[CV] ........ C=10, gamma=0.01, kernel=rbf, score=0.812, total=   0.0s\n",
            "[CV] C=10, gamma=0.01, kernel=rbf ....................................\n",
            "[CV] ........ C=10, gamma=0.01, kernel=rbf, score=0.750, total=   0.0s\n",
            "[CV] C=10, gamma=0.001, kernel=rbf ...................................\n",
            "[CV] ....... C=10, gamma=0.001, kernel=rbf, score=0.531, total=   0.0s\n",
            "[CV] C=10, gamma=0.001, kernel=rbf ...................................\n",
            "[CV] ....... C=10, gamma=0.001, kernel=rbf, score=0.500, total=   0.0s\n",
            "[CV] C=10, gamma=0.001, kernel=rbf ...................................\n",
            "[CV] ....... C=10, gamma=0.001, kernel=rbf, score=0.625, total=   0.0s\n",
            "[CV] C=10, gamma=0.001, kernel=rbf ...................................\n",
            "[CV] ....... C=10, gamma=0.001, kernel=rbf, score=0.469, total=   0.0s\n",
            "[CV] C=10, gamma=0.001, kernel=rbf ...................................\n",
            "[CV] ....... C=10, gamma=0.001, kernel=rbf, score=0.500, total=   0.0s\n",
            "[CV] C=10, gamma=0.0001, kernel=rbf ..................................\n",
            "[CV] ...... C=10, gamma=0.0001, kernel=rbf, score=0.219, total=   0.0s\n",
            "[CV] C=10, gamma=0.0001, kernel=rbf ..................................\n",
            "[CV] ...... C=10, gamma=0.0001, kernel=rbf, score=0.219, total=   0.0s\n",
            "[CV] C=10, gamma=0.0001, kernel=rbf ..................................\n",
            "[CV] ...... C=10, gamma=0.0001, kernel=rbf, score=0.250, total=   0.0s\n",
            "[CV] C=10, gamma=0.0001, kernel=rbf ..................................\n",
            "[CV] ...... C=10, gamma=0.0001, kernel=rbf, score=0.219, total=   0.0s\n",
            "[CV] C=10, gamma=0.0001, kernel=rbf ..................................\n",
            "[CV] ...... C=10, gamma=0.0001, kernel=rbf, score=0.219, total=   0.0s\n",
            "[CV] C=100, gamma=1, kernel=rbf ......................................\n",
            "[CV] .......... C=100, gamma=1, kernel=rbf, score=0.781, total=   0.0s\n",
            "[CV] C=100, gamma=1, kernel=rbf ......................................\n",
            "[CV] .......... C=100, gamma=1, kernel=rbf, score=0.812, total=   0.0s\n",
            "[CV] C=100, gamma=1, kernel=rbf ......................................\n",
            "[CV] .......... C=100, gamma=1, kernel=rbf, score=0.781, total=   0.0s\n",
            "[CV] C=100, gamma=1, kernel=rbf ......................................\n",
            "[CV] .......... C=100, gamma=1, kernel=rbf, score=0.812, total=   0.0s\n",
            "[CV] C=100, gamma=1, kernel=rbf ......................................\n",
            "[CV] .......... C=100, gamma=1, kernel=rbf, score=0.812, total=   0.0s\n",
            "[CV] C=100, gamma=0.1, kernel=rbf ....................................\n",
            "[CV] ........ C=100, gamma=0.1, kernel=rbf, score=0.719, total=   0.0s\n",
            "[CV] C=100, gamma=0.1, kernel=rbf ....................................\n",
            "[CV] ........ C=100, gamma=0.1, kernel=rbf, score=0.812, total=   0.0s\n",
            "[CV] C=100, gamma=0.1, kernel=rbf ....................................\n",
            "[CV] ........ C=100, gamma=0.1, kernel=rbf, score=0.781, total=   0.0s\n",
            "[CV] C=100, gamma=0.1, kernel=rbf ....................................\n",
            "[CV] ........ C=100, gamma=0.1, kernel=rbf, score=0.812, total=   0.0s\n",
            "[CV] C=100, gamma=0.1, kernel=rbf ....................................\n",
            "[CV] ........ C=100, gamma=0.1, kernel=rbf, score=0.812, total=   0.0s\n",
            "[CV] C=100, gamma=0.01, kernel=rbf ...................................\n",
            "[CV] ....... C=100, gamma=0.01, kernel=rbf, score=0.781, total=   0.0s\n",
            "[CV] C=100, gamma=0.01, kernel=rbf ...................................\n",
            "[CV] ....... C=100, gamma=0.01, kernel=rbf, score=0.812, total=   0.0s\n",
            "[CV] C=100, gamma=0.01, kernel=rbf ...................................\n",
            "[CV] ....... C=100, gamma=0.01, kernel=rbf, score=0.781, total=   0.0s\n",
            "[CV] C=100, gamma=0.01, kernel=rbf ...................................\n",
            "[CV] ....... C=100, gamma=0.01, kernel=rbf, score=0.812, total=   0.0s\n",
            "[CV] C=100, gamma=0.01, kernel=rbf ...................................\n",
            "[CV] ....... C=100, gamma=0.01, kernel=rbf, score=0.781, total=   0.0s\n",
            "[CV] C=100, gamma=0.001, kernel=rbf ..................................\n",
            "[CV] ...... C=100, gamma=0.001, kernel=rbf, score=0.781, total=   0.0s\n",
            "[CV] C=100, gamma=0.001, kernel=rbf ..................................\n",
            "[CV] ...... C=100, gamma=0.001, kernel=rbf, score=0.812, total=   0.0s\n",
            "[CV] C=100, gamma=0.001, kernel=rbf ..................................\n",
            "[CV] ...... C=100, gamma=0.001, kernel=rbf, score=0.781, total=   0.0s\n",
            "[CV] C=100, gamma=0.001, kernel=rbf ..................................\n",
            "[CV] ...... C=100, gamma=0.001, kernel=rbf, score=0.812, total=   0.0s\n",
            "[CV] C=100, gamma=0.001, kernel=rbf ..................................\n",
            "[CV] ...... C=100, gamma=0.001, kernel=rbf, score=0.750, total=   0.0s\n",
            "[CV] C=100, gamma=0.0001, kernel=rbf .................................\n",
            "[CV] ..... C=100, gamma=0.0001, kernel=rbf, score=0.531, total=   0.0s\n",
            "[CV] C=100, gamma=0.0001, kernel=rbf .................................\n",
            "[CV] ..... C=100, gamma=0.0001, kernel=rbf, score=0.500, total=   0.0s\n",
            "[CV] C=100, gamma=0.0001, kernel=rbf .................................\n",
            "[CV] ..... C=100, gamma=0.0001, kernel=rbf, score=0.625, total=   0.0s\n",
            "[CV] C=100, gamma=0.0001, kernel=rbf .................................\n",
            "[CV] ..... C=100, gamma=0.0001, kernel=rbf, score=0.469, total=   0.0s\n",
            "[CV] C=100, gamma=0.0001, kernel=rbf .................................\n",
            "[CV] ..... C=100, gamma=0.0001, kernel=rbf, score=0.500, total=   0.0s\n",
            "[CV] C=1000, gamma=1, kernel=rbf .....................................\n",
            "[CV] ......... C=1000, gamma=1, kernel=rbf, score=0.781, total=   0.0s\n",
            "[CV] C=1000, gamma=1, kernel=rbf .....................................\n",
            "[CV] ......... C=1000, gamma=1, kernel=rbf, score=0.812, total=   0.0s\n",
            "[CV] C=1000, gamma=1, kernel=rbf .....................................\n",
            "[CV] ......... C=1000, gamma=1, kernel=rbf, score=0.781, total=   0.0s\n",
            "[CV] C=1000, gamma=1, kernel=rbf .....................................\n",
            "[CV] ......... C=1000, gamma=1, kernel=rbf, score=0.812, total=   0.0s\n",
            "[CV] C=1000, gamma=1, kernel=rbf .....................................\n",
            "[CV] ......... C=1000, gamma=1, kernel=rbf, score=0.812, total=   0.0s\n",
            "[CV] C=1000, gamma=0.1, kernel=rbf ...................................\n",
            "[CV] ....... C=1000, gamma=0.1, kernel=rbf, score=0.719, total=   0.0s\n",
            "[CV] C=1000, gamma=0.1, kernel=rbf ...................................\n",
            "[CV] ....... C=1000, gamma=0.1, kernel=rbf, score=0.812, total=   0.0s\n",
            "[CV] C=1000, gamma=0.1, kernel=rbf ...................................\n",
            "[CV] ....... C=1000, gamma=0.1, kernel=rbf, score=0.781, total=   0.0s\n",
            "[CV] C=1000, gamma=0.1, kernel=rbf ...................................\n",
            "[CV] ....... C=1000, gamma=0.1, kernel=rbf, score=0.812, total=   0.0s\n",
            "[CV] C=1000, gamma=0.1, kernel=rbf ...................................\n",
            "[CV] ....... C=1000, gamma=0.1, kernel=rbf, score=0.812, total=   0.0s\n",
            "[CV] C=1000, gamma=0.01, kernel=rbf ..................................\n",
            "[CV] ...... C=1000, gamma=0.01, kernel=rbf, score=0.781, total=   0.0s\n",
            "[CV] C=1000, gamma=0.01, kernel=rbf ..................................\n",
            "[CV] ...... C=1000, gamma=0.01, kernel=rbf, score=0.812, total=   0.0s\n",
            "[CV] C=1000, gamma=0.01, kernel=rbf ..................................\n",
            "[CV] ...... C=1000, gamma=0.01, kernel=rbf, score=0.781, total=   0.0s\n",
            "[CV] C=1000, gamma=0.01, kernel=rbf ..................................\n",
            "[CV] ...... C=1000, gamma=0.01, kernel=rbf, score=0.812, total=   0.0s\n",
            "[CV] C=1000, gamma=0.01, kernel=rbf ..................................\n",
            "[CV] ...... C=1000, gamma=0.01, kernel=rbf, score=0.781, total=   0.0s\n",
            "[CV] C=1000, gamma=0.001, kernel=rbf .................................\n",
            "[CV] ..... C=1000, gamma=0.001, kernel=rbf, score=0.781, total=   0.0s\n",
            "[CV] C=1000, gamma=0.001, kernel=rbf .................................\n",
            "[CV] ..... C=1000, gamma=0.001, kernel=rbf, score=0.812, total=   0.0s\n",
            "[CV] C=1000, gamma=0.001, kernel=rbf .................................\n",
            "[CV] ..... C=1000, gamma=0.001, kernel=rbf, score=0.781, total=   0.0s\n",
            "[CV] C=1000, gamma=0.001, kernel=rbf .................................\n",
            "[CV] ..... C=1000, gamma=0.001, kernel=rbf, score=0.812, total=   0.0s\n",
            "[CV] C=1000, gamma=0.001, kernel=rbf .................................\n",
            "[CV] ..... C=1000, gamma=0.001, kernel=rbf, score=0.781, total=   0.0s\n",
            "[CV] C=1000, gamma=0.0001, kernel=rbf ................................\n",
            "[CV] .... C=1000, gamma=0.0001, kernel=rbf, score=0.781, total=   0.0s\n",
            "[CV] C=1000, gamma=0.0001, kernel=rbf ................................\n",
            "[CV] .... C=1000, gamma=0.0001, kernel=rbf, score=0.812, total=   0.0s\n",
            "[CV] C=1000, gamma=0.0001, kernel=rbf ................................\n",
            "[CV] .... C=1000, gamma=0.0001, kernel=rbf, score=0.781, total=   0.0s\n",
            "[CV] C=1000, gamma=0.0001, kernel=rbf ................................\n",
            "[CV] .... C=1000, gamma=0.0001, kernel=rbf, score=0.812, total=   0.0s\n",
            "[CV] C=1000, gamma=0.0001, kernel=rbf ................................\n",
            "[CV] .... C=1000, gamma=0.0001, kernel=rbf, score=0.750, total=   0.0s\n",
            "{'C': 1, 'gamma': 1, 'kernel': 'rbf'}\n"
          ],
          "name": "stdout"
        },
        {
          "output_type": "stream",
          "text": [
            "[Parallel(n_jobs=1)]: Done 125 out of 125 | elapsed:    0.7s finished\n"
          ],
          "name": "stderr"
        }
      ]
    },
    {
      "cell_type": "markdown",
      "metadata": {
        "id": "0BeIT1u0PjLZ"
      },
      "source": [
        "#KNN Algo"
      ]
    },
    {
      "cell_type": "code",
      "metadata": {
        "id": "bUWYwUDJPkvw"
      },
      "source": [
        "from sklearn.neighbors import KNeighborsClassifier "
      ],
      "execution_count": null,
      "outputs": []
    },
    {
      "cell_type": "code",
      "metadata": {
        "id": "ETeA5hpLPpNl"
      },
      "source": [
        "model5= KNeighborsClassifier(n_neighbors=7) "
      ],
      "execution_count": null,
      "outputs": []
    },
    {
      "cell_type": "code",
      "metadata": {
        "colab": {
          "base_uri": "https://localhost:8080/"
        },
        "id": "dKQMeHIGQxjf",
        "outputId": "791202d4-9c30-4db2-c781-90f3db980f87"
      },
      "source": [
        "model5.fit(x_train, y_train) "
      ],
      "execution_count": null,
      "outputs": [
        {
          "output_type": "execute_result",
          "data": {
            "text/plain": [
              "KNeighborsClassifier(algorithm='auto', leaf_size=30, metric='minkowski',\n",
              "                     metric_params=None, n_jobs=None, n_neighbors=7, p=2,\n",
              "                     weights='uniform')"
            ]
          },
          "metadata": {
            "tags": []
          },
          "execution_count": 259
        }
      ]
    },
    {
      "cell_type": "code",
      "metadata": {
        "colab": {
          "base_uri": "https://localhost:8080/"
        },
        "id": "3wLeI74GQ3pU",
        "outputId": "ebbc7a4a-ecd9-419e-89b2-b2eb35cee593"
      },
      "source": [
        "print(model5.score(x_test, y_test)) \n",
        " "
      ],
      "execution_count": null,
      "outputs": [
        {
          "output_type": "stream",
          "text": [
            "0.525\n"
          ],
          "name": "stdout"
        }
      ]
    },
    {
      "cell_type": "code",
      "metadata": {
        "id": "HjyZg1X_0p7s"
      },
      "source": [
        "y_pred = model5.predict(x_test)"
      ],
      "execution_count": null,
      "outputs": []
    },
    {
      "cell_type": "code",
      "metadata": {
        "colab": {
          "base_uri": "https://localhost:8080/"
        },
        "id": "o4bJ_5_z0zAi",
        "outputId": "67c8f579-8792-478a-edd4-14b4bfb833af"
      },
      "source": [
        "knn_confusion_matrix= metrics.confusion_matrix(y_test,y_pred)\n",
        "print(knn_confusion_matrix)"
      ],
      "execution_count": null,
      "outputs": [
        {
          "output_type": "stream",
          "text": [
            "[[1 1 1 0 0 0 0 0]\n",
            " [0 5 0 0 0 0 0 0]\n",
            " [6 2 5 1 0 0 0 1]\n",
            " [0 3 0 1 0 0 0 1]\n",
            " [0 0 0 3 2 0 0 0]\n",
            " [0 0 0 0 0 2 0 0]\n",
            " [0 0 0 0 0 0 3 0]\n",
            " [0 0 0 0 0 0 0 2]]\n"
          ],
          "name": "stdout"
        }
      ]
    },
    {
      "cell_type": "code",
      "metadata": {
        "colab": {
          "base_uri": "https://localhost:8080/",
          "height": 338
        },
        "id": "zzOLT_7204AY",
        "outputId": "fa19a533-bc43-48f8-c1ab-da533ee31744"
      },
      "source": [
        "class_names=[0,1] # name  of classes\n",
        "fig, ax = plt.subplots()\n",
        "tick_marks = np.arange(len(class_names))\n",
        "plt.xticks(tick_marks, class_names)\n",
        "plt.yticks(tick_marks, class_names)\n",
        "# create heatmap\n",
        "sns.heatmap(pd.DataFrame(knn_confusion_matrix), annot=True, cmap=\"viridis\" ,fmt='g')\n",
        "ax.xaxis.set_label_position(\"top\")\n",
        "plt.tight_layout()\n",
        "plt.title('Confusion matrix', y=1.1)\n",
        "plt.ylabel('Actual label')\n",
        "plt.xlabel('Predicted label')"
      ],
      "execution_count": null,
      "outputs": [
        {
          "output_type": "execute_result",
          "data": {
            "text/plain": [
              "Text(0.5, 257.44, 'Predicted label')"
            ]
          },
          "metadata": {
            "tags": []
          },
          "execution_count": 263
        },
        {
          "output_type": "display_data",
          "data": {
            "image/png": "[encoded data removed]",
            "text/plain": [
              "<Figure size 432x288 with 2 Axes>"
            ]
          },
          "metadata": {
            "tags": [],
            "needs_background": "light"
          }
        }
      ]
    },
    {
      "cell_type": "code",
      "metadata": {
        "colab": {
          "base_uri": "https://localhost:8080/"
        },
        "id": "lkC5c_SL1CBN",
        "outputId": "4cac62c0-7fbc-4dd1-f861-5966c2f0fd92"
      },
      "source": [
        "print(\"The model used is KNN classifier\")\n",
        "acc= accuracy_score(y_test,y_pred)\n",
        "print(\"The accuracy is {} %\".format(acc*100))\n",
        "prec= precision_score(y_test,y_pred,average='micro')\n",
        "print(\"The precision is {} %\".format(prec*100))\n",
        "rec= recall_score(y_test,y_pred,average='micro')\n",
        "print(\"The recall is {} %\".format(rec*100))\n",
        "f1= f1_score(y_test,y_pred,average='micro')\n",
        "print(\"The F1-Score is {} %\".format(f1*100))"
      ],
      "execution_count": null,
      "outputs": [
        {
          "output_type": "stream",
          "text": [
            "The model used is KNN classifier\n",
            "The accuracy is 52.5 %\n",
            "The precision is 52.5 %\n",
            "The recall is 52.5 %\n",
            "The F1-Score is 52.5 %\n"
          ],
          "name": "stdout"
        }
      ]
    },
    {
      "cell_type": "code",
      "metadata": {
        "colab": {
          "base_uri": "https://localhost:8080/"
        },
        "id": "Rvgsr15HAdSy",
        "outputId": "24dbf12d-bfc2-426d-ca52-0664b5e7b387"
      },
      "source": [
        "y_train_pred_knn = model5.predict(x_train)\n",
        "KNN_train_accuracy = accuracy_score(y_train,y_train_pred_knn)\n",
        "KNN_train_f1 = f1_score(y_train,y_train_pred_knn,average='macro')\n",
        "print(\"KNN Training Accuracy: \", KNN_train_accuracy*100,\"%\")\n",
        "print(\"KNN Training F1 Score: \", KNN_train_f1*100,\"%\")"
      ],
      "execution_count": null,
      "outputs": [
        {
          "output_type": "stream",
          "text": [
            "KNN Training Accuracy:  77.5 %\n",
            "KNN Training F1 Score:  74.64367704504818 %\n"
          ],
          "name": "stdout"
        }
      ]
    },
    {
      "cell_type": "code",
      "metadata": {
        "colab": {
          "base_uri": "https://localhost:8080/"
        },
        "id": "XWyiR1Yypun1",
        "outputId": "1e9adff4-1d17-4184-fd35-cc9799b3bd86"
      },
      "source": [
        "def multiclass_roc_auc_score(y_test, y_pred, average=\"macro\"):\n",
        " lb = LabelBinarizer()\n",
        " lb.fit(y_test)\n",
        " y_test = lb.transform(y_test)\n",
        " y_pred = lb.transform(y_pred)\n",
        " return roc_auc_score(y_test, y_pred, average=average)\n",
        "print(multiclass_roc_auc_score(y_test, y_pred, average=\"macro\"))"
      ],
      "execution_count": null,
      "outputs": [
        {
          "output_type": "stream",
          "text": [
            "0.7953849149901782\n"
          ],
          "name": "stdout"
        }
      ]
    },
    {
      "cell_type": "markdown",
      "metadata": {
        "id": "NqWzbj6YTnu2"
      },
      "source": [
        "#Cross validation to select optimum k value"
      ]
    },
    {
      "cell_type": "code",
      "metadata": {
        "id": "K7vrmqdkQ6w5"
      },
      "source": [
        "from sklearn.model_selection import cross_val_score"
      ],
      "execution_count": null,
      "outputs": []
    },
    {
      "cell_type": "code",
      "metadata": {
        "colab": {
          "base_uri": "https://localhost:8080/"
        },
        "id": "hZj9XEO5Tt1L",
        "outputId": "f54d3635-7858-49fb-8bdd-b854efd368c8"
      },
      "source": [
        "# k = 5 for KNeighborsClassifier\n",
        "knn = KNeighborsClassifier(n_neighbors=5)\n",
        "\n",
        "# Use cross_val_score function\n",
        "# We are passing the entirety of X and y, not X_train or y_train, it takes care of splitting the dat\n",
        "# cv=10 for 10 folds\n",
        "# scoring='accuracy' for evaluation metric - althought they are many\n",
        "scores = cross_val_score(knn,x_train,y_train, cv=10, scoring='accuracy')\n",
        "print(scores)"
      ],
      "execution_count": null,
      "outputs": [
        {
          "output_type": "stream",
          "text": [
            "[0.75   0.625  0.6875 0.8125 0.8125 0.75   0.875  0.8125 0.6875 0.6875]\n"
          ],
          "name": "stdout"
        },
        {
          "output_type": "stream",
          "text": [
            "/usr/local/lib/python3.7/dist-packages/sklearn/model_selection/_split.py:667: UserWarning: The least populated class in y has only 7 members, which is less than n_splits=10.\n",
            "  % (min_groups, self.n_splits)), UserWarning)\n"
          ],
          "name": "stderr"
        }
      ]
    },
    {
      "cell_type": "code",
      "metadata": {
        "colab": {
          "base_uri": "https://localhost:8080/"
        },
        "id": "9dxzuL5XUZCz",
        "outputId": "bf0135be-d5ae-4c48-fd45-90d5215ec646"
      },
      "source": [
        "# use average accuracy as an estimate of out-of-sample accuracy\n",
        "# numpy array has a method mean()\n",
        "print(scores.mean())"
      ],
      "execution_count": null,
      "outputs": [
        {
          "output_type": "stream",
          "text": [
            "0.75\n"
          ],
          "name": "stdout"
        }
      ]
    },
    {
      "cell_type": "code",
      "metadata": {
        "colab": {
          "base_uri": "https://localhost:8080/"
        },
        "id": "CveZeXWZUfh4",
        "outputId": "98db6887-9b72-4047-d840-e339e2b942bd"
      },
      "source": [
        "#search for an optimal value of K for KNN\n",
        "\n",
        "# range of k we want to try\n",
        "k_range = range(1, 20)\n",
        "# empty list to store scores\n",
        "k_scores = []\n",
        "\n",
        "# 1. we will loop through reasonable values of k\n",
        "for k in k_range:\n",
        "    # 2. run KNeighborsClassifier with k neighbours\n",
        "    knn = KNeighborsClassifier(n_neighbors=k)\n",
        "    # 3. obtain cross_val_score for KNeighborsClassifier with k neighbours\n",
        "    scores = cross_val_score(knn, x, y, cv=10, scoring='accuracy')\n",
        "    # 4. append mean of scores for k neighbors to k_scores list\n",
        "    k_scores.append(scores.mean())\n",
        "\n",
        "\n",
        "print(k_scores)"
      ],
      "execution_count": null,
      "outputs": [
        {
          "output_type": "stream",
          "text": [
            "/usr/local/lib/python3.7/dist-packages/sklearn/model_selection/_split.py:667: UserWarning: The least populated class in y has only 9 members, which is less than n_splits=10.\n",
            "  % (min_groups, self.n_splits)), UserWarning)\n",
            "/usr/local/lib/python3.7/dist-packages/sklearn/model_selection/_split.py:667: UserWarning: The least populated class in y has only 9 members, which is less than n_splits=10.\n",
            "  % (min_groups, self.n_splits)), UserWarning)\n",
            "/usr/local/lib/python3.7/dist-packages/sklearn/model_selection/_split.py:667: UserWarning: The least populated class in y has only 9 members, which is less than n_splits=10.\n",
            "  % (min_groups, self.n_splits)), UserWarning)\n",
            "/usr/local/lib/python3.7/dist-packages/sklearn/model_selection/_split.py:667: UserWarning: The least populated class in y has only 9 members, which is less than n_splits=10.\n",
            "  % (min_groups, self.n_splits)), UserWarning)\n",
            "/usr/local/lib/python3.7/dist-packages/sklearn/model_selection/_split.py:667: UserWarning: The least populated class in y has only 9 members, which is less than n_splits=10.\n",
            "  % (min_groups, self.n_splits)), UserWarning)\n",
            "/usr/local/lib/python3.7/dist-packages/sklearn/model_selection/_split.py:667: UserWarning: The least populated class in y has only 9 members, which is less than n_splits=10.\n",
            "  % (min_groups, self.n_splits)), UserWarning)\n",
            "/usr/local/lib/python3.7/dist-packages/sklearn/model_selection/_split.py:667: UserWarning: The least populated class in y has only 9 members, which is less than n_splits=10.\n",
            "  % (min_groups, self.n_splits)), UserWarning)\n",
            "/usr/local/lib/python3.7/dist-packages/sklearn/model_selection/_split.py:667: UserWarning: The least populated class in y has only 9 members, which is less than n_splits=10.\n",
            "  % (min_groups, self.n_splits)), UserWarning)\n",
            "/usr/local/lib/python3.7/dist-packages/sklearn/model_selection/_split.py:667: UserWarning: The least populated class in y has only 9 members, which is less than n_splits=10.\n",
            "  % (min_groups, self.n_splits)), UserWarning)\n",
            "/usr/local/lib/python3.7/dist-packages/sklearn/model_selection/_split.py:667: UserWarning: The least populated class in y has only 9 members, which is less than n_splits=10.\n",
            "  % (min_groups, self.n_splits)), UserWarning)\n",
            "/usr/local/lib/python3.7/dist-packages/sklearn/model_selection/_split.py:667: UserWarning: The least populated class in y has only 9 members, which is less than n_splits=10.\n",
            "  % (min_groups, self.n_splits)), UserWarning)\n",
            "/usr/local/lib/python3.7/dist-packages/sklearn/model_selection/_split.py:667: UserWarning: The least populated class in y has only 9 members, which is less than n_splits=10.\n",
            "  % (min_groups, self.n_splits)), UserWarning)\n",
            "/usr/local/lib/python3.7/dist-packages/sklearn/model_selection/_split.py:667: UserWarning: The least populated class in y has only 9 members, which is less than n_splits=10.\n",
            "  % (min_groups, self.n_splits)), UserWarning)\n",
            "/usr/local/lib/python3.7/dist-packages/sklearn/model_selection/_split.py:667: UserWarning: The least populated class in y has only 9 members, which is less than n_splits=10.\n",
            "  % (min_groups, self.n_splits)), UserWarning)\n",
            "/usr/local/lib/python3.7/dist-packages/sklearn/model_selection/_split.py:667: UserWarning: The least populated class in y has only 9 members, which is less than n_splits=10.\n",
            "  % (min_groups, self.n_splits)), UserWarning)\n"
          ],
          "name": "stderr"
        },
        {
          "output_type": "stream",
          "text": [
            "[0.7350000000000001, 0.75, 0.805, 0.8150000000000001, 0.825, 0.8300000000000001, 0.8, 0.77, 0.7050000000000001, 0.5999999999999999, 0.5650000000000001, 0.52, 0.5, 0.5349999999999999, 0.495, 0.475, 0.475, 0.475, 0.46499999999999997]\n"
          ],
          "name": "stdout"
        },
        {
          "output_type": "stream",
          "text": [
            "/usr/local/lib/python3.7/dist-packages/sklearn/model_selection/_split.py:667: UserWarning: The least populated class in y has only 9 members, which is less than n_splits=10.\n",
            "  % (min_groups, self.n_splits)), UserWarning)\n",
            "/usr/local/lib/python3.7/dist-packages/sklearn/model_selection/_split.py:667: UserWarning: The least populated class in y has only 9 members, which is less than n_splits=10.\n",
            "  % (min_groups, self.n_splits)), UserWarning)\n",
            "/usr/local/lib/python3.7/dist-packages/sklearn/model_selection/_split.py:667: UserWarning: The least populated class in y has only 9 members, which is less than n_splits=10.\n",
            "  % (min_groups, self.n_splits)), UserWarning)\n",
            "/usr/local/lib/python3.7/dist-packages/sklearn/model_selection/_split.py:667: UserWarning: The least populated class in y has only 9 members, which is less than n_splits=10.\n",
            "  % (min_groups, self.n_splits)), UserWarning)\n"
          ],
          "name": "stderr"
        }
      ]
    },
    {
      "cell_type": "code",
      "metadata": {
        "colab": {
          "base_uri": "https://localhost:8080/"
        },
        "id": "gfvLrjHIUzwv",
        "outputId": "b85cdfe2-e1cd-4d11-eb20-9a72067d0c95"
      },
      "source": [
        "# in essence, this is basically running the k-fold cross-validation method 30 times because we want to run through K values from 1 to 30\n",
        "# we should have 30 scores here\n",
        "print('Length of list', len(k_scores))\n",
        "print('Max of list', max(k_scores))"
      ],
      "execution_count": null,
      "outputs": [
        {
          "output_type": "stream",
          "text": [
            "Length of list 19\n",
            "Max of list 0.8300000000000001\n"
          ],
          "name": "stdout"
        }
      ]
    },
    {
      "cell_type": "code",
      "metadata": {
        "colab": {
          "base_uri": "https://localhost:8080/",
          "height": 296
        },
        "id": "yO_j7nK4U-_z",
        "outputId": "d6e3f5e1-e94c-44e5-8ecc-f2cb83e6f1ac"
      },
      "source": [
        "#plot how accuracy changes as we vary k\n",
        "import matplotlib.pyplot as plt\n",
        "%matplotlib inline\n",
        "\n",
        "# plot the value of K for KNN (x-axis) versus the cross-validated accuracy (y-axis)\n",
        "# plt.plot(x_axis, y_axis)\n",
        "plt.plot(k_range, k_scores)\n",
        "plt.xlabel('Value of K for KNN')\n",
        "plt.ylabel('Cross-validated accuracy')"
      ],
      "execution_count": null,
      "outputs": [
        {
          "output_type": "execute_result",
          "data": {
            "text/plain": [
              "Text(0, 0.5, 'Cross-validated accuracy')"
            ]
          },
          "metadata": {
            "tags": []
          },
          "execution_count": 78
        },
        {
          "output_type": "display_data",
          "data": {
            "image/png": "[encoded data removed]",
            "text/plain": [
              "<Figure size 432x288 with 1 Axes>"
            ]
          },
          "metadata": {
            "tags": [],
            "needs_background": "light"
          }
        }
      ]
    },
    {
      "cell_type": "code",
      "metadata": {
        "id": "2t0KG944VHHF"
      },
      "source": [
        "from sklearn import neighbors\n",
        "from sklearn.metrics import mean_squared_error \n",
        "from math import sqrt\n",
        "import matplotlib.pyplot as plt\n",
        "%matplotlib inline"
      ],
      "execution_count": null,
      "outputs": []
    },
    {
      "cell_type": "code",
      "metadata": {
        "colab": {
          "base_uri": "https://localhost:8080/"
        },
        "id": "86WAfybaXfqA",
        "outputId": "ab7f4cb4-e245-4298-b2fe-1ac914b12227"
      },
      "source": [
        "rmse_val = [] #to store rmse values for different k\n",
        "for K in range(20):\n",
        "    K = K+1\n",
        "    model = neighbors.KNeighborsRegressor(n_neighbors = K)\n",
        "\n",
        "    model.fit(x_train, y_train)  #fit the model\n",
        "    pred=model.predict(x_test) #make prediction on test set\n",
        "    error = sqrt(mean_squared_error(y_test,pred)) #calculate rmse\n",
        "    rmse_val.append(error) #store rmse values\n",
        "    print('RMSE value for k= ' , K , 'is:', error)"
      ],
      "execution_count": null,
      "outputs": [
        {
          "output_type": "stream",
          "text": [
            "RMSE value for k=  1 is: 1.2549900398011133\n",
            "RMSE value for k=  2 is: 1.2673791855636576\n",
            "RMSE value for k=  3 is: 1.1737877907772674\n",
            "RMSE value for k=  4 is: 1.1138334704972732\n",
            "RMSE value for k=  5 is: 1.2280065146407\n",
            "RMSE value for k=  6 is: 1.3110110602126894\n",
            "RMSE value for k=  7 is: 1.4258903412626522\n",
            "RMSE value for k=  8 is: 1.418213004100583\n",
            "RMSE value for k=  9 is: 1.3981910712077008\n",
            "RMSE value for k=  10 is: 1.4329166060870395\n",
            "RMSE value for k=  11 is: 1.461913158380014\n",
            "RMSE value for k=  12 is: 1.4523687548277815\n",
            "RMSE value for k=  13 is: 1.456113413230353\n",
            "RMSE value for k=  14 is: 1.5275113146312633\n",
            "RMSE value for k=  15 is: 1.546824704569547\n",
            "RMSE value for k=  16 is: 1.6065661167533691\n",
            "RMSE value for k=  17 is: 1.6466386018556431\n",
            "RMSE value for k=  18 is: 1.6673609664954354\n",
            "RMSE value for k=  19 is: 1.6890965311114525\n",
            "RMSE value for k=  20 is: 1.6691689548994135\n"
          ],
          "name": "stdout"
        }
      ]
    },
    {
      "cell_type": "code",
      "metadata": {
        "colab": {
          "base_uri": "https://localhost:8080/",
          "height": 282
        },
        "id": "jBosexFzXrLc",
        "outputId": "8f84f923-a65e-436c-c8d5-2bcfd806ce1b"
      },
      "source": [
        "#plotting the rmse values against k values\n",
        "curve = pd.DataFrame(rmse_val) #elbow curve \n",
        "curve.plot()"
      ],
      "execution_count": null,
      "outputs": [
        {
          "output_type": "execute_result",
          "data": {
            "text/plain": [
              "<matplotlib.axes._subplots.AxesSubplot at 0x7fa7b560bcd0>"
            ]
          },
          "metadata": {
            "tags": []
          },
          "execution_count": 70
        },
        {
          "output_type": "display_data",
          "data": {
            "image/png": "[encoded data removed]",
            "text/plain": [
              "<Figure size 432x288 with 1 Axes>"
            ]
          },
          "metadata": {
            "tags": [],
            "needs_background": "light"
          }
        }
      ]
    },
    {
      "cell_type": "code",
      "metadata": {
        "id": "E3si1fqa0agS"
      },
      "source": [
        "print(\"The model used is KNN classifier\")\n",
        "acc= accuracy_score(y_test,y_prediction)\n",
        "print(\"The accuracy is {} %\".format(acc*100))\n",
        "prec= precision_score(y_test,y_prediction)\n",
        "print(\"The precision is {} %\".format(prec*100))\n",
        "rec= recall_score(y_test,y_prediction)\n",
        "print(\"The recall is {} %\".format(rec*100))\n",
        "f1= f1_score(y_test,y_prediction)\n",
        "print(\"The F1-Score is {} %\".format(f1*100))"
      ],
      "execution_count": null,
      "outputs": []
    },
    {
      "cell_type": "markdown",
      "metadata": {
        "id": "SUc8ZQ_gjsBE"
      },
      "source": [
        "#Boosting Algorithms\n"
      ]
    },
    {
      "cell_type": "code",
      "metadata": {
        "colab": {
          "base_uri": "https://localhost:8080/"
        },
        "id": "TXxlzZyg15SR",
        "outputId": "57090b7c-4473-4790-8dff-310c38e7137c"
      },
      "source": [
        "from sklearn.ensemble import GradientBoostingClassifier\n",
        "\n",
        "model6= GradientBoostingClassifier(learning_rate=0.05, max_depth=25, n_estimators=200,random_state=42)\n",
        "model6.fit(x_train, y_train)"
      ],
      "execution_count": null,
      "outputs": [
        {
          "output_type": "execute_result",
          "data": {
            "text/plain": [
              "GradientBoostingClassifier(ccp_alpha=0.0, criterion='friedman_mse', init=None,\n",
              "                           learning_rate=0.05, loss='deviance', max_depth=25,\n",
              "                           max_features=None, max_leaf_nodes=None,\n",
              "                           min_impurity_decrease=0.0, min_impurity_split=None,\n",
              "                           min_samples_leaf=1, min_samples_split=2,\n",
              "                           min_weight_fraction_leaf=0.0, n_estimators=200,\n",
              "                           n_iter_no_change=None, presort='deprecated',\n",
              "                           random_state=42, subsample=1.0, tol=0.0001,\n",
              "                           validation_fraction=0.1, verbose=0,\n",
              "                           warm_start=False)"
            ]
          },
          "metadata": {
            "tags": []
          },
          "execution_count": 307
        }
      ]
    },
    {
      "cell_type": "code",
      "metadata": {
        "id": "eB4zXX5F8Un8"
      },
      "source": [
        "y_pred = model6.predict(x_test)"
      ],
      "execution_count": null,
      "outputs": []
    },
    {
      "cell_type": "code",
      "metadata": {
        "colab": {
          "base_uri": "https://localhost:8080/"
        },
        "id": "yJg-6k3Q8X2y",
        "outputId": "f7cc36d0-319b-4a72-b150-d3674ab22cf3"
      },
      "source": [
        "print(\"The model used is Naive Bayes classifier\")\n",
        "acc= accuracy_score(y_test,y_pred)\n",
        "print(\"The accuracy is {} %\".format(acc*100))\n",
        "prec= precision_score(y_test,y_pred,average='micro')\n",
        "print(\"The precision is {} %\".format(prec*100))\n",
        "rec= recall_score(y_test,y_pred,average='micro')\n",
        "print(\"The recall is {} %\".format(rec*100))\n",
        "f1= f1_score(y_test,y_pred,average='micro')\n",
        "print(\"The F1-Score is {} %\".format(f1*100))"
      ],
      "execution_count": null,
      "outputs": [
        {
          "output_type": "stream",
          "text": [
            "The model used is Naive Bayes classifier\n",
            "The accuracy is 82.5 %\n",
            "The precision is 82.5 %\n",
            "The recall is 82.5 %\n",
            "The F1-Score is 82.5 %\n"
          ],
          "name": "stdout"
        }
      ]
    },
    {
      "cell_type": "code",
      "metadata": {
        "colab": {
          "base_uri": "https://localhost:8080/"
        },
        "id": "DSEGgfCe8cey",
        "outputId": "8fead9e6-0748-4fff-efd6-be395a020a4b"
      },
      "source": [
        "y_train_pred = model6.predict(x_train)\n",
        "GB_train_accuracy = accuracy_score(y_train,y_train_pred)\n",
        "GB_train_f1 = f1_score(y_train,y_train_pred,average='micro')\n",
        "print(\"Gradient Boosting Training Accuracy: \", GB_train_accuracy*100,\"%\")\n",
        "print(\"Gradient Boosting F1 Score: \", GB_train_f1*100,\"%\")"
      ],
      "execution_count": null,
      "outputs": [
        {
          "output_type": "stream",
          "text": [
            "Gradient Boosting Training Accuracy:  85.625 %\n",
            "Gradient Boosting F1 Score:  85.625 %\n"
          ],
          "name": "stdout"
        }
      ]
    },
    {
      "cell_type": "code",
      "metadata": {
        "colab": {
          "base_uri": "https://localhost:8080/"
        },
        "id": "QwKQ2aNfp09L",
        "outputId": "1e35881e-a918-435f-b7ad-dc45c344a3c8"
      },
      "source": [
        "def multiclass_roc_auc_score(y_test, y_pred, average=\"macro\"):\n",
        " lb = LabelBinarizer()\n",
        " lb.fit(y_test)\n",
        " y_test = lb.transform(y_test)\n",
        " y_pred = lb.transform(y_pred)\n",
        " return roc_auc_score(y_test, y_pred, average=average)\n",
        "print(multiclass_roc_auc_score(y_test, y_pred, average=\"macro\"))"
      ],
      "execution_count": null,
      "outputs": [
        {
          "output_type": "stream",
          "text": [
            "0.9179755977782293\n"
          ],
          "name": "stdout"
        }
      ]
    },
    {
      "cell_type": "code",
      "metadata": {
        "colab": {
          "base_uri": "https://localhost:8080/"
        },
        "id": "v26CIQzuJY7L",
        "outputId": "ffa15711-845d-44e0-e5b1-e49a92a4fd69"
      },
      "source": [
        "parameters = {\n",
        "    \"learning_rate\": [0.01, 0.05, 0.1, 0.2],\n",
        "    \"max_depth\":[2, 3, 5, 8],\n",
        "    \"max_features\":[\"log2\",\"sqrt\"],\n",
        "    \"n_estimators\":[10,20,50,100]\n",
        "    }\n",
        "\n",
        "GB_grid_search_cross_val = GridSearchCV(model6, parameters, cv=5, verbose =2)\n",
        "\n",
        "#Fitting our model to data\n",
        "GB_grid_search_cross_val.fit(x_train, y_train)"
      ],
      "execution_count": null,
      "outputs": [
        {
          "output_type": "stream",
          "text": [
            "Fitting 5 folds for each of 128 candidates, totalling 640 fits\n",
            "[CV] learning_rate=0.01, max_depth=2, max_features=log2, n_estimators=10 \n",
            "[CV]  learning_rate=0.01, max_depth=2, max_features=log2, n_estimators=10, total=   0.1s\n",
            "[CV] learning_rate=0.01, max_depth=2, max_features=log2, n_estimators=10 \n",
            "[CV]  learning_rate=0.01, max_depth=2, max_features=log2, n_estimators=10, total=   0.1s\n",
            "[CV] learning_rate=0.01, max_depth=2, max_features=log2, n_estimators=10 \n",
            "[CV]  learning_rate=0.01, max_depth=2, max_features=log2, n_estimators=10, total=   0.1s\n",
            "[CV] learning_rate=0.01, max_depth=2, max_features=log2, n_estimators=10 \n"
          ],
          "name": "stdout"
        },
        {
          "output_type": "stream",
          "text": [
            "[Parallel(n_jobs=1)]: Using backend SequentialBackend with 1 concurrent workers.\n",
            "[Parallel(n_jobs=1)]: Done   1 out of   1 | elapsed:    0.1s remaining:    0.0s\n"
          ],
          "name": "stderr"
        },
        {
          "output_type": "stream",
          "text": [
            "[CV]  learning_rate=0.01, max_depth=2, max_features=log2, n_estimators=10, total=   0.1s\n",
            "[CV] learning_rate=0.01, max_depth=2, max_features=log2, n_estimators=10 \n",
            "[CV]  learning_rate=0.01, max_depth=2, max_features=log2, n_estimators=10, total=   0.1s\n",
            "[CV] learning_rate=0.01, max_depth=2, max_features=log2, n_estimators=20 \n",
            "[CV]  learning_rate=0.01, max_depth=2, max_features=log2, n_estimators=20, total=   0.1s\n",
            "[CV] learning_rate=0.01, max_depth=2, max_features=log2, n_estimators=20 \n",
            "[CV]  learning_rate=0.01, max_depth=2, max_features=log2, n_estimators=20, total=   0.1s\n",
            "[CV] learning_rate=0.01, max_depth=2, max_features=log2, n_estimators=20 \n",
            "[CV]  learning_rate=0.01, max_depth=2, max_features=log2, n_estimators=20, total=   0.1s\n",
            "[CV] learning_rate=0.01, max_depth=2, max_features=log2, n_estimators=20 \n",
            "[CV]  learning_rate=0.01, max_depth=2, max_features=log2, n_estimators=20, total=   0.1s\n",
            "[CV] learning_rate=0.01, max_depth=2, max_features=log2, n_estimators=20 \n",
            "[CV]  learning_rate=0.01, max_depth=2, max_features=log2, n_estimators=20, total=   0.1s\n",
            "[CV] learning_rate=0.01, max_depth=2, max_features=log2, n_estimators=50 \n",
            "[CV]  learning_rate=0.01, max_depth=2, max_features=log2, n_estimators=50, total=   0.3s\n",
            "[CV] learning_rate=0.01, max_depth=2, max_features=log2, n_estimators=50 \n",
            "[CV]  learning_rate=0.01, max_depth=2, max_features=log2, n_estimators=50, total=   0.3s\n",
            "[CV] learning_rate=0.01, max_depth=2, max_features=log2, n_estimators=50 \n",
            "[CV]  learning_rate=0.01, max_depth=2, max_features=log2, n_estimators=50, total=   0.3s\n",
            "[CV] learning_rate=0.01, max_depth=2, max_features=log2, n_estimators=50 \n",
            "[CV]  learning_rate=0.01, max_depth=2, max_features=log2, n_estimators=50, total=   0.2s\n",
            "[CV] learning_rate=0.01, max_depth=2, max_features=log2, n_estimators=50 \n",
            "[CV]  learning_rate=0.01, max_depth=2, max_features=log2, n_estimators=50, total=   0.3s\n",
            "[CV] learning_rate=0.01, max_depth=2, max_features=log2, n_estimators=100 \n",
            "[CV]  learning_rate=0.01, max_depth=2, max_features=log2, n_estimators=100, total=   0.5s\n",
            "[CV] learning_rate=0.01, max_depth=2, max_features=log2, n_estimators=100 \n",
            "[CV]  learning_rate=0.01, max_depth=2, max_features=log2, n_estimators=100, total=   0.5s\n",
            "[CV] learning_rate=0.01, max_depth=2, max_features=log2, n_estimators=100 \n",
            "[CV]  learning_rate=0.01, max_depth=2, max_features=log2, n_estimators=100, total=   0.5s\n",
            "[CV] learning_rate=0.01, max_depth=2, max_features=log2, n_estimators=100 \n",
            "[CV]  learning_rate=0.01, max_depth=2, max_features=log2, n_estimators=100, total=   0.5s\n",
            "[CV] learning_rate=0.01, max_depth=2, max_features=log2, n_estimators=100 \n",
            "[CV]  learning_rate=0.01, max_depth=2, max_features=log2, n_estimators=100, total=   0.5s\n",
            "[CV] learning_rate=0.01, max_depth=2, max_features=sqrt, n_estimators=10 \n",
            "[CV]  learning_rate=0.01, max_depth=2, max_features=sqrt, n_estimators=10, total=   0.1s\n",
            "[CV] learning_rate=0.01, max_depth=2, max_features=sqrt, n_estimators=10 \n",
            "[CV]  learning_rate=0.01, max_depth=2, max_features=sqrt, n_estimators=10, total=   0.1s\n",
            "[CV] learning_rate=0.01, max_depth=2, max_features=sqrt, n_estimators=10 \n",
            "[CV]  learning_rate=0.01, max_depth=2, max_features=sqrt, n_estimators=10, total=   0.1s\n",
            "[CV] learning_rate=0.01, max_depth=2, max_features=sqrt, n_estimators=10 \n",
            "[CV]  learning_rate=0.01, max_depth=2, max_features=sqrt, n_estimators=10, total=   0.1s\n",
            "[CV] learning_rate=0.01, max_depth=2, max_features=sqrt, n_estimators=10 \n",
            "[CV]  learning_rate=0.01, max_depth=2, max_features=sqrt, n_estimators=10, total=   0.1s\n",
            "[CV] learning_rate=0.01, max_depth=2, max_features=sqrt, n_estimators=20 \n",
            "[CV]  learning_rate=0.01, max_depth=2, max_features=sqrt, n_estimators=20, total=   0.1s\n",
            "[CV] learning_rate=0.01, max_depth=2, max_features=sqrt, n_estimators=20 \n",
            "[CV]  learning_rate=0.01, max_depth=2, max_features=sqrt, n_estimators=20, total=   0.1s\n",
            "[CV] learning_rate=0.01, max_depth=2, max_features=sqrt, n_estimators=20 \n",
            "[CV]  learning_rate=0.01, max_depth=2, max_features=sqrt, n_estimators=20, total=   0.1s\n",
            "[CV] learning_rate=0.01, max_depth=2, max_features=sqrt, n_estimators=20 \n",
            "[CV]  learning_rate=0.01, max_depth=2, max_features=sqrt, n_estimators=20, total=   0.1s\n",
            "[CV] learning_rate=0.01, max_depth=2, max_features=sqrt, n_estimators=20 \n",
            "[CV]  learning_rate=0.01, max_depth=2, max_features=sqrt, n_estimators=20, total=   0.1s\n",
            "[CV] learning_rate=0.01, max_depth=2, max_features=sqrt, n_estimators=50 \n",
            "[CV]  learning_rate=0.01, max_depth=2, max_features=sqrt, n_estimators=50, total=   0.3s\n",
            "[CV] learning_rate=0.01, max_depth=2, max_features=sqrt, n_estimators=50 \n",
            "[CV]  learning_rate=0.01, max_depth=2, max_features=sqrt, n_estimators=50, total=   0.2s\n",
            "[CV] learning_rate=0.01, max_depth=2, max_features=sqrt, n_estimators=50 \n",
            "[CV]  learning_rate=0.01, max_depth=2, max_features=sqrt, n_estimators=50, total=   0.3s\n",
            "[CV] learning_rate=0.01, max_depth=2, max_features=sqrt, n_estimators=50 \n",
            "[CV]  learning_rate=0.01, max_depth=2, max_features=sqrt, n_estimators=50, total=   0.3s\n",
            "[CV] learning_rate=0.01, max_depth=2, max_features=sqrt, n_estimators=50 \n",
            "[CV]  learning_rate=0.01, max_depth=2, max_features=sqrt, n_estimators=50, total=   0.3s\n",
            "[CV] learning_rate=0.01, max_depth=2, max_features=sqrt, n_estimators=100 \n",
            "[CV]  learning_rate=0.01, max_depth=2, max_features=sqrt, n_estimators=100, total=   0.5s\n",
            "[CV] learning_rate=0.01, max_depth=2, max_features=sqrt, n_estimators=100 \n",
            "[CV]  learning_rate=0.01, max_depth=2, max_features=sqrt, n_estimators=100, total=   0.5s\n",
            "[CV] learning_rate=0.01, max_depth=2, max_features=sqrt, n_estimators=100 \n",
            "[CV]  learning_rate=0.01, max_depth=2, max_features=sqrt, n_estimators=100, total=   0.5s\n",
            "[CV] learning_rate=0.01, max_depth=2, max_features=sqrt, n_estimators=100 \n",
            "[CV]  learning_rate=0.01, max_depth=2, max_features=sqrt, n_estimators=100, total=   0.5s\n",
            "[CV] learning_rate=0.01, max_depth=2, max_features=sqrt, n_estimators=100 \n",
            "[CV]  learning_rate=0.01, max_depth=2, max_features=sqrt, n_estimators=100, total=   0.5s\n",
            "[CV] learning_rate=0.01, max_depth=3, max_features=log2, n_estimators=10 \n",
            "[CV]  learning_rate=0.01, max_depth=3, max_features=log2, n_estimators=10, total=   0.1s\n",
            "[CV] learning_rate=0.01, max_depth=3, max_features=log2, n_estimators=10 \n",
            "[CV]  learning_rate=0.01, max_depth=3, max_features=log2, n_estimators=10, total=   0.1s\n",
            "[CV] learning_rate=0.01, max_depth=3, max_features=log2, n_estimators=10 \n",
            "[CV]  learning_rate=0.01, max_depth=3, max_features=log2, n_estimators=10, total=   0.1s\n",
            "[CV] learning_rate=0.01, max_depth=3, max_features=log2, n_estimators=10 \n",
            "[CV]  learning_rate=0.01, max_depth=3, max_features=log2, n_estimators=10, total=   0.1s\n",
            "[CV] learning_rate=0.01, max_depth=3, max_features=log2, n_estimators=10 \n",
            "[CV]  learning_rate=0.01, max_depth=3, max_features=log2, n_estimators=10, total=   0.1s\n",
            "[CV] learning_rate=0.01, max_depth=3, max_features=log2, n_estimators=20 \n",
            "[CV]  learning_rate=0.01, max_depth=3, max_features=log2, n_estimators=20, total=   0.1s\n",
            "[CV] learning_rate=0.01, max_depth=3, max_features=log2, n_estimators=20 \n",
            "[CV]  learning_rate=0.01, max_depth=3, max_features=log2, n_estimators=20, total=   0.1s\n",
            "[CV] learning_rate=0.01, max_depth=3, max_features=log2, n_estimators=20 \n",
            "[CV]  learning_rate=0.01, max_depth=3, max_features=log2, n_estimators=20, total=   0.1s\n",
            "[CV] learning_rate=0.01, max_depth=3, max_features=log2, n_estimators=20 \n",
            "[CV]  learning_rate=0.01, max_depth=3, max_features=log2, n_estimators=20, total=   0.1s\n",
            "[CV] learning_rate=0.01, max_depth=3, max_features=log2, n_estimators=20 \n",
            "[CV]  learning_rate=0.01, max_depth=3, max_features=log2, n_estimators=20, total=   0.1s\n",
            "[CV] learning_rate=0.01, max_depth=3, max_features=log2, n_estimators=50 \n",
            "[CV]  learning_rate=0.01, max_depth=3, max_features=log2, n_estimators=50, total=   0.3s\n",
            "[CV] learning_rate=0.01, max_depth=3, max_features=log2, n_estimators=50 \n",
            "[CV]  learning_rate=0.01, max_depth=3, max_features=log2, n_estimators=50, total=   0.3s\n",
            "[CV] learning_rate=0.01, max_depth=3, max_features=log2, n_estimators=50 \n",
            "[CV]  learning_rate=0.01, max_depth=3, max_features=log2, n_estimators=50, total=   0.3s\n",
            "[CV] learning_rate=0.01, max_depth=3, max_features=log2, n_estimators=50 \n",
            "[CV]  learning_rate=0.01, max_depth=3, max_features=log2, n_estimators=50, total=   0.3s\n",
            "[CV] learning_rate=0.01, max_depth=3, max_features=log2, n_estimators=50 \n",
            "[CV]  learning_rate=0.01, max_depth=3, max_features=log2, n_estimators=50, total=   0.3s\n",
            "[CV] learning_rate=0.01, max_depth=3, max_features=log2, n_estimators=100 \n",
            "[CV]  learning_rate=0.01, max_depth=3, max_features=log2, n_estimators=100, total=   0.6s\n",
            "[CV] learning_rate=0.01, max_depth=3, max_features=log2, n_estimators=100 \n",
            "[CV]  learning_rate=0.01, max_depth=3, max_features=log2, n_estimators=100, total=   0.6s\n",
            "[CV] learning_rate=0.01, max_depth=3, max_features=log2, n_estimators=100 \n",
            "[CV]  learning_rate=0.01, max_depth=3, max_features=log2, n_estimators=100, total=   0.6s\n",
            "[CV] learning_rate=0.01, max_depth=3, max_features=log2, n_estimators=100 \n",
            "[CV]  learning_rate=0.01, max_depth=3, max_features=log2, n_estimators=100, total=   0.6s\n",
            "[CV] learning_rate=0.01, max_depth=3, max_features=log2, n_estimators=100 \n",
            "[CV]  learning_rate=0.01, max_depth=3, max_features=log2, n_estimators=100, total=   0.6s\n",
            "[CV] learning_rate=0.01, max_depth=3, max_features=sqrt, n_estimators=10 \n",
            "[CV]  learning_rate=0.01, max_depth=3, max_features=sqrt, n_estimators=10, total=   0.1s\n",
            "[CV] learning_rate=0.01, max_depth=3, max_features=sqrt, n_estimators=10 \n",
            "[CV]  learning_rate=0.01, max_depth=3, max_features=sqrt, n_estimators=10, total=   0.1s\n",
            "[CV] learning_rate=0.01, max_depth=3, max_features=sqrt, n_estimators=10 \n",
            "[CV]  learning_rate=0.01, max_depth=3, max_features=sqrt, n_estimators=10, total=   0.1s\n",
            "[CV] learning_rate=0.01, max_depth=3, max_features=sqrt, n_estimators=10 \n",
            "[CV]  learning_rate=0.01, max_depth=3, max_features=sqrt, n_estimators=10, total=   0.1s\n",
            "[CV] learning_rate=0.01, max_depth=3, max_features=sqrt, n_estimators=10 \n",
            "[CV]  learning_rate=0.01, max_depth=3, max_features=sqrt, n_estimators=10, total=   0.1s\n",
            "[CV] learning_rate=0.01, max_depth=3, max_features=sqrt, n_estimators=20 \n",
            "[CV]  learning_rate=0.01, max_depth=3, max_features=sqrt, n_estimators=20, total=   0.1s\n",
            "[CV] learning_rate=0.01, max_depth=3, max_features=sqrt, n_estimators=20 \n",
            "[CV]  learning_rate=0.01, max_depth=3, max_features=sqrt, n_estimators=20, total=   0.1s\n",
            "[CV] learning_rate=0.01, max_depth=3, max_features=sqrt, n_estimators=20 \n",
            "[CV]  learning_rate=0.01, max_depth=3, max_features=sqrt, n_estimators=20, total=   0.1s\n",
            "[CV] learning_rate=0.01, max_depth=3, max_features=sqrt, n_estimators=20 \n",
            "[CV]  learning_rate=0.01, max_depth=3, max_features=sqrt, n_estimators=20, total=   0.1s\n",
            "[CV] learning_rate=0.01, max_depth=3, max_features=sqrt, n_estimators=20 \n",
            "[CV]  learning_rate=0.01, max_depth=3, max_features=sqrt, n_estimators=20, total=   0.1s\n",
            "[CV] learning_rate=0.01, max_depth=3, max_features=sqrt, n_estimators=50 \n",
            "[CV]  learning_rate=0.01, max_depth=3, max_features=sqrt, n_estimators=50, total=   0.3s\n",
            "[CV] learning_rate=0.01, max_depth=3, max_features=sqrt, n_estimators=50 \n",
            "[CV]  learning_rate=0.01, max_depth=3, max_features=sqrt, n_estimators=50, total=   0.3s\n",
            "[CV] learning_rate=0.01, max_depth=3, max_features=sqrt, n_estimators=50 \n",
            "[CV]  learning_rate=0.01, max_depth=3, max_features=sqrt, n_estimators=50, total=   0.3s\n",
            "[CV] learning_rate=0.01, max_depth=3, max_features=sqrt, n_estimators=50 \n",
            "[CV]  learning_rate=0.01, max_depth=3, max_features=sqrt, n_estimators=50, total=   0.3s\n",
            "[CV] learning_rate=0.01, max_depth=3, max_features=sqrt, n_estimators=50 \n",
            "[CV]  learning_rate=0.01, max_depth=3, max_features=sqrt, n_estimators=50, total=   0.3s\n",
            "[CV] learning_rate=0.01, max_depth=3, max_features=sqrt, n_estimators=100 \n",
            "[CV]  learning_rate=0.01, max_depth=3, max_features=sqrt, n_estimators=100, total=   0.6s\n",
            "[CV] learning_rate=0.01, max_depth=3, max_features=sqrt, n_estimators=100 \n",
            "[CV]  learning_rate=0.01, max_depth=3, max_features=sqrt, n_estimators=100, total=   0.6s\n",
            "[CV] learning_rate=0.01, max_depth=3, max_features=sqrt, n_estimators=100 \n",
            "[CV]  learning_rate=0.01, max_depth=3, max_features=sqrt, n_estimators=100, total=   0.6s\n",
            "[CV] learning_rate=0.01, max_depth=3, max_features=sqrt, n_estimators=100 \n",
            "[CV]  learning_rate=0.01, max_depth=3, max_features=sqrt, n_estimators=100, total=   0.6s\n",
            "[CV] learning_rate=0.01, max_depth=3, max_features=sqrt, n_estimators=100 \n",
            "[CV]  learning_rate=0.01, max_depth=3, max_features=sqrt, n_estimators=100, total=   0.6s\n",
            "[CV] learning_rate=0.01, max_depth=5, max_features=log2, n_estimators=10 \n",
            "[CV]  learning_rate=0.01, max_depth=5, max_features=log2, n_estimators=10, total=   0.1s\n",
            "[CV] learning_rate=0.01, max_depth=5, max_features=log2, n_estimators=10 \n",
            "[CV]  learning_rate=0.01, max_depth=5, max_features=log2, n_estimators=10, total=   0.1s\n",
            "[CV] learning_rate=0.01, max_depth=5, max_features=log2, n_estimators=10 \n",
            "[CV]  learning_rate=0.01, max_depth=5, max_features=log2, n_estimators=10, total=   0.1s\n",
            "[CV] learning_rate=0.01, max_depth=5, max_features=log2, n_estimators=10 \n",
            "[CV]  learning_rate=0.01, max_depth=5, max_features=log2, n_estimators=10, total=   0.1s\n",
            "[CV] learning_rate=0.01, max_depth=5, max_features=log2, n_estimators=10 \n",
            "[CV]  learning_rate=0.01, max_depth=5, max_features=log2, n_estimators=10, total=   0.1s\n",
            "[CV] learning_rate=0.01, max_depth=5, max_features=log2, n_estimators=20 \n",
            "[CV]  learning_rate=0.01, max_depth=5, max_features=log2, n_estimators=20, total=   0.2s\n",
            "[CV] learning_rate=0.01, max_depth=5, max_features=log2, n_estimators=20 \n",
            "[CV]  learning_rate=0.01, max_depth=5, max_features=log2, n_estimators=20, total=   0.2s\n",
            "[CV] learning_rate=0.01, max_depth=5, max_features=log2, n_estimators=20 \n",
            "[CV]  learning_rate=0.01, max_depth=5, max_features=log2, n_estimators=20, total=   0.2s\n",
            "[CV] learning_rate=0.01, max_depth=5, max_features=log2, n_estimators=20 \n",
            "[CV]  learning_rate=0.01, max_depth=5, max_features=log2, n_estimators=20, total=   0.2s\n",
            "[CV] learning_rate=0.01, max_depth=5, max_features=log2, n_estimators=20 \n",
            "[CV]  learning_rate=0.01, max_depth=5, max_features=log2, n_estimators=20, total=   0.2s\n",
            "[CV] learning_rate=0.01, max_depth=5, max_features=log2, n_estimators=50 \n",
            "[CV]  learning_rate=0.01, max_depth=5, max_features=log2, n_estimators=50, total=   0.4s\n",
            "[CV] learning_rate=0.01, max_depth=5, max_features=log2, n_estimators=50 \n",
            "[CV]  learning_rate=0.01, max_depth=5, max_features=log2, n_estimators=50, total=   0.4s\n",
            "[CV] learning_rate=0.01, max_depth=5, max_features=log2, n_estimators=50 \n",
            "[CV]  learning_rate=0.01, max_depth=5, max_features=log2, n_estimators=50, total=   0.4s\n",
            "[CV] learning_rate=0.01, max_depth=5, max_features=log2, n_estimators=50 \n",
            "[CV]  learning_rate=0.01, max_depth=5, max_features=log2, n_estimators=50, total=   0.4s\n",
            "[CV] learning_rate=0.01, max_depth=5, max_features=log2, n_estimators=50 \n",
            "[CV]  learning_rate=0.01, max_depth=5, max_features=log2, n_estimators=50, total=   0.4s\n",
            "[CV] learning_rate=0.01, max_depth=5, max_features=log2, n_estimators=100 \n",
            "[CV]  learning_rate=0.01, max_depth=5, max_features=log2, n_estimators=100, total=   0.9s\n",
            "[CV] learning_rate=0.01, max_depth=5, max_features=log2, n_estimators=100 \n",
            "[CV]  learning_rate=0.01, max_depth=5, max_features=log2, n_estimators=100, total=   0.9s\n",
            "[CV] learning_rate=0.01, max_depth=5, max_features=log2, n_estimators=100 \n",
            "[CV]  learning_rate=0.01, max_depth=5, max_features=log2, n_estimators=100, total=   0.9s\n",
            "[CV] learning_rate=0.01, max_depth=5, max_features=log2, n_estimators=100 \n",
            "[CV]  learning_rate=0.01, max_depth=5, max_features=log2, n_estimators=100, total=   0.9s\n",
            "[CV] learning_rate=0.01, max_depth=5, max_features=log2, n_estimators=100 \n",
            "[CV]  learning_rate=0.01, max_depth=5, max_features=log2, n_estimators=100, total=   0.9s\n",
            "[CV] learning_rate=0.01, max_depth=5, max_features=sqrt, n_estimators=10 \n",
            "[CV]  learning_rate=0.01, max_depth=5, max_features=sqrt, n_estimators=10, total=   0.1s\n",
            "[CV] learning_rate=0.01, max_depth=5, max_features=sqrt, n_estimators=10 \n",
            "[CV]  learning_rate=0.01, max_depth=5, max_features=sqrt, n_estimators=10, total=   0.1s\n",
            "[CV] learning_rate=0.01, max_depth=5, max_features=sqrt, n_estimators=10 \n",
            "[CV]  learning_rate=0.01, max_depth=5, max_features=sqrt, n_estimators=10, total=   0.1s\n",
            "[CV] learning_rate=0.01, max_depth=5, max_features=sqrt, n_estimators=10 \n",
            "[CV]  learning_rate=0.01, max_depth=5, max_features=sqrt, n_estimators=10, total=   0.1s\n",
            "[CV] learning_rate=0.01, max_depth=5, max_features=sqrt, n_estimators=10 \n",
            "[CV]  learning_rate=0.01, max_depth=5, max_features=sqrt, n_estimators=10, total=   0.1s\n",
            "[CV] learning_rate=0.01, max_depth=5, max_features=sqrt, n_estimators=20 \n",
            "[CV]  learning_rate=0.01, max_depth=5, max_features=sqrt, n_estimators=20, total=   0.2s\n",
            "[CV] learning_rate=0.01, max_depth=5, max_features=sqrt, n_estimators=20 \n",
            "[CV]  learning_rate=0.01, max_depth=5, max_features=sqrt, n_estimators=20, total=   0.2s\n",
            "[CV] learning_rate=0.01, max_depth=5, max_features=sqrt, n_estimators=20 \n",
            "[CV]  learning_rate=0.01, max_depth=5, max_features=sqrt, n_estimators=20, total=   0.2s\n",
            "[CV] learning_rate=0.01, max_depth=5, max_features=sqrt, n_estimators=20 \n",
            "[CV]  learning_rate=0.01, max_depth=5, max_features=sqrt, n_estimators=20, total=   0.2s\n",
            "[CV] learning_rate=0.01, max_depth=5, max_features=sqrt, n_estimators=20 \n",
            "[CV]  learning_rate=0.01, max_depth=5, max_features=sqrt, n_estimators=20, total=   0.2s\n",
            "[CV] learning_rate=0.01, max_depth=5, max_features=sqrt, n_estimators=50 \n",
            "[CV]  learning_rate=0.01, max_depth=5, max_features=sqrt, n_estimators=50, total=   0.5s\n",
            "[CV] learning_rate=0.01, max_depth=5, max_features=sqrt, n_estimators=50 \n",
            "[CV]  learning_rate=0.01, max_depth=5, max_features=sqrt, n_estimators=50, total=   0.5s\n",
            "[CV] learning_rate=0.01, max_depth=5, max_features=sqrt, n_estimators=50 \n",
            "[CV]  learning_rate=0.01, max_depth=5, max_features=sqrt, n_estimators=50, total=   0.5s\n",
            "[CV] learning_rate=0.01, max_depth=5, max_features=sqrt, n_estimators=50 \n",
            "[CV]  learning_rate=0.01, max_depth=5, max_features=sqrt, n_estimators=50, total=   0.4s\n",
            "[CV] learning_rate=0.01, max_depth=5, max_features=sqrt, n_estimators=50 \n",
            "[CV]  learning_rate=0.01, max_depth=5, max_features=sqrt, n_estimators=50, total=   0.4s\n",
            "[CV] learning_rate=0.01, max_depth=5, max_features=sqrt, n_estimators=100 \n",
            "[CV]  learning_rate=0.01, max_depth=5, max_features=sqrt, n_estimators=100, total=   0.9s\n",
            "[CV] learning_rate=0.01, max_depth=5, max_features=sqrt, n_estimators=100 \n",
            "[CV]  learning_rate=0.01, max_depth=5, max_features=sqrt, n_estimators=100, total=   0.9s\n",
            "[CV] learning_rate=0.01, max_depth=5, max_features=sqrt, n_estimators=100 \n",
            "[CV]  learning_rate=0.01, max_depth=5, max_features=sqrt, n_estimators=100, total=   0.9s\n",
            "[CV] learning_rate=0.01, max_depth=5, max_features=sqrt, n_estimators=100 \n",
            "[CV]  learning_rate=0.01, max_depth=5, max_features=sqrt, n_estimators=100, total=   0.9s\n",
            "[CV] learning_rate=0.01, max_depth=5, max_features=sqrt, n_estimators=100 \n",
            "[CV]  learning_rate=0.01, max_depth=5, max_features=sqrt, n_estimators=100, total=   0.9s\n",
            "[CV] learning_rate=0.01, max_depth=8, max_features=log2, n_estimators=10 \n",
            "[CV]  learning_rate=0.01, max_depth=8, max_features=log2, n_estimators=10, total=   0.1s\n",
            "[CV] learning_rate=0.01, max_depth=8, max_features=log2, n_estimators=10 \n",
            "[CV]  learning_rate=0.01, max_depth=8, max_features=log2, n_estimators=10, total=   0.1s\n",
            "[CV] learning_rate=0.01, max_depth=8, max_features=log2, n_estimators=10 \n",
            "[CV]  learning_rate=0.01, max_depth=8, max_features=log2, n_estimators=10, total=   0.1s\n",
            "[CV] learning_rate=0.01, max_depth=8, max_features=log2, n_estimators=10 \n",
            "[CV]  learning_rate=0.01, max_depth=8, max_features=log2, n_estimators=10, total=   0.1s\n",
            "[CV] learning_rate=0.01, max_depth=8, max_features=log2, n_estimators=10 \n",
            "[CV]  learning_rate=0.01, max_depth=8, max_features=log2, n_estimators=10, total=   0.1s\n",
            "[CV] learning_rate=0.01, max_depth=8, max_features=log2, n_estimators=20 \n",
            "[CV]  learning_rate=0.01, max_depth=8, max_features=log2, n_estimators=20, total=   0.2s\n",
            "[CV] learning_rate=0.01, max_depth=8, max_features=log2, n_estimators=20 \n",
            "[CV]  learning_rate=0.01, max_depth=8, max_features=log2, n_estimators=20, total=   0.2s\n",
            "[CV] learning_rate=0.01, max_depth=8, max_features=log2, n_estimators=20 \n",
            "[CV]  learning_rate=0.01, max_depth=8, max_features=log2, n_estimators=20, total=   0.2s\n",
            "[CV] learning_rate=0.01, max_depth=8, max_features=log2, n_estimators=20 \n",
            "[CV]  learning_rate=0.01, max_depth=8, max_features=log2, n_estimators=20, total=   0.2s\n",
            "[CV] learning_rate=0.01, max_depth=8, max_features=log2, n_estimators=20 \n",
            "[CV]  learning_rate=0.01, max_depth=8, max_features=log2, n_estimators=20, total=   0.2s\n",
            "[CV] learning_rate=0.01, max_depth=8, max_features=log2, n_estimators=50 \n",
            "[CV]  learning_rate=0.01, max_depth=8, max_features=log2, n_estimators=50, total=   0.5s\n",
            "[CV] learning_rate=0.01, max_depth=8, max_features=log2, n_estimators=50 \n",
            "[CV]  learning_rate=0.01, max_depth=8, max_features=log2, n_estimators=50, total=   0.5s\n",
            "[CV] learning_rate=0.01, max_depth=8, max_features=log2, n_estimators=50 \n",
            "[CV]  learning_rate=0.01, max_depth=8, max_features=log2, n_estimators=50, total=   0.5s\n",
            "[CV] learning_rate=0.01, max_depth=8, max_features=log2, n_estimators=50 \n",
            "[CV]  learning_rate=0.01, max_depth=8, max_features=log2, n_estimators=50, total=   0.5s\n",
            "[CV] learning_rate=0.01, max_depth=8, max_features=log2, n_estimators=50 \n",
            "[CV]  learning_rate=0.01, max_depth=8, max_features=log2, n_estimators=50, total=   0.5s\n",
            "[CV] learning_rate=0.01, max_depth=8, max_features=log2, n_estimators=100 \n",
            "[CV]  learning_rate=0.01, max_depth=8, max_features=log2, n_estimators=100, total=   1.1s\n",
            "[CV] learning_rate=0.01, max_depth=8, max_features=log2, n_estimators=100 \n",
            "[CV]  learning_rate=0.01, max_depth=8, max_features=log2, n_estimators=100, total=   1.1s\n",
            "[CV] learning_rate=0.01, max_depth=8, max_features=log2, n_estimators=100 \n",
            "[CV]  learning_rate=0.01, max_depth=8, max_features=log2, n_estimators=100, total=   1.1s\n",
            "[CV] learning_rate=0.01, max_depth=8, max_features=log2, n_estimators=100 \n",
            "[CV]  learning_rate=0.01, max_depth=8, max_features=log2, n_estimators=100, total=   1.1s\n",
            "[CV] learning_rate=0.01, max_depth=8, max_features=log2, n_estimators=100 \n",
            "[CV]  learning_rate=0.01, max_depth=8, max_features=log2, n_estimators=100, total=   1.1s\n",
            "[CV] learning_rate=0.01, max_depth=8, max_features=sqrt, n_estimators=10 \n",
            "[CV]  learning_rate=0.01, max_depth=8, max_features=sqrt, n_estimators=10, total=   0.1s\n",
            "[CV] learning_rate=0.01, max_depth=8, max_features=sqrt, n_estimators=10 \n",
            "[CV]  learning_rate=0.01, max_depth=8, max_features=sqrt, n_estimators=10, total=   0.1s\n",
            "[CV] learning_rate=0.01, max_depth=8, max_features=sqrt, n_estimators=10 \n",
            "[CV]  learning_rate=0.01, max_depth=8, max_features=sqrt, n_estimators=10, total=   0.1s\n",
            "[CV] learning_rate=0.01, max_depth=8, max_features=sqrt, n_estimators=10 \n",
            "[CV]  learning_rate=0.01, max_depth=8, max_features=sqrt, n_estimators=10, total=   0.1s\n",
            "[CV] learning_rate=0.01, max_depth=8, max_features=sqrt, n_estimators=10 \n",
            "[CV]  learning_rate=0.01, max_depth=8, max_features=sqrt, n_estimators=10, total=   0.1s\n",
            "[CV] learning_rate=0.01, max_depth=8, max_features=sqrt, n_estimators=20 \n",
            "[CV]  learning_rate=0.01, max_depth=8, max_features=sqrt, n_estimators=20, total=   0.2s\n",
            "[CV] learning_rate=0.01, max_depth=8, max_features=sqrt, n_estimators=20 \n",
            "[CV]  learning_rate=0.01, max_depth=8, max_features=sqrt, n_estimators=20, total=   0.2s\n",
            "[CV] learning_rate=0.01, max_depth=8, max_features=sqrt, n_estimators=20 \n",
            "[CV]  learning_rate=0.01, max_depth=8, max_features=sqrt, n_estimators=20, total=   0.2s\n",
            "[CV] learning_rate=0.01, max_depth=8, max_features=sqrt, n_estimators=20 \n",
            "[CV]  learning_rate=0.01, max_depth=8, max_features=sqrt, n_estimators=20, total=   0.2s\n",
            "[CV] learning_rate=0.01, max_depth=8, max_features=sqrt, n_estimators=20 \n",
            "[CV]  learning_rate=0.01, max_depth=8, max_features=sqrt, n_estimators=20, total=   0.2s\n",
            "[CV] learning_rate=0.01, max_depth=8, max_features=sqrt, n_estimators=50 \n",
            "[CV]  learning_rate=0.01, max_depth=8, max_features=sqrt, n_estimators=50, total=   0.5s\n",
            "[CV] learning_rate=0.01, max_depth=8, max_features=sqrt, n_estimators=50 \n",
            "[CV]  learning_rate=0.01, max_depth=8, max_features=sqrt, n_estimators=50, total=   0.5s\n",
            "[CV] learning_rate=0.01, max_depth=8, max_features=sqrt, n_estimators=50 \n",
            "[CV]  learning_rate=0.01, max_depth=8, max_features=sqrt, n_estimators=50, total=   0.5s\n",
            "[CV] learning_rate=0.01, max_depth=8, max_features=sqrt, n_estimators=50 \n",
            "[CV]  learning_rate=0.01, max_depth=8, max_features=sqrt, n_estimators=50, total=   0.5s\n",
            "[CV] learning_rate=0.01, max_depth=8, max_features=sqrt, n_estimators=50 \n",
            "[CV]  learning_rate=0.01, max_depth=8, max_features=sqrt, n_estimators=50, total=   0.5s\n",
            "[CV] learning_rate=0.01, max_depth=8, max_features=sqrt, n_estimators=100 \n",
            "[CV]  learning_rate=0.01, max_depth=8, max_features=sqrt, n_estimators=100, total=   1.1s\n",
            "[CV] learning_rate=0.01, max_depth=8, max_features=sqrt, n_estimators=100 \n",
            "[CV]  learning_rate=0.01, max_depth=8, max_features=sqrt, n_estimators=100, total=   1.1s\n",
            "[CV] learning_rate=0.01, max_depth=8, max_features=sqrt, n_estimators=100 \n",
            "[CV]  learning_rate=0.01, max_depth=8, max_features=sqrt, n_estimators=100, total=   1.1s\n",
            "[CV] learning_rate=0.01, max_depth=8, max_features=sqrt, n_estimators=100 \n",
            "[CV]  learning_rate=0.01, max_depth=8, max_features=sqrt, n_estimators=100, total=   1.1s\n",
            "[CV] learning_rate=0.01, max_depth=8, max_features=sqrt, n_estimators=100 \n",
            "[CV]  learning_rate=0.01, max_depth=8, max_features=sqrt, n_estimators=100, total=   1.1s\n",
            "[CV] learning_rate=0.05, max_depth=2, max_features=log2, n_estimators=10 \n",
            "[CV]  learning_rate=0.05, max_depth=2, max_features=log2, n_estimators=10, total=   0.1s\n",
            "[CV] learning_rate=0.05, max_depth=2, max_features=log2, n_estimators=10 \n",
            "[CV]  learning_rate=0.05, max_depth=2, max_features=log2, n_estimators=10, total=   0.1s\n",
            "[CV] learning_rate=0.05, max_depth=2, max_features=log2, n_estimators=10 \n",
            "[CV]  learning_rate=0.05, max_depth=2, max_features=log2, n_estimators=10, total=   0.1s\n",
            "[CV] learning_rate=0.05, max_depth=2, max_features=log2, n_estimators=10 \n",
            "[CV]  learning_rate=0.05, max_depth=2, max_features=log2, n_estimators=10, total=   0.1s\n",
            "[CV] learning_rate=0.05, max_depth=2, max_features=log2, n_estimators=10 \n",
            "[CV]  learning_rate=0.05, max_depth=2, max_features=log2, n_estimators=10, total=   0.1s\n",
            "[CV] learning_rate=0.05, max_depth=2, max_features=log2, n_estimators=20 \n",
            "[CV]  learning_rate=0.05, max_depth=2, max_features=log2, n_estimators=20, total=   0.1s\n",
            "[CV] learning_rate=0.05, max_depth=2, max_features=log2, n_estimators=20 \n",
            "[CV]  learning_rate=0.05, max_depth=2, max_features=log2, n_estimators=20, total=   0.1s\n",
            "[CV] learning_rate=0.05, max_depth=2, max_features=log2, n_estimators=20 \n",
            "[CV]  learning_rate=0.05, max_depth=2, max_features=log2, n_estimators=20, total=   0.1s\n",
            "[CV] learning_rate=0.05, max_depth=2, max_features=log2, n_estimators=20 \n",
            "[CV]  learning_rate=0.05, max_depth=2, max_features=log2, n_estimators=20, total=   0.1s\n",
            "[CV] learning_rate=0.05, max_depth=2, max_features=log2, n_estimators=20 \n",
            "[CV]  learning_rate=0.05, max_depth=2, max_features=log2, n_estimators=20, total=   0.1s\n",
            "[CV] learning_rate=0.05, max_depth=2, max_features=log2, n_estimators=50 \n",
            "[CV]  learning_rate=0.05, max_depth=2, max_features=log2, n_estimators=50, total=   0.2s\n",
            "[CV] learning_rate=0.05, max_depth=2, max_features=log2, n_estimators=50 \n",
            "[CV]  learning_rate=0.05, max_depth=2, max_features=log2, n_estimators=50, total=   0.3s\n",
            "[CV] learning_rate=0.05, max_depth=2, max_features=log2, n_estimators=50 \n",
            "[CV]  learning_rate=0.05, max_depth=2, max_features=log2, n_estimators=50, total=   0.3s\n",
            "[CV] learning_rate=0.05, max_depth=2, max_features=log2, n_estimators=50 \n",
            "[CV]  learning_rate=0.05, max_depth=2, max_features=log2, n_estimators=50, total=   0.3s\n",
            "[CV] learning_rate=0.05, max_depth=2, max_features=log2, n_estimators=50 \n",
            "[CV]  learning_rate=0.05, max_depth=2, max_features=log2, n_estimators=50, total=   0.3s\n",
            "[CV] learning_rate=0.05, max_depth=2, max_features=log2, n_estimators=100 \n",
            "[CV]  learning_rate=0.05, max_depth=2, max_features=log2, n_estimators=100, total=   0.5s\n",
            "[CV] learning_rate=0.05, max_depth=2, max_features=log2, n_estimators=100 \n",
            "[CV]  learning_rate=0.05, max_depth=2, max_features=log2, n_estimators=100, total=   0.5s\n",
            "[CV] learning_rate=0.05, max_depth=2, max_features=log2, n_estimators=100 \n",
            "[CV]  learning_rate=0.05, max_depth=2, max_features=log2, n_estimators=100, total=   0.5s\n",
            "[CV] learning_rate=0.05, max_depth=2, max_features=log2, n_estimators=100 \n",
            "[CV]  learning_rate=0.05, max_depth=2, max_features=log2, n_estimators=100, total=   0.5s\n",
            "[CV] learning_rate=0.05, max_depth=2, max_features=log2, n_estimators=100 \n",
            "[CV]  learning_rate=0.05, max_depth=2, max_features=log2, n_estimators=100, total=   0.5s\n",
            "[CV] learning_rate=0.05, max_depth=2, max_features=sqrt, n_estimators=10 \n",
            "[CV]  learning_rate=0.05, max_depth=2, max_features=sqrt, n_estimators=10, total=   0.1s\n",
            "[CV] learning_rate=0.05, max_depth=2, max_features=sqrt, n_estimators=10 \n",
            "[CV]  learning_rate=0.05, max_depth=2, max_features=sqrt, n_estimators=10, total=   0.1s\n",
            "[CV] learning_rate=0.05, max_depth=2, max_features=sqrt, n_estimators=10 \n",
            "[CV]  learning_rate=0.05, max_depth=2, max_features=sqrt, n_estimators=10, total=   0.1s\n",
            "[CV] learning_rate=0.05, max_depth=2, max_features=sqrt, n_estimators=10 \n",
            "[CV]  learning_rate=0.05, max_depth=2, max_features=sqrt, n_estimators=10, total=   0.1s\n",
            "[CV] learning_rate=0.05, max_depth=2, max_features=sqrt, n_estimators=10 \n",
            "[CV]  learning_rate=0.05, max_depth=2, max_features=sqrt, n_estimators=10, total=   0.1s\n",
            "[CV] learning_rate=0.05, max_depth=2, max_features=sqrt, n_estimators=20 \n",
            "[CV]  learning_rate=0.05, max_depth=2, max_features=sqrt, n_estimators=20, total=   0.1s\n",
            "[CV] learning_rate=0.05, max_depth=2, max_features=sqrt, n_estimators=20 \n",
            "[CV]  learning_rate=0.05, max_depth=2, max_features=sqrt, n_estimators=20, total=   0.1s\n",
            "[CV] learning_rate=0.05, max_depth=2, max_features=sqrt, n_estimators=20 \n",
            "[CV]  learning_rate=0.05, max_depth=2, max_features=sqrt, n_estimators=20, total=   0.1s\n",
            "[CV] learning_rate=0.05, max_depth=2, max_features=sqrt, n_estimators=20 \n",
            "[CV]  learning_rate=0.05, max_depth=2, max_features=sqrt, n_estimators=20, total=   0.1s\n",
            "[CV] learning_rate=0.05, max_depth=2, max_features=sqrt, n_estimators=20 \n",
            "[CV]  learning_rate=0.05, max_depth=2, max_features=sqrt, n_estimators=20, total=   0.1s\n",
            "[CV] learning_rate=0.05, max_depth=2, max_features=sqrt, n_estimators=50 \n",
            "[CV]  learning_rate=0.05, max_depth=2, max_features=sqrt, n_estimators=50, total=   0.2s\n",
            "[CV] learning_rate=0.05, max_depth=2, max_features=sqrt, n_estimators=50 \n",
            "[CV]  learning_rate=0.05, max_depth=2, max_features=sqrt, n_estimators=50, total=   0.3s\n",
            "[CV] learning_rate=0.05, max_depth=2, max_features=sqrt, n_estimators=50 \n",
            "[CV]  learning_rate=0.05, max_depth=2, max_features=sqrt, n_estimators=50, total=   0.2s\n",
            "[CV] learning_rate=0.05, max_depth=2, max_features=sqrt, n_estimators=50 \n",
            "[CV]  learning_rate=0.05, max_depth=2, max_features=sqrt, n_estimators=50, total=   0.3s\n",
            "[CV] learning_rate=0.05, max_depth=2, max_features=sqrt, n_estimators=50 \n",
            "[CV]  learning_rate=0.05, max_depth=2, max_features=sqrt, n_estimators=50, total=   0.2s\n",
            "[CV] learning_rate=0.05, max_depth=2, max_features=sqrt, n_estimators=100 \n",
            "[CV]  learning_rate=0.05, max_depth=2, max_features=sqrt, n_estimators=100, total=   0.5s\n",
            "[CV] learning_rate=0.05, max_depth=2, max_features=sqrt, n_estimators=100 \n",
            "[CV]  learning_rate=0.05, max_depth=2, max_features=sqrt, n_estimators=100, total=   0.5s\n",
            "[CV] learning_rate=0.05, max_depth=2, max_features=sqrt, n_estimators=100 \n",
            "[CV]  learning_rate=0.05, max_depth=2, max_features=sqrt, n_estimators=100, total=   0.5s\n",
            "[CV] learning_rate=0.05, max_depth=2, max_features=sqrt, n_estimators=100 \n",
            "[CV]  learning_rate=0.05, max_depth=2, max_features=sqrt, n_estimators=100, total=   0.5s\n",
            "[CV] learning_rate=0.05, max_depth=2, max_features=sqrt, n_estimators=100 \n",
            "[CV]  learning_rate=0.05, max_depth=2, max_features=sqrt, n_estimators=100, total=   0.5s\n",
            "[CV] learning_rate=0.05, max_depth=3, max_features=log2, n_estimators=10 \n",
            "[CV]  learning_rate=0.05, max_depth=3, max_features=log2, n_estimators=10, total=   0.1s\n",
            "[CV] learning_rate=0.05, max_depth=3, max_features=log2, n_estimators=10 \n",
            "[CV]  learning_rate=0.05, max_depth=3, max_features=log2, n_estimators=10, total=   0.1s\n",
            "[CV] learning_rate=0.05, max_depth=3, max_features=log2, n_estimators=10 \n",
            "[CV]  learning_rate=0.05, max_depth=3, max_features=log2, n_estimators=10, total=   0.1s\n",
            "[CV] learning_rate=0.05, max_depth=3, max_features=log2, n_estimators=10 \n",
            "[CV]  learning_rate=0.05, max_depth=3, max_features=log2, n_estimators=10, total=   0.1s\n",
            "[CV] learning_rate=0.05, max_depth=3, max_features=log2, n_estimators=10 \n",
            "[CV]  learning_rate=0.05, max_depth=3, max_features=log2, n_estimators=10, total=   0.1s\n",
            "[CV] learning_rate=0.05, max_depth=3, max_features=log2, n_estimators=20 \n",
            "[CV]  learning_rate=0.05, max_depth=3, max_features=log2, n_estimators=20, total=   0.1s\n",
            "[CV] learning_rate=0.05, max_depth=3, max_features=log2, n_estimators=20 \n",
            "[CV]  learning_rate=0.05, max_depth=3, max_features=log2, n_estimators=20, total=   0.1s\n",
            "[CV] learning_rate=0.05, max_depth=3, max_features=log2, n_estimators=20 \n",
            "[CV]  learning_rate=0.05, max_depth=3, max_features=log2, n_estimators=20, total=   0.1s\n",
            "[CV] learning_rate=0.05, max_depth=3, max_features=log2, n_estimators=20 \n",
            "[CV]  learning_rate=0.05, max_depth=3, max_features=log2, n_estimators=20, total=   0.1s\n",
            "[CV] learning_rate=0.05, max_depth=3, max_features=log2, n_estimators=20 \n",
            "[CV]  learning_rate=0.05, max_depth=3, max_features=log2, n_estimators=20, total=   0.1s\n",
            "[CV] learning_rate=0.05, max_depth=3, max_features=log2, n_estimators=50 \n",
            "[CV]  learning_rate=0.05, max_depth=3, max_features=log2, n_estimators=50, total=   0.3s\n",
            "[CV] learning_rate=0.05, max_depth=3, max_features=log2, n_estimators=50 \n",
            "[CV]  learning_rate=0.05, max_depth=3, max_features=log2, n_estimators=50, total=   0.3s\n",
            "[CV] learning_rate=0.05, max_depth=3, max_features=log2, n_estimators=50 \n",
            "[CV]  learning_rate=0.05, max_depth=3, max_features=log2, n_estimators=50, total=   0.3s\n",
            "[CV] learning_rate=0.05, max_depth=3, max_features=log2, n_estimators=50 \n",
            "[CV]  learning_rate=0.05, max_depth=3, max_features=log2, n_estimators=50, total=   0.3s\n",
            "[CV] learning_rate=0.05, max_depth=3, max_features=log2, n_estimators=50 \n",
            "[CV]  learning_rate=0.05, max_depth=3, max_features=log2, n_estimators=50, total=   0.3s\n",
            "[CV] learning_rate=0.05, max_depth=3, max_features=log2, n_estimators=100 \n",
            "[CV]  learning_rate=0.05, max_depth=3, max_features=log2, n_estimators=100, total=   0.6s\n",
            "[CV] learning_rate=0.05, max_depth=3, max_features=log2, n_estimators=100 \n",
            "[CV]  learning_rate=0.05, max_depth=3, max_features=log2, n_estimators=100, total=   0.6s\n",
            "[CV] learning_rate=0.05, max_depth=3, max_features=log2, n_estimators=100 \n",
            "[CV]  learning_rate=0.05, max_depth=3, max_features=log2, n_estimators=100, total=   0.6s\n",
            "[CV] learning_rate=0.05, max_depth=3, max_features=log2, n_estimators=100 \n",
            "[CV]  learning_rate=0.05, max_depth=3, max_features=log2, n_estimators=100, total=   0.6s\n",
            "[CV] learning_rate=0.05, max_depth=3, max_features=log2, n_estimators=100 \n",
            "[CV]  learning_rate=0.05, max_depth=3, max_features=log2, n_estimators=100, total=   0.6s\n",
            "[CV] learning_rate=0.05, max_depth=3, max_features=sqrt, n_estimators=10 \n",
            "[CV]  learning_rate=0.05, max_depth=3, max_features=sqrt, n_estimators=10, total=   0.1s\n",
            "[CV] learning_rate=0.05, max_depth=3, max_features=sqrt, n_estimators=10 \n",
            "[CV]  learning_rate=0.05, max_depth=3, max_features=sqrt, n_estimators=10, total=   0.1s\n",
            "[CV] learning_rate=0.05, max_depth=3, max_features=sqrt, n_estimators=10 \n",
            "[CV]  learning_rate=0.05, max_depth=3, max_features=sqrt, n_estimators=10, total=   0.1s\n",
            "[CV] learning_rate=0.05, max_depth=3, max_features=sqrt, n_estimators=10 \n",
            "[CV]  learning_rate=0.05, max_depth=3, max_features=sqrt, n_estimators=10, total=   0.1s\n",
            "[CV] learning_rate=0.05, max_depth=3, max_features=sqrt, n_estimators=10 \n",
            "[CV]  learning_rate=0.05, max_depth=3, max_features=sqrt, n_estimators=10, total=   0.1s\n",
            "[CV] learning_rate=0.05, max_depth=3, max_features=sqrt, n_estimators=20 \n",
            "[CV]  learning_rate=0.05, max_depth=3, max_features=sqrt, n_estimators=20, total=   0.1s\n",
            "[CV] learning_rate=0.05, max_depth=3, max_features=sqrt, n_estimators=20 \n",
            "[CV]  learning_rate=0.05, max_depth=3, max_features=sqrt, n_estimators=20, total=   0.1s\n",
            "[CV] learning_rate=0.05, max_depth=3, max_features=sqrt, n_estimators=20 \n",
            "[CV]  learning_rate=0.05, max_depth=3, max_features=sqrt, n_estimators=20, total=   0.1s\n",
            "[CV] learning_rate=0.05, max_depth=3, max_features=sqrt, n_estimators=20 \n",
            "[CV]  learning_rate=0.05, max_depth=3, max_features=sqrt, n_estimators=20, total=   0.1s\n",
            "[CV] learning_rate=0.05, max_depth=3, max_features=sqrt, n_estimators=20 \n",
            "[CV]  learning_rate=0.05, max_depth=3, max_features=sqrt, n_estimators=20, total=   0.1s\n",
            "[CV] learning_rate=0.05, max_depth=3, max_features=sqrt, n_estimators=50 \n",
            "[CV]  learning_rate=0.05, max_depth=3, max_features=sqrt, n_estimators=50, total=   0.3s\n",
            "[CV] learning_rate=0.05, max_depth=3, max_features=sqrt, n_estimators=50 \n",
            "[CV]  learning_rate=0.05, max_depth=3, max_features=sqrt, n_estimators=50, total=   0.3s\n",
            "[CV] learning_rate=0.05, max_depth=3, max_features=sqrt, n_estimators=50 \n",
            "[CV]  learning_rate=0.05, max_depth=3, max_features=sqrt, n_estimators=50, total=   0.3s\n",
            "[CV] learning_rate=0.05, max_depth=3, max_features=sqrt, n_estimators=50 \n",
            "[CV]  learning_rate=0.05, max_depth=3, max_features=sqrt, n_estimators=50, total=   0.3s\n",
            "[CV] learning_rate=0.05, max_depth=3, max_features=sqrt, n_estimators=50 \n",
            "[CV]  learning_rate=0.05, max_depth=3, max_features=sqrt, n_estimators=50, total=   0.3s\n",
            "[CV] learning_rate=0.05, max_depth=3, max_features=sqrt, n_estimators=100 \n",
            "[CV]  learning_rate=0.05, max_depth=3, max_features=sqrt, n_estimators=100, total=   0.6s\n",
            "[CV] learning_rate=0.05, max_depth=3, max_features=sqrt, n_estimators=100 \n",
            "[CV]  learning_rate=0.05, max_depth=3, max_features=sqrt, n_estimators=100, total=   0.6s\n",
            "[CV] learning_rate=0.05, max_depth=3, max_features=sqrt, n_estimators=100 \n",
            "[CV]  learning_rate=0.05, max_depth=3, max_features=sqrt, n_estimators=100, total=   0.6s\n",
            "[CV] learning_rate=0.05, max_depth=3, max_features=sqrt, n_estimators=100 \n",
            "[CV]  learning_rate=0.05, max_depth=3, max_features=sqrt, n_estimators=100, total=   0.6s\n",
            "[CV] learning_rate=0.05, max_depth=3, max_features=sqrt, n_estimators=100 \n",
            "[CV]  learning_rate=0.05, max_depth=3, max_features=sqrt, n_estimators=100, total=   0.6s\n",
            "[CV] learning_rate=0.05, max_depth=5, max_features=log2, n_estimators=10 \n",
            "[CV]  learning_rate=0.05, max_depth=5, max_features=log2, n_estimators=10, total=   0.1s\n",
            "[CV] learning_rate=0.05, max_depth=5, max_features=log2, n_estimators=10 \n",
            "[CV]  learning_rate=0.05, max_depth=5, max_features=log2, n_estimators=10, total=   0.1s\n",
            "[CV] learning_rate=0.05, max_depth=5, max_features=log2, n_estimators=10 \n",
            "[CV]  learning_rate=0.05, max_depth=5, max_features=log2, n_estimators=10, total=   0.1s\n",
            "[CV] learning_rate=0.05, max_depth=5, max_features=log2, n_estimators=10 \n",
            "[CV]  learning_rate=0.05, max_depth=5, max_features=log2, n_estimators=10, total=   0.1s\n",
            "[CV] learning_rate=0.05, max_depth=5, max_features=log2, n_estimators=10 \n",
            "[CV]  learning_rate=0.05, max_depth=5, max_features=log2, n_estimators=10, total=   0.1s\n",
            "[CV] learning_rate=0.05, max_depth=5, max_features=log2, n_estimators=20 \n",
            "[CV]  learning_rate=0.05, max_depth=5, max_features=log2, n_estimators=20, total=   0.2s\n",
            "[CV] learning_rate=0.05, max_depth=5, max_features=log2, n_estimators=20 \n",
            "[CV]  learning_rate=0.05, max_depth=5, max_features=log2, n_estimators=20, total=   0.2s\n",
            "[CV] learning_rate=0.05, max_depth=5, max_features=log2, n_estimators=20 \n",
            "[CV]  learning_rate=0.05, max_depth=5, max_features=log2, n_estimators=20, total=   0.2s\n",
            "[CV] learning_rate=0.05, max_depth=5, max_features=log2, n_estimators=20 \n",
            "[CV]  learning_rate=0.05, max_depth=5, max_features=log2, n_estimators=20, total=   0.2s\n",
            "[CV] learning_rate=0.05, max_depth=5, max_features=log2, n_estimators=20 \n",
            "[CV]  learning_rate=0.05, max_depth=5, max_features=log2, n_estimators=20, total=   0.2s\n",
            "[CV] learning_rate=0.05, max_depth=5, max_features=log2, n_estimators=50 \n",
            "[CV]  learning_rate=0.05, max_depth=5, max_features=log2, n_estimators=50, total=   0.5s\n",
            "[CV] learning_rate=0.05, max_depth=5, max_features=log2, n_estimators=50 \n",
            "[CV]  learning_rate=0.05, max_depth=5, max_features=log2, n_estimators=50, total=   0.5s\n",
            "[CV] learning_rate=0.05, max_depth=5, max_features=log2, n_estimators=50 \n",
            "[CV]  learning_rate=0.05, max_depth=5, max_features=log2, n_estimators=50, total=   0.5s\n",
            "[CV] learning_rate=0.05, max_depth=5, max_features=log2, n_estimators=50 \n",
            "[CV]  learning_rate=0.05, max_depth=5, max_features=log2, n_estimators=50, total=   0.5s\n",
            "[CV] learning_rate=0.05, max_depth=5, max_features=log2, n_estimators=50 \n",
            "[CV]  learning_rate=0.05, max_depth=5, max_features=log2, n_estimators=50, total=   0.4s\n",
            "[CV] learning_rate=0.05, max_depth=5, max_features=log2, n_estimators=100 \n",
            "[CV]  learning_rate=0.05, max_depth=5, max_features=log2, n_estimators=100, total=   0.9s\n",
            "[CV] learning_rate=0.05, max_depth=5, max_features=log2, n_estimators=100 \n",
            "[CV]  learning_rate=0.05, max_depth=5, max_features=log2, n_estimators=100, total=   0.9s\n",
            "[CV] learning_rate=0.05, max_depth=5, max_features=log2, n_estimators=100 \n",
            "[CV]  learning_rate=0.05, max_depth=5, max_features=log2, n_estimators=100, total=   0.9s\n",
            "[CV] learning_rate=0.05, max_depth=5, max_features=log2, n_estimators=100 \n",
            "[CV]  learning_rate=0.05, max_depth=5, max_features=log2, n_estimators=100, total=   0.9s\n",
            "[CV] learning_rate=0.05, max_depth=5, max_features=log2, n_estimators=100 \n",
            "[CV]  learning_rate=0.05, max_depth=5, max_features=log2, n_estimators=100, total=   0.9s\n",
            "[CV] learning_rate=0.05, max_depth=5, max_features=sqrt, n_estimators=10 \n",
            "[CV]  learning_rate=0.05, max_depth=5, max_features=sqrt, n_estimators=10, total=   0.1s\n",
            "[CV] learning_rate=0.05, max_depth=5, max_features=sqrt, n_estimators=10 \n",
            "[CV]  learning_rate=0.05, max_depth=5, max_features=sqrt, n_estimators=10, total=   0.1s\n",
            "[CV] learning_rate=0.05, max_depth=5, max_features=sqrt, n_estimators=10 \n",
            "[CV]  learning_rate=0.05, max_depth=5, max_features=sqrt, n_estimators=10, total=   0.1s\n",
            "[CV] learning_rate=0.05, max_depth=5, max_features=sqrt, n_estimators=10 \n",
            "[CV]  learning_rate=0.05, max_depth=5, max_features=sqrt, n_estimators=10, total=   0.1s\n",
            "[CV] learning_rate=0.05, max_depth=5, max_features=sqrt, n_estimators=10 \n",
            "[CV]  learning_rate=0.05, max_depth=5, max_features=sqrt, n_estimators=10, total=   0.1s\n",
            "[CV] learning_rate=0.05, max_depth=5, max_features=sqrt, n_estimators=20 \n",
            "[CV]  learning_rate=0.05, max_depth=5, max_features=sqrt, n_estimators=20, total=   0.2s\n",
            "[CV] learning_rate=0.05, max_depth=5, max_features=sqrt, n_estimators=20 \n",
            "[CV]  learning_rate=0.05, max_depth=5, max_features=sqrt, n_estimators=20, total=   0.2s\n",
            "[CV] learning_rate=0.05, max_depth=5, max_features=sqrt, n_estimators=20 \n",
            "[CV]  learning_rate=0.05, max_depth=5, max_features=sqrt, n_estimators=20, total=   0.2s\n",
            "[CV] learning_rate=0.05, max_depth=5, max_features=sqrt, n_estimators=20 \n",
            "[CV]  learning_rate=0.05, max_depth=5, max_features=sqrt, n_estimators=20, total=   0.2s\n",
            "[CV] learning_rate=0.05, max_depth=5, max_features=sqrt, n_estimators=20 \n",
            "[CV]  learning_rate=0.05, max_depth=5, max_features=sqrt, n_estimators=20, total=   0.2s\n",
            "[CV] learning_rate=0.05, max_depth=5, max_features=sqrt, n_estimators=50 \n",
            "[CV]  learning_rate=0.05, max_depth=5, max_features=sqrt, n_estimators=50, total=   0.5s\n",
            "[CV] learning_rate=0.05, max_depth=5, max_features=sqrt, n_estimators=50 \n",
            "[CV]  learning_rate=0.05, max_depth=5, max_features=sqrt, n_estimators=50, total=   0.4s\n",
            "[CV] learning_rate=0.05, max_depth=5, max_features=sqrt, n_estimators=50 \n",
            "[CV]  learning_rate=0.05, max_depth=5, max_features=sqrt, n_estimators=50, total=   0.4s\n",
            "[CV] learning_rate=0.05, max_depth=5, max_features=sqrt, n_estimators=50 \n",
            "[CV]  learning_rate=0.05, max_depth=5, max_features=sqrt, n_estimators=50, total=   0.5s\n",
            "[CV] learning_rate=0.05, max_depth=5, max_features=sqrt, n_estimators=50 \n",
            "[CV]  learning_rate=0.05, max_depth=5, max_features=sqrt, n_estimators=50, total=   0.4s\n",
            "[CV] learning_rate=0.05, max_depth=5, max_features=sqrt, n_estimators=100 \n",
            "[CV]  learning_rate=0.05, max_depth=5, max_features=sqrt, n_estimators=100, total=   0.9s\n",
            "[CV] learning_rate=0.05, max_depth=5, max_features=sqrt, n_estimators=100 \n",
            "[CV]  learning_rate=0.05, max_depth=5, max_features=sqrt, n_estimators=100, total=   0.9s\n",
            "[CV] learning_rate=0.05, max_depth=5, max_features=sqrt, n_estimators=100 \n",
            "[CV]  learning_rate=0.05, max_depth=5, max_features=sqrt, n_estimators=100, total=   0.9s\n",
            "[CV] learning_rate=0.05, max_depth=5, max_features=sqrt, n_estimators=100 \n",
            "[CV]  learning_rate=0.05, max_depth=5, max_features=sqrt, n_estimators=100, total=   0.9s\n",
            "[CV] learning_rate=0.05, max_depth=5, max_features=sqrt, n_estimators=100 \n",
            "[CV]  learning_rate=0.05, max_depth=5, max_features=sqrt, n_estimators=100, total=   0.9s\n",
            "[CV] learning_rate=0.05, max_depth=8, max_features=log2, n_estimators=10 \n",
            "[CV]  learning_rate=0.05, max_depth=8, max_features=log2, n_estimators=10, total=   0.1s\n",
            "[CV] learning_rate=0.05, max_depth=8, max_features=log2, n_estimators=10 \n",
            "[CV]  learning_rate=0.05, max_depth=8, max_features=log2, n_estimators=10, total=   0.1s\n",
            "[CV] learning_rate=0.05, max_depth=8, max_features=log2, n_estimators=10 \n",
            "[CV]  learning_rate=0.05, max_depth=8, max_features=log2, n_estimators=10, total=   0.1s\n",
            "[CV] learning_rate=0.05, max_depth=8, max_features=log2, n_estimators=10 \n",
            "[CV]  learning_rate=0.05, max_depth=8, max_features=log2, n_estimators=10, total=   0.1s\n",
            "[CV] learning_rate=0.05, max_depth=8, max_features=log2, n_estimators=10 \n",
            "[CV]  learning_rate=0.05, max_depth=8, max_features=log2, n_estimators=10, total=   0.1s\n",
            "[CV] learning_rate=0.05, max_depth=8, max_features=log2, n_estimators=20 \n",
            "[CV]  learning_rate=0.05, max_depth=8, max_features=log2, n_estimators=20, total=   0.2s\n",
            "[CV] learning_rate=0.05, max_depth=8, max_features=log2, n_estimators=20 \n",
            "[CV]  learning_rate=0.05, max_depth=8, max_features=log2, n_estimators=20, total=   0.3s\n",
            "[CV] learning_rate=0.05, max_depth=8, max_features=log2, n_estimators=20 \n",
            "[CV]  learning_rate=0.05, max_depth=8, max_features=log2, n_estimators=20, total=   0.2s\n",
            "[CV] learning_rate=0.05, max_depth=8, max_features=log2, n_estimators=20 \n",
            "[CV]  learning_rate=0.05, max_depth=8, max_features=log2, n_estimators=20, total=   0.2s\n",
            "[CV] learning_rate=0.05, max_depth=8, max_features=log2, n_estimators=20 \n",
            "[CV]  learning_rate=0.05, max_depth=8, max_features=log2, n_estimators=20, total=   0.2s\n",
            "[CV] learning_rate=0.05, max_depth=8, max_features=log2, n_estimators=50 \n",
            "[CV]  learning_rate=0.05, max_depth=8, max_features=log2, n_estimators=50, total=   0.6s\n",
            "[CV] learning_rate=0.05, max_depth=8, max_features=log2, n_estimators=50 \n",
            "[CV]  learning_rate=0.05, max_depth=8, max_features=log2, n_estimators=50, total=   0.6s\n",
            "[CV] learning_rate=0.05, max_depth=8, max_features=log2, n_estimators=50 \n",
            "[CV]  learning_rate=0.05, max_depth=8, max_features=log2, n_estimators=50, total=   0.5s\n",
            "[CV] learning_rate=0.05, max_depth=8, max_features=log2, n_estimators=50 \n",
            "[CV]  learning_rate=0.05, max_depth=8, max_features=log2, n_estimators=50, total=   0.5s\n",
            "[CV] learning_rate=0.05, max_depth=8, max_features=log2, n_estimators=50 \n",
            "[CV]  learning_rate=0.05, max_depth=8, max_features=log2, n_estimators=50, total=   0.5s\n",
            "[CV] learning_rate=0.05, max_depth=8, max_features=log2, n_estimators=100 \n",
            "[CV]  learning_rate=0.05, max_depth=8, max_features=log2, n_estimators=100, total=   1.0s\n",
            "[CV] learning_rate=0.05, max_depth=8, max_features=log2, n_estimators=100 \n",
            "[CV]  learning_rate=0.05, max_depth=8, max_features=log2, n_estimators=100, total=   1.0s\n",
            "[CV] learning_rate=0.05, max_depth=8, max_features=log2, n_estimators=100 \n",
            "[CV]  learning_rate=0.05, max_depth=8, max_features=log2, n_estimators=100, total=   1.0s\n",
            "[CV] learning_rate=0.05, max_depth=8, max_features=log2, n_estimators=100 \n",
            "[CV]  learning_rate=0.05, max_depth=8, max_features=log2, n_estimators=100, total=   1.0s\n",
            "[CV] learning_rate=0.05, max_depth=8, max_features=log2, n_estimators=100 \n",
            "[CV]  learning_rate=0.05, max_depth=8, max_features=log2, n_estimators=100, total=   1.0s\n",
            "[CV] learning_rate=0.05, max_depth=8, max_features=sqrt, n_estimators=10 \n",
            "[CV]  learning_rate=0.05, max_depth=8, max_features=sqrt, n_estimators=10, total=   0.1s\n",
            "[CV] learning_rate=0.05, max_depth=8, max_features=sqrt, n_estimators=10 \n",
            "[CV]  learning_rate=0.05, max_depth=8, max_features=sqrt, n_estimators=10, total=   0.1s\n",
            "[CV] learning_rate=0.05, max_depth=8, max_features=sqrt, n_estimators=10 \n",
            "[CV]  learning_rate=0.05, max_depth=8, max_features=sqrt, n_estimators=10, total=   0.1s\n",
            "[CV] learning_rate=0.05, max_depth=8, max_features=sqrt, n_estimators=10 \n",
            "[CV]  learning_rate=0.05, max_depth=8, max_features=sqrt, n_estimators=10, total=   0.1s\n",
            "[CV] learning_rate=0.05, max_depth=8, max_features=sqrt, n_estimators=10 \n",
            "[CV]  learning_rate=0.05, max_depth=8, max_features=sqrt, n_estimators=10, total=   0.1s\n",
            "[CV] learning_rate=0.05, max_depth=8, max_features=sqrt, n_estimators=20 \n",
            "[CV]  learning_rate=0.05, max_depth=8, max_features=sqrt, n_estimators=20, total=   0.2s\n",
            "[CV] learning_rate=0.05, max_depth=8, max_features=sqrt, n_estimators=20 \n",
            "[CV]  learning_rate=0.05, max_depth=8, max_features=sqrt, n_estimators=20, total=   0.2s\n",
            "[CV] learning_rate=0.05, max_depth=8, max_features=sqrt, n_estimators=20 \n",
            "[CV]  learning_rate=0.05, max_depth=8, max_features=sqrt, n_estimators=20, total=   0.2s\n",
            "[CV] learning_rate=0.05, max_depth=8, max_features=sqrt, n_estimators=20 \n",
            "[CV]  learning_rate=0.05, max_depth=8, max_features=sqrt, n_estimators=20, total=   0.2s\n",
            "[CV] learning_rate=0.05, max_depth=8, max_features=sqrt, n_estimators=20 \n",
            "[CV]  learning_rate=0.05, max_depth=8, max_features=sqrt, n_estimators=20, total=   0.2s\n",
            "[CV] learning_rate=0.05, max_depth=8, max_features=sqrt, n_estimators=50 \n",
            "[CV]  learning_rate=0.05, max_depth=8, max_features=sqrt, n_estimators=50, total=   0.6s\n",
            "[CV] learning_rate=0.05, max_depth=8, max_features=sqrt, n_estimators=50 \n",
            "[CV]  learning_rate=0.05, max_depth=8, max_features=sqrt, n_estimators=50, total=   0.6s\n",
            "[CV] learning_rate=0.05, max_depth=8, max_features=sqrt, n_estimators=50 \n",
            "[CV]  learning_rate=0.05, max_depth=8, max_features=sqrt, n_estimators=50, total=   0.5s\n",
            "[CV] learning_rate=0.05, max_depth=8, max_features=sqrt, n_estimators=50 \n",
            "[CV]  learning_rate=0.05, max_depth=8, max_features=sqrt, n_estimators=50, total=   0.5s\n",
            "[CV] learning_rate=0.05, max_depth=8, max_features=sqrt, n_estimators=50 \n",
            "[CV]  learning_rate=0.05, max_depth=8, max_features=sqrt, n_estimators=50, total=   0.5s\n",
            "[CV] learning_rate=0.05, max_depth=8, max_features=sqrt, n_estimators=100 \n",
            "[CV]  learning_rate=0.05, max_depth=8, max_features=sqrt, n_estimators=100, total=   1.0s\n",
            "[CV] learning_rate=0.05, max_depth=8, max_features=sqrt, n_estimators=100 \n",
            "[CV]  learning_rate=0.05, max_depth=8, max_features=sqrt, n_estimators=100, total=   1.0s\n",
            "[CV] learning_rate=0.05, max_depth=8, max_features=sqrt, n_estimators=100 \n",
            "[CV]  learning_rate=0.05, max_depth=8, max_features=sqrt, n_estimators=100, total=   1.0s\n",
            "[CV] learning_rate=0.05, max_depth=8, max_features=sqrt, n_estimators=100 \n",
            "[CV]  learning_rate=0.05, max_depth=8, max_features=sqrt, n_estimators=100, total=   1.0s\n",
            "[CV] learning_rate=0.05, max_depth=8, max_features=sqrt, n_estimators=100 \n",
            "[CV]  learning_rate=0.05, max_depth=8, max_features=sqrt, n_estimators=100, total=   1.0s\n",
            "[CV] learning_rate=0.1, max_depth=2, max_features=log2, n_estimators=10 \n",
            "[CV]  learning_rate=0.1, max_depth=2, max_features=log2, n_estimators=10, total=   0.1s\n",
            "[CV] learning_rate=0.1, max_depth=2, max_features=log2, n_estimators=10 \n",
            "[CV]  learning_rate=0.1, max_depth=2, max_features=log2, n_estimators=10, total=   0.1s\n",
            "[CV] learning_rate=0.1, max_depth=2, max_features=log2, n_estimators=10 \n",
            "[CV]  learning_rate=0.1, max_depth=2, max_features=log2, n_estimators=10, total=   0.1s\n",
            "[CV] learning_rate=0.1, max_depth=2, max_features=log2, n_estimators=10 \n",
            "[CV]  learning_rate=0.1, max_depth=2, max_features=log2, n_estimators=10, total=   0.1s\n",
            "[CV] learning_rate=0.1, max_depth=2, max_features=log2, n_estimators=10 \n",
            "[CV]  learning_rate=0.1, max_depth=2, max_features=log2, n_estimators=10, total=   0.1s\n",
            "[CV] learning_rate=0.1, max_depth=2, max_features=log2, n_estimators=20 \n",
            "[CV]  learning_rate=0.1, max_depth=2, max_features=log2, n_estimators=20, total=   0.1s\n",
            "[CV] learning_rate=0.1, max_depth=2, max_features=log2, n_estimators=20 \n",
            "[CV]  learning_rate=0.1, max_depth=2, max_features=log2, n_estimators=20, total=   0.1s\n",
            "[CV] learning_rate=0.1, max_depth=2, max_features=log2, n_estimators=20 \n",
            "[CV]  learning_rate=0.1, max_depth=2, max_features=log2, n_estimators=20, total=   0.1s\n",
            "[CV] learning_rate=0.1, max_depth=2, max_features=log2, n_estimators=20 \n",
            "[CV]  learning_rate=0.1, max_depth=2, max_features=log2, n_estimators=20, total=   0.1s\n",
            "[CV] learning_rate=0.1, max_depth=2, max_features=log2, n_estimators=20 \n",
            "[CV]  learning_rate=0.1, max_depth=2, max_features=log2, n_estimators=20, total=   0.1s\n",
            "[CV] learning_rate=0.1, max_depth=2, max_features=log2, n_estimators=50 \n",
            "[CV]  learning_rate=0.1, max_depth=2, max_features=log2, n_estimators=50, total=   0.3s\n",
            "[CV] learning_rate=0.1, max_depth=2, max_features=log2, n_estimators=50 \n",
            "[CV]  learning_rate=0.1, max_depth=2, max_features=log2, n_estimators=50, total=   0.2s\n",
            "[CV] learning_rate=0.1, max_depth=2, max_features=log2, n_estimators=50 \n",
            "[CV]  learning_rate=0.1, max_depth=2, max_features=log2, n_estimators=50, total=   0.3s\n",
            "[CV] learning_rate=0.1, max_depth=2, max_features=log2, n_estimators=50 \n",
            "[CV]  learning_rate=0.1, max_depth=2, max_features=log2, n_estimators=50, total=   0.2s\n",
            "[CV] learning_rate=0.1, max_depth=2, max_features=log2, n_estimators=50 \n",
            "[CV]  learning_rate=0.1, max_depth=2, max_features=log2, n_estimators=50, total=   0.3s\n",
            "[CV] learning_rate=0.1, max_depth=2, max_features=log2, n_estimators=100 \n",
            "[CV]  learning_rate=0.1, max_depth=2, max_features=log2, n_estimators=100, total=   0.5s\n",
            "[CV] learning_rate=0.1, max_depth=2, max_features=log2, n_estimators=100 \n",
            "[CV]  learning_rate=0.1, max_depth=2, max_features=log2, n_estimators=100, total=   0.5s\n",
            "[CV] learning_rate=0.1, max_depth=2, max_features=log2, n_estimators=100 \n",
            "[CV]  learning_rate=0.1, max_depth=2, max_features=log2, n_estimators=100, total=   0.5s\n",
            "[CV] learning_rate=0.1, max_depth=2, max_features=log2, n_estimators=100 \n",
            "[CV]  learning_rate=0.1, max_depth=2, max_features=log2, n_estimators=100, total=   0.5s\n",
            "[CV] learning_rate=0.1, max_depth=2, max_features=log2, n_estimators=100 \n",
            "[CV]  learning_rate=0.1, max_depth=2, max_features=log2, n_estimators=100, total=   0.5s\n",
            "[CV] learning_rate=0.1, max_depth=2, max_features=sqrt, n_estimators=10 \n",
            "[CV]  learning_rate=0.1, max_depth=2, max_features=sqrt, n_estimators=10, total=   0.1s\n",
            "[CV] learning_rate=0.1, max_depth=2, max_features=sqrt, n_estimators=10 \n",
            "[CV]  learning_rate=0.1, max_depth=2, max_features=sqrt, n_estimators=10, total=   0.1s\n",
            "[CV] learning_rate=0.1, max_depth=2, max_features=sqrt, n_estimators=10 \n",
            "[CV]  learning_rate=0.1, max_depth=2, max_features=sqrt, n_estimators=10, total=   0.1s\n",
            "[CV] learning_rate=0.1, max_depth=2, max_features=sqrt, n_estimators=10 \n",
            "[CV]  learning_rate=0.1, max_depth=2, max_features=sqrt, n_estimators=10, total=   0.1s\n",
            "[CV] learning_rate=0.1, max_depth=2, max_features=sqrt, n_estimators=10 \n",
            "[CV]  learning_rate=0.1, max_depth=2, max_features=sqrt, n_estimators=10, total=   0.1s\n",
            "[CV] learning_rate=0.1, max_depth=2, max_features=sqrt, n_estimators=20 \n",
            "[CV]  learning_rate=0.1, max_depth=2, max_features=sqrt, n_estimators=20, total=   0.1s\n",
            "[CV] learning_rate=0.1, max_depth=2, max_features=sqrt, n_estimators=20 \n",
            "[CV]  learning_rate=0.1, max_depth=2, max_features=sqrt, n_estimators=20, total=   0.1s\n",
            "[CV] learning_rate=0.1, max_depth=2, max_features=sqrt, n_estimators=20 \n",
            "[CV]  learning_rate=0.1, max_depth=2, max_features=sqrt, n_estimators=20, total=   0.1s\n",
            "[CV] learning_rate=0.1, max_depth=2, max_features=sqrt, n_estimators=20 \n",
            "[CV]  learning_rate=0.1, max_depth=2, max_features=sqrt, n_estimators=20, total=   0.1s\n",
            "[CV] learning_rate=0.1, max_depth=2, max_features=sqrt, n_estimators=20 \n",
            "[CV]  learning_rate=0.1, max_depth=2, max_features=sqrt, n_estimators=20, total=   0.1s\n",
            "[CV] learning_rate=0.1, max_depth=2, max_features=sqrt, n_estimators=50 \n",
            "[CV]  learning_rate=0.1, max_depth=2, max_features=sqrt, n_estimators=50, total=   0.2s\n",
            "[CV] learning_rate=0.1, max_depth=2, max_features=sqrt, n_estimators=50 \n",
            "[CV]  learning_rate=0.1, max_depth=2, max_features=sqrt, n_estimators=50, total=   0.3s\n",
            "[CV] learning_rate=0.1, max_depth=2, max_features=sqrt, n_estimators=50 \n",
            "[CV]  learning_rate=0.1, max_depth=2, max_features=sqrt, n_estimators=50, total=   0.3s\n",
            "[CV] learning_rate=0.1, max_depth=2, max_features=sqrt, n_estimators=50 \n",
            "[CV]  learning_rate=0.1, max_depth=2, max_features=sqrt, n_estimators=50, total=   0.3s\n",
            "[CV] learning_rate=0.1, max_depth=2, max_features=sqrt, n_estimators=50 \n",
            "[CV]  learning_rate=0.1, max_depth=2, max_features=sqrt, n_estimators=50, total=   0.3s\n",
            "[CV] learning_rate=0.1, max_depth=2, max_features=sqrt, n_estimators=100 \n",
            "[CV]  learning_rate=0.1, max_depth=2, max_features=sqrt, n_estimators=100, total=   0.5s\n",
            "[CV] learning_rate=0.1, max_depth=2, max_features=sqrt, n_estimators=100 \n",
            "[CV]  learning_rate=0.1, max_depth=2, max_features=sqrt, n_estimators=100, total=   0.5s\n",
            "[CV] learning_rate=0.1, max_depth=2, max_features=sqrt, n_estimators=100 \n",
            "[CV]  learning_rate=0.1, max_depth=2, max_features=sqrt, n_estimators=100, total=   0.5s\n",
            "[CV] learning_rate=0.1, max_depth=2, max_features=sqrt, n_estimators=100 \n",
            "[CV]  learning_rate=0.1, max_depth=2, max_features=sqrt, n_estimators=100, total=   0.5s\n",
            "[CV] learning_rate=0.1, max_depth=2, max_features=sqrt, n_estimators=100 \n",
            "[CV]  learning_rate=0.1, max_depth=2, max_features=sqrt, n_estimators=100, total=   0.5s\n",
            "[CV] learning_rate=0.1, max_depth=3, max_features=log2, n_estimators=10 \n",
            "[CV]  learning_rate=0.1, max_depth=3, max_features=log2, n_estimators=10, total=   0.1s\n",
            "[CV] learning_rate=0.1, max_depth=3, max_features=log2, n_estimators=10 \n",
            "[CV]  learning_rate=0.1, max_depth=3, max_features=log2, n_estimators=10, total=   0.1s\n",
            "[CV] learning_rate=0.1, max_depth=3, max_features=log2, n_estimators=10 \n",
            "[CV]  learning_rate=0.1, max_depth=3, max_features=log2, n_estimators=10, total=   0.1s\n",
            "[CV] learning_rate=0.1, max_depth=3, max_features=log2, n_estimators=10 \n",
            "[CV]  learning_rate=0.1, max_depth=3, max_features=log2, n_estimators=10, total=   0.1s\n",
            "[CV] learning_rate=0.1, max_depth=3, max_features=log2, n_estimators=10 \n",
            "[CV]  learning_rate=0.1, max_depth=3, max_features=log2, n_estimators=10, total=   0.1s\n",
            "[CV] learning_rate=0.1, max_depth=3, max_features=log2, n_estimators=20 \n",
            "[CV]  learning_rate=0.1, max_depth=3, max_features=log2, n_estimators=20, total=   0.1s\n",
            "[CV] learning_rate=0.1, max_depth=3, max_features=log2, n_estimators=20 \n",
            "[CV]  learning_rate=0.1, max_depth=3, max_features=log2, n_estimators=20, total=   0.1s\n",
            "[CV] learning_rate=0.1, max_depth=3, max_features=log2, n_estimators=20 \n",
            "[CV]  learning_rate=0.1, max_depth=3, max_features=log2, n_estimators=20, total=   0.1s\n",
            "[CV] learning_rate=0.1, max_depth=3, max_features=log2, n_estimators=20 \n",
            "[CV]  learning_rate=0.1, max_depth=3, max_features=log2, n_estimators=20, total=   0.1s\n",
            "[CV] learning_rate=0.1, max_depth=3, max_features=log2, n_estimators=20 \n",
            "[CV]  learning_rate=0.1, max_depth=3, max_features=log2, n_estimators=20, total=   0.1s\n",
            "[CV] learning_rate=0.1, max_depth=3, max_features=log2, n_estimators=50 \n",
            "[CV]  learning_rate=0.1, max_depth=3, max_features=log2, n_estimators=50, total=   0.3s\n",
            "[CV] learning_rate=0.1, max_depth=3, max_features=log2, n_estimators=50 \n",
            "[CV]  learning_rate=0.1, max_depth=3, max_features=log2, n_estimators=50, total=   0.3s\n",
            "[CV] learning_rate=0.1, max_depth=3, max_features=log2, n_estimators=50 \n",
            "[CV]  learning_rate=0.1, max_depth=3, max_features=log2, n_estimators=50, total=   0.3s\n",
            "[CV] learning_rate=0.1, max_depth=3, max_features=log2, n_estimators=50 \n",
            "[CV]  learning_rate=0.1, max_depth=3, max_features=log2, n_estimators=50, total=   0.3s\n",
            "[CV] learning_rate=0.1, max_depth=3, max_features=log2, n_estimators=50 \n",
            "[CV]  learning_rate=0.1, max_depth=3, max_features=log2, n_estimators=50, total=   0.3s\n",
            "[CV] learning_rate=0.1, max_depth=3, max_features=log2, n_estimators=100 \n",
            "[CV]  learning_rate=0.1, max_depth=3, max_features=log2, n_estimators=100, total=   0.6s\n",
            "[CV] learning_rate=0.1, max_depth=3, max_features=log2, n_estimators=100 \n",
            "[CV]  learning_rate=0.1, max_depth=3, max_features=log2, n_estimators=100, total=   0.6s\n",
            "[CV] learning_rate=0.1, max_depth=3, max_features=log2, n_estimators=100 \n",
            "[CV]  learning_rate=0.1, max_depth=3, max_features=log2, n_estimators=100, total=   0.6s\n",
            "[CV] learning_rate=0.1, max_depth=3, max_features=log2, n_estimators=100 \n",
            "[CV]  learning_rate=0.1, max_depth=3, max_features=log2, n_estimators=100, total=   0.6s\n",
            "[CV] learning_rate=0.1, max_depth=3, max_features=log2, n_estimators=100 \n",
            "[CV]  learning_rate=0.1, max_depth=3, max_features=log2, n_estimators=100, total=   0.6s\n",
            "[CV] learning_rate=0.1, max_depth=3, max_features=sqrt, n_estimators=10 \n",
            "[CV]  learning_rate=0.1, max_depth=3, max_features=sqrt, n_estimators=10, total=   0.1s\n",
            "[CV] learning_rate=0.1, max_depth=3, max_features=sqrt, n_estimators=10 \n",
            "[CV]  learning_rate=0.1, max_depth=3, max_features=sqrt, n_estimators=10, total=   0.1s\n",
            "[CV] learning_rate=0.1, max_depth=3, max_features=sqrt, n_estimators=10 \n",
            "[CV]  learning_rate=0.1, max_depth=3, max_features=sqrt, n_estimators=10, total=   0.1s\n",
            "[CV] learning_rate=0.1, max_depth=3, max_features=sqrt, n_estimators=10 \n",
            "[CV]  learning_rate=0.1, max_depth=3, max_features=sqrt, n_estimators=10, total=   0.1s\n",
            "[CV] learning_rate=0.1, max_depth=3, max_features=sqrt, n_estimators=10 \n",
            "[CV]  learning_rate=0.1, max_depth=3, max_features=sqrt, n_estimators=10, total=   0.1s\n",
            "[CV] learning_rate=0.1, max_depth=3, max_features=sqrt, n_estimators=20 \n",
            "[CV]  learning_rate=0.1, max_depth=3, max_features=sqrt, n_estimators=20, total=   0.1s\n",
            "[CV] learning_rate=0.1, max_depth=3, max_features=sqrt, n_estimators=20 \n",
            "[CV]  learning_rate=0.1, max_depth=3, max_features=sqrt, n_estimators=20, total=   0.1s\n",
            "[CV] learning_rate=0.1, max_depth=3, max_features=sqrt, n_estimators=20 \n",
            "[CV]  learning_rate=0.1, max_depth=3, max_features=sqrt, n_estimators=20, total=   0.1s\n",
            "[CV] learning_rate=0.1, max_depth=3, max_features=sqrt, n_estimators=20 \n",
            "[CV]  learning_rate=0.1, max_depth=3, max_features=sqrt, n_estimators=20, total=   0.1s\n",
            "[CV] learning_rate=0.1, max_depth=3, max_features=sqrt, n_estimators=20 \n",
            "[CV]  learning_rate=0.1, max_depth=3, max_features=sqrt, n_estimators=20, total=   0.1s\n",
            "[CV] learning_rate=0.1, max_depth=3, max_features=sqrt, n_estimators=50 \n",
            "[CV]  learning_rate=0.1, max_depth=3, max_features=sqrt, n_estimators=50, total=   0.3s\n",
            "[CV] learning_rate=0.1, max_depth=3, max_features=sqrt, n_estimators=50 \n",
            "[CV]  learning_rate=0.1, max_depth=3, max_features=sqrt, n_estimators=50, total=   0.3s\n",
            "[CV] learning_rate=0.1, max_depth=3, max_features=sqrt, n_estimators=50 \n",
            "[CV]  learning_rate=0.1, max_depth=3, max_features=sqrt, n_estimators=50, total=   0.3s\n",
            "[CV] learning_rate=0.1, max_depth=3, max_features=sqrt, n_estimators=50 \n",
            "[CV]  learning_rate=0.1, max_depth=3, max_features=sqrt, n_estimators=50, total=   0.3s\n",
            "[CV] learning_rate=0.1, max_depth=3, max_features=sqrt, n_estimators=50 \n",
            "[CV]  learning_rate=0.1, max_depth=3, max_features=sqrt, n_estimators=50, total=   0.3s\n",
            "[CV] learning_rate=0.1, max_depth=3, max_features=sqrt, n_estimators=100 \n",
            "[CV]  learning_rate=0.1, max_depth=3, max_features=sqrt, n_estimators=100, total=   0.6s\n",
            "[CV] learning_rate=0.1, max_depth=3, max_features=sqrt, n_estimators=100 \n",
            "[CV]  learning_rate=0.1, max_depth=3, max_features=sqrt, n_estimators=100, total=   0.6s\n",
            "[CV] learning_rate=0.1, max_depth=3, max_features=sqrt, n_estimators=100 \n",
            "[CV]  learning_rate=0.1, max_depth=3, max_features=sqrt, n_estimators=100, total=   0.6s\n",
            "[CV] learning_rate=0.1, max_depth=3, max_features=sqrt, n_estimators=100 \n",
            "[CV]  learning_rate=0.1, max_depth=3, max_features=sqrt, n_estimators=100, total=   0.6s\n",
            "[CV] learning_rate=0.1, max_depth=3, max_features=sqrt, n_estimators=100 \n",
            "[CV]  learning_rate=0.1, max_depth=3, max_features=sqrt, n_estimators=100, total=   0.6s\n",
            "[CV] learning_rate=0.1, max_depth=5, max_features=log2, n_estimators=10 \n",
            "[CV]  learning_rate=0.1, max_depth=5, max_features=log2, n_estimators=10, total=   0.1s\n",
            "[CV] learning_rate=0.1, max_depth=5, max_features=log2, n_estimators=10 \n",
            "[CV]  learning_rate=0.1, max_depth=5, max_features=log2, n_estimators=10, total=   0.1s\n",
            "[CV] learning_rate=0.1, max_depth=5, max_features=log2, n_estimators=10 \n",
            "[CV]  learning_rate=0.1, max_depth=5, max_features=log2, n_estimators=10, total=   0.1s\n",
            "[CV] learning_rate=0.1, max_depth=5, max_features=log2, n_estimators=10 \n",
            "[CV]  learning_rate=0.1, max_depth=5, max_features=log2, n_estimators=10, total=   0.1s\n",
            "[CV] learning_rate=0.1, max_depth=5, max_features=log2, n_estimators=10 \n",
            "[CV]  learning_rate=0.1, max_depth=5, max_features=log2, n_estimators=10, total=   0.1s\n",
            "[CV] learning_rate=0.1, max_depth=5, max_features=log2, n_estimators=20 \n",
            "[CV]  learning_rate=0.1, max_depth=5, max_features=log2, n_estimators=20, total=   0.2s\n",
            "[CV] learning_rate=0.1, max_depth=5, max_features=log2, n_estimators=20 \n",
            "[CV]  learning_rate=0.1, max_depth=5, max_features=log2, n_estimators=20, total=   0.2s\n",
            "[CV] learning_rate=0.1, max_depth=5, max_features=log2, n_estimators=20 \n",
            "[CV]  learning_rate=0.1, max_depth=5, max_features=log2, n_estimators=20, total=   0.2s\n",
            "[CV] learning_rate=0.1, max_depth=5, max_features=log2, n_estimators=20 \n",
            "[CV]  learning_rate=0.1, max_depth=5, max_features=log2, n_estimators=20, total=   0.2s\n",
            "[CV] learning_rate=0.1, max_depth=5, max_features=log2, n_estimators=20 \n",
            "[CV]  learning_rate=0.1, max_depth=5, max_features=log2, n_estimators=20, total=   0.2s\n",
            "[CV] learning_rate=0.1, max_depth=5, max_features=log2, n_estimators=50 \n",
            "[CV]  learning_rate=0.1, max_depth=5, max_features=log2, n_estimators=50, total=   0.5s\n",
            "[CV] learning_rate=0.1, max_depth=5, max_features=log2, n_estimators=50 \n",
            "[CV]  learning_rate=0.1, max_depth=5, max_features=log2, n_estimators=50, total=   0.4s\n",
            "[CV] learning_rate=0.1, max_depth=5, max_features=log2, n_estimators=50 \n",
            "[CV]  learning_rate=0.1, max_depth=5, max_features=log2, n_estimators=50, total=   0.4s\n",
            "[CV] learning_rate=0.1, max_depth=5, max_features=log2, n_estimators=50 \n",
            "[CV]  learning_rate=0.1, max_depth=5, max_features=log2, n_estimators=50, total=   0.4s\n",
            "[CV] learning_rate=0.1, max_depth=5, max_features=log2, n_estimators=50 \n",
            "[CV]  learning_rate=0.1, max_depth=5, max_features=log2, n_estimators=50, total=   0.5s\n",
            "[CV] learning_rate=0.1, max_depth=5, max_features=log2, n_estimators=100 \n",
            "[CV]  learning_rate=0.1, max_depth=5, max_features=log2, n_estimators=100, total=   0.8s\n",
            "[CV] learning_rate=0.1, max_depth=5, max_features=log2, n_estimators=100 \n",
            "[CV]  learning_rate=0.1, max_depth=5, max_features=log2, n_estimators=100, total=   0.8s\n",
            "[CV] learning_rate=0.1, max_depth=5, max_features=log2, n_estimators=100 \n",
            "[CV]  learning_rate=0.1, max_depth=5, max_features=log2, n_estimators=100, total=   0.8s\n",
            "[CV] learning_rate=0.1, max_depth=5, max_features=log2, n_estimators=100 \n",
            "[CV]  learning_rate=0.1, max_depth=5, max_features=log2, n_estimators=100, total=   0.8s\n",
            "[CV] learning_rate=0.1, max_depth=5, max_features=log2, n_estimators=100 \n",
            "[CV]  learning_rate=0.1, max_depth=5, max_features=log2, n_estimators=100, total=   0.8s\n",
            "[CV] learning_rate=0.1, max_depth=5, max_features=sqrt, n_estimators=10 \n",
            "[CV]  learning_rate=0.1, max_depth=5, max_features=sqrt, n_estimators=10, total=   0.1s\n",
            "[CV] learning_rate=0.1, max_depth=5, max_features=sqrt, n_estimators=10 \n",
            "[CV]  learning_rate=0.1, max_depth=5, max_features=sqrt, n_estimators=10, total=   0.1s\n",
            "[CV] learning_rate=0.1, max_depth=5, max_features=sqrt, n_estimators=10 \n",
            "[CV]  learning_rate=0.1, max_depth=5, max_features=sqrt, n_estimators=10, total=   0.1s\n",
            "[CV] learning_rate=0.1, max_depth=5, max_features=sqrt, n_estimators=10 \n",
            "[CV]  learning_rate=0.1, max_depth=5, max_features=sqrt, n_estimators=10, total=   0.1s\n",
            "[CV] learning_rate=0.1, max_depth=5, max_features=sqrt, n_estimators=10 \n",
            "[CV]  learning_rate=0.1, max_depth=5, max_features=sqrt, n_estimators=10, total=   0.1s\n",
            "[CV] learning_rate=0.1, max_depth=5, max_features=sqrt, n_estimators=20 \n",
            "[CV]  learning_rate=0.1, max_depth=5, max_features=sqrt, n_estimators=20, total=   0.2s\n",
            "[CV] learning_rate=0.1, max_depth=5, max_features=sqrt, n_estimators=20 \n",
            "[CV]  learning_rate=0.1, max_depth=5, max_features=sqrt, n_estimators=20, total=   0.2s\n",
            "[CV] learning_rate=0.1, max_depth=5, max_features=sqrt, n_estimators=20 \n",
            "[CV]  learning_rate=0.1, max_depth=5, max_features=sqrt, n_estimators=20, total=   0.2s\n",
            "[CV] learning_rate=0.1, max_depth=5, max_features=sqrt, n_estimators=20 \n",
            "[CV]  learning_rate=0.1, max_depth=5, max_features=sqrt, n_estimators=20, total=   0.2s\n",
            "[CV] learning_rate=0.1, max_depth=5, max_features=sqrt, n_estimators=20 \n",
            "[CV]  learning_rate=0.1, max_depth=5, max_features=sqrt, n_estimators=20, total=   0.2s\n",
            "[CV] learning_rate=0.1, max_depth=5, max_features=sqrt, n_estimators=50 \n",
            "[CV]  learning_rate=0.1, max_depth=5, max_features=sqrt, n_estimators=50, total=   0.4s\n",
            "[CV] learning_rate=0.1, max_depth=5, max_features=sqrt, n_estimators=50 \n",
            "[CV]  learning_rate=0.1, max_depth=5, max_features=sqrt, n_estimators=50, total=   0.4s\n",
            "[CV] learning_rate=0.1, max_depth=5, max_features=sqrt, n_estimators=50 \n",
            "[CV]  learning_rate=0.1, max_depth=5, max_features=sqrt, n_estimators=50, total=   0.4s\n",
            "[CV] learning_rate=0.1, max_depth=5, max_features=sqrt, n_estimators=50 \n",
            "[CV]  learning_rate=0.1, max_depth=5, max_features=sqrt, n_estimators=50, total=   0.4s\n",
            "[CV] learning_rate=0.1, max_depth=5, max_features=sqrt, n_estimators=50 \n",
            "[CV]  learning_rate=0.1, max_depth=5, max_features=sqrt, n_estimators=50, total=   0.5s\n",
            "[CV] learning_rate=0.1, max_depth=5, max_features=sqrt, n_estimators=100 \n",
            "[CV]  learning_rate=0.1, max_depth=5, max_features=sqrt, n_estimators=100, total=   0.8s\n",
            "[CV] learning_rate=0.1, max_depth=5, max_features=sqrt, n_estimators=100 \n",
            "[CV]  learning_rate=0.1, max_depth=5, max_features=sqrt, n_estimators=100, total=   0.8s\n",
            "[CV] learning_rate=0.1, max_depth=5, max_features=sqrt, n_estimators=100 \n",
            "[CV]  learning_rate=0.1, max_depth=5, max_features=sqrt, n_estimators=100, total=   0.8s\n",
            "[CV] learning_rate=0.1, max_depth=5, max_features=sqrt, n_estimators=100 \n",
            "[CV]  learning_rate=0.1, max_depth=5, max_features=sqrt, n_estimators=100, total=   0.7s\n",
            "[CV] learning_rate=0.1, max_depth=5, max_features=sqrt, n_estimators=100 \n",
            "[CV]  learning_rate=0.1, max_depth=5, max_features=sqrt, n_estimators=100, total=   0.8s\n",
            "[CV] learning_rate=0.1, max_depth=8, max_features=log2, n_estimators=10 \n",
            "[CV]  learning_rate=0.1, max_depth=8, max_features=log2, n_estimators=10, total=   0.1s\n",
            "[CV] learning_rate=0.1, max_depth=8, max_features=log2, n_estimators=10 \n",
            "[CV]  learning_rate=0.1, max_depth=8, max_features=log2, n_estimators=10, total=   0.1s\n",
            "[CV] learning_rate=0.1, max_depth=8, max_features=log2, n_estimators=10 \n",
            "[CV]  learning_rate=0.1, max_depth=8, max_features=log2, n_estimators=10, total=   0.1s\n",
            "[CV] learning_rate=0.1, max_depth=8, max_features=log2, n_estimators=10 \n",
            "[CV]  learning_rate=0.1, max_depth=8, max_features=log2, n_estimators=10, total=   0.1s\n",
            "[CV] learning_rate=0.1, max_depth=8, max_features=log2, n_estimators=10 \n",
            "[CV]  learning_rate=0.1, max_depth=8, max_features=log2, n_estimators=10, total=   0.1s\n",
            "[CV] learning_rate=0.1, max_depth=8, max_features=log2, n_estimators=20 \n",
            "[CV]  learning_rate=0.1, max_depth=8, max_features=log2, n_estimators=20, total=   0.2s\n",
            "[CV] learning_rate=0.1, max_depth=8, max_features=log2, n_estimators=20 \n",
            "[CV]  learning_rate=0.1, max_depth=8, max_features=log2, n_estimators=20, total=   0.2s\n",
            "[CV] learning_rate=0.1, max_depth=8, max_features=log2, n_estimators=20 \n",
            "[CV]  learning_rate=0.1, max_depth=8, max_features=log2, n_estimators=20, total=   0.2s\n",
            "[CV] learning_rate=0.1, max_depth=8, max_features=log2, n_estimators=20 \n",
            "[CV]  learning_rate=0.1, max_depth=8, max_features=log2, n_estimators=20, total=   0.2s\n",
            "[CV] learning_rate=0.1, max_depth=8, max_features=log2, n_estimators=20 \n",
            "[CV]  learning_rate=0.1, max_depth=8, max_features=log2, n_estimators=20, total=   0.2s\n",
            "[CV] learning_rate=0.1, max_depth=8, max_features=log2, n_estimators=50 \n",
            "[CV]  learning_rate=0.1, max_depth=8, max_features=log2, n_estimators=50, total=   0.5s\n",
            "[CV] learning_rate=0.1, max_depth=8, max_features=log2, n_estimators=50 \n",
            "[CV]  learning_rate=0.1, max_depth=8, max_features=log2, n_estimators=50, total=   0.5s\n",
            "[CV] learning_rate=0.1, max_depth=8, max_features=log2, n_estimators=50 \n",
            "[CV]  learning_rate=0.1, max_depth=8, max_features=log2, n_estimators=50, total=   0.5s\n",
            "[CV] learning_rate=0.1, max_depth=8, max_features=log2, n_estimators=50 \n",
            "[CV]  learning_rate=0.1, max_depth=8, max_features=log2, n_estimators=50, total=   0.5s\n",
            "[CV] learning_rate=0.1, max_depth=8, max_features=log2, n_estimators=50 \n",
            "[CV]  learning_rate=0.1, max_depth=8, max_features=log2, n_estimators=50, total=   0.5s\n",
            "[CV] learning_rate=0.1, max_depth=8, max_features=log2, n_estimators=100 \n",
            "[CV]  learning_rate=0.1, max_depth=8, max_features=log2, n_estimators=100, total=   0.8s\n",
            "[CV] learning_rate=0.1, max_depth=8, max_features=log2, n_estimators=100 \n",
            "[CV]  learning_rate=0.1, max_depth=8, max_features=log2, n_estimators=100, total=   0.9s\n",
            "[CV] learning_rate=0.1, max_depth=8, max_features=log2, n_estimators=100 \n",
            "[CV]  learning_rate=0.1, max_depth=8, max_features=log2, n_estimators=100, total=   0.8s\n",
            "[CV] learning_rate=0.1, max_depth=8, max_features=log2, n_estimators=100 \n",
            "[CV]  learning_rate=0.1, max_depth=8, max_features=log2, n_estimators=100, total=   0.8s\n",
            "[CV] learning_rate=0.1, max_depth=8, max_features=log2, n_estimators=100 \n",
            "[CV]  learning_rate=0.1, max_depth=8, max_features=log2, n_estimators=100, total=   0.9s\n",
            "[CV] learning_rate=0.1, max_depth=8, max_features=sqrt, n_estimators=10 \n",
            "[CV]  learning_rate=0.1, max_depth=8, max_features=sqrt, n_estimators=10, total=   0.1s\n",
            "[CV] learning_rate=0.1, max_depth=8, max_features=sqrt, n_estimators=10 \n",
            "[CV]  learning_rate=0.1, max_depth=8, max_features=sqrt, n_estimators=10, total=   0.1s\n",
            "[CV] learning_rate=0.1, max_depth=8, max_features=sqrt, n_estimators=10 \n",
            "[CV]  learning_rate=0.1, max_depth=8, max_features=sqrt, n_estimators=10, total=   0.1s\n",
            "[CV] learning_rate=0.1, max_depth=8, max_features=sqrt, n_estimators=10 \n",
            "[CV]  learning_rate=0.1, max_depth=8, max_features=sqrt, n_estimators=10, total=   0.1s\n",
            "[CV] learning_rate=0.1, max_depth=8, max_features=sqrt, n_estimators=10 \n",
            "[CV]  learning_rate=0.1, max_depth=8, max_features=sqrt, n_estimators=10, total=   0.1s\n",
            "[CV] learning_rate=0.1, max_depth=8, max_features=sqrt, n_estimators=20 \n",
            "[CV]  learning_rate=0.1, max_depth=8, max_features=sqrt, n_estimators=20, total=   0.2s\n",
            "[CV] learning_rate=0.1, max_depth=8, max_features=sqrt, n_estimators=20 \n",
            "[CV]  learning_rate=0.1, max_depth=8, max_features=sqrt, n_estimators=20, total=   0.2s\n",
            "[CV] learning_rate=0.1, max_depth=8, max_features=sqrt, n_estimators=20 \n",
            "[CV]  learning_rate=0.1, max_depth=8, max_features=sqrt, n_estimators=20, total=   0.2s\n",
            "[CV] learning_rate=0.1, max_depth=8, max_features=sqrt, n_estimators=20 \n",
            "[CV]  learning_rate=0.1, max_depth=8, max_features=sqrt, n_estimators=20, total=   0.2s\n",
            "[CV] learning_rate=0.1, max_depth=8, max_features=sqrt, n_estimators=20 \n",
            "[CV]  learning_rate=0.1, max_depth=8, max_features=sqrt, n_estimators=20, total=   0.2s\n",
            "[CV] learning_rate=0.1, max_depth=8, max_features=sqrt, n_estimators=50 \n",
            "[CV]  learning_rate=0.1, max_depth=8, max_features=sqrt, n_estimators=50, total=   0.5s\n",
            "[CV] learning_rate=0.1, max_depth=8, max_features=sqrt, n_estimators=50 \n",
            "[CV]  learning_rate=0.1, max_depth=8, max_features=sqrt, n_estimators=50, total=   0.5s\n",
            "[CV] learning_rate=0.1, max_depth=8, max_features=sqrt, n_estimators=50 \n",
            "[CV]  learning_rate=0.1, max_depth=8, max_features=sqrt, n_estimators=50, total=   0.5s\n",
            "[CV] learning_rate=0.1, max_depth=8, max_features=sqrt, n_estimators=50 \n",
            "[CV]  learning_rate=0.1, max_depth=8, max_features=sqrt, n_estimators=50, total=   0.5s\n",
            "[CV] learning_rate=0.1, max_depth=8, max_features=sqrt, n_estimators=50 \n",
            "[CV]  learning_rate=0.1, max_depth=8, max_features=sqrt, n_estimators=50, total=   0.5s\n",
            "[CV] learning_rate=0.1, max_depth=8, max_features=sqrt, n_estimators=100 \n",
            "[CV]  learning_rate=0.1, max_depth=8, max_features=sqrt, n_estimators=100, total=   0.8s\n",
            "[CV] learning_rate=0.1, max_depth=8, max_features=sqrt, n_estimators=100 \n",
            "[CV]  learning_rate=0.1, max_depth=8, max_features=sqrt, n_estimators=100, total=   0.9s\n",
            "[CV] learning_rate=0.1, max_depth=8, max_features=sqrt, n_estimators=100 \n",
            "[CV]  learning_rate=0.1, max_depth=8, max_features=sqrt, n_estimators=100, total=   0.8s\n",
            "[CV] learning_rate=0.1, max_depth=8, max_features=sqrt, n_estimators=100 \n",
            "[CV]  learning_rate=0.1, max_depth=8, max_features=sqrt, n_estimators=100, total=   0.8s\n",
            "[CV] learning_rate=0.1, max_depth=8, max_features=sqrt, n_estimators=100 \n",
            "[CV]  learning_rate=0.1, max_depth=8, max_features=sqrt, n_estimators=100, total=   0.8s\n",
            "[CV] learning_rate=0.2, max_depth=2, max_features=log2, n_estimators=10 \n",
            "[CV]  learning_rate=0.2, max_depth=2, max_features=log2, n_estimators=10, total=   0.1s\n",
            "[CV] learning_rate=0.2, max_depth=2, max_features=log2, n_estimators=10 \n",
            "[CV]  learning_rate=0.2, max_depth=2, max_features=log2, n_estimators=10, total=   0.1s\n",
            "[CV] learning_rate=0.2, max_depth=2, max_features=log2, n_estimators=10 \n",
            "[CV]  learning_rate=0.2, max_depth=2, max_features=log2, n_estimators=10, total=   0.1s\n",
            "[CV] learning_rate=0.2, max_depth=2, max_features=log2, n_estimators=10 \n",
            "[CV]  learning_rate=0.2, max_depth=2, max_features=log2, n_estimators=10, total=   0.1s\n",
            "[CV] learning_rate=0.2, max_depth=2, max_features=log2, n_estimators=10 \n",
            "[CV]  learning_rate=0.2, max_depth=2, max_features=log2, n_estimators=10, total=   0.1s\n",
            "[CV] learning_rate=0.2, max_depth=2, max_features=log2, n_estimators=20 \n",
            "[CV]  learning_rate=0.2, max_depth=2, max_features=log2, n_estimators=20, total=   0.1s\n",
            "[CV] learning_rate=0.2, max_depth=2, max_features=log2, n_estimators=20 \n",
            "[CV]  learning_rate=0.2, max_depth=2, max_features=log2, n_estimators=20, total=   0.1s\n",
            "[CV] learning_rate=0.2, max_depth=2, max_features=log2, n_estimators=20 \n",
            "[CV]  learning_rate=0.2, max_depth=2, max_features=log2, n_estimators=20, total=   0.1s\n",
            "[CV] learning_rate=0.2, max_depth=2, max_features=log2, n_estimators=20 \n",
            "[CV]  learning_rate=0.2, max_depth=2, max_features=log2, n_estimators=20, total=   0.1s\n",
            "[CV] learning_rate=0.2, max_depth=2, max_features=log2, n_estimators=20 \n",
            "[CV]  learning_rate=0.2, max_depth=2, max_features=log2, n_estimators=20, total=   0.1s\n",
            "[CV] learning_rate=0.2, max_depth=2, max_features=log2, n_estimators=50 \n",
            "[CV]  learning_rate=0.2, max_depth=2, max_features=log2, n_estimators=50, total=   0.2s\n",
            "[CV] learning_rate=0.2, max_depth=2, max_features=log2, n_estimators=50 \n",
            "[CV]  learning_rate=0.2, max_depth=2, max_features=log2, n_estimators=50, total=   0.3s\n",
            "[CV] learning_rate=0.2, max_depth=2, max_features=log2, n_estimators=50 \n",
            "[CV]  learning_rate=0.2, max_depth=2, max_features=log2, n_estimators=50, total=   0.2s\n",
            "[CV] learning_rate=0.2, max_depth=2, max_features=log2, n_estimators=50 \n",
            "[CV]  learning_rate=0.2, max_depth=2, max_features=log2, n_estimators=50, total=   0.2s\n",
            "[CV] learning_rate=0.2, max_depth=2, max_features=log2, n_estimators=50 \n",
            "[CV]  learning_rate=0.2, max_depth=2, max_features=log2, n_estimators=50, total=   0.3s\n",
            "[CV] learning_rate=0.2, max_depth=2, max_features=log2, n_estimators=100 \n",
            "[CV]  learning_rate=0.2, max_depth=2, max_features=log2, n_estimators=100, total=   0.5s\n",
            "[CV] learning_rate=0.2, max_depth=2, max_features=log2, n_estimators=100 \n",
            "[CV]  learning_rate=0.2, max_depth=2, max_features=log2, n_estimators=100, total=   0.5s\n",
            "[CV] learning_rate=0.2, max_depth=2, max_features=log2, n_estimators=100 \n",
            "[CV]  learning_rate=0.2, max_depth=2, max_features=log2, n_estimators=100, total=   0.5s\n",
            "[CV] learning_rate=0.2, max_depth=2, max_features=log2, n_estimators=100 \n",
            "[CV]  learning_rate=0.2, max_depth=2, max_features=log2, n_estimators=100, total=   0.5s\n",
            "[CV] learning_rate=0.2, max_depth=2, max_features=log2, n_estimators=100 \n",
            "[CV]  learning_rate=0.2, max_depth=2, max_features=log2, n_estimators=100, total=   0.5s\n",
            "[CV] learning_rate=0.2, max_depth=2, max_features=sqrt, n_estimators=10 \n",
            "[CV]  learning_rate=0.2, max_depth=2, max_features=sqrt, n_estimators=10, total=   0.1s\n",
            "[CV] learning_rate=0.2, max_depth=2, max_features=sqrt, n_estimators=10 \n",
            "[CV]  learning_rate=0.2, max_depth=2, max_features=sqrt, n_estimators=10, total=   0.1s\n",
            "[CV] learning_rate=0.2, max_depth=2, max_features=sqrt, n_estimators=10 \n",
            "[CV]  learning_rate=0.2, max_depth=2, max_features=sqrt, n_estimators=10, total=   0.0s\n",
            "[CV] learning_rate=0.2, max_depth=2, max_features=sqrt, n_estimators=10 \n",
            "[CV]  learning_rate=0.2, max_depth=2, max_features=sqrt, n_estimators=10, total=   0.1s\n",
            "[CV] learning_rate=0.2, max_depth=2, max_features=sqrt, n_estimators=10 \n",
            "[CV]  learning_rate=0.2, max_depth=2, max_features=sqrt, n_estimators=10, total=   0.1s\n",
            "[CV] learning_rate=0.2, max_depth=2, max_features=sqrt, n_estimators=20 \n",
            "[CV]  learning_rate=0.2, max_depth=2, max_features=sqrt, n_estimators=20, total=   0.1s\n",
            "[CV] learning_rate=0.2, max_depth=2, max_features=sqrt, n_estimators=20 \n",
            "[CV]  learning_rate=0.2, max_depth=2, max_features=sqrt, n_estimators=20, total=   0.1s\n",
            "[CV] learning_rate=0.2, max_depth=2, max_features=sqrt, n_estimators=20 \n",
            "[CV]  learning_rate=0.2, max_depth=2, max_features=sqrt, n_estimators=20, total=   0.1s\n",
            "[CV] learning_rate=0.2, max_depth=2, max_features=sqrt, n_estimators=20 \n",
            "[CV]  learning_rate=0.2, max_depth=2, max_features=sqrt, n_estimators=20, total=   0.1s\n",
            "[CV] learning_rate=0.2, max_depth=2, max_features=sqrt, n_estimators=20 \n",
            "[CV]  learning_rate=0.2, max_depth=2, max_features=sqrt, n_estimators=20, total=   0.1s\n",
            "[CV] learning_rate=0.2, max_depth=2, max_features=sqrt, n_estimators=50 \n",
            "[CV]  learning_rate=0.2, max_depth=2, max_features=sqrt, n_estimators=50, total=   0.2s\n",
            "[CV] learning_rate=0.2, max_depth=2, max_features=sqrt, n_estimators=50 \n",
            "[CV]  learning_rate=0.2, max_depth=2, max_features=sqrt, n_estimators=50, total=   0.3s\n",
            "[CV] learning_rate=0.2, max_depth=2, max_features=sqrt, n_estimators=50 \n",
            "[CV]  learning_rate=0.2, max_depth=2, max_features=sqrt, n_estimators=50, total=   0.3s\n",
            "[CV] learning_rate=0.2, max_depth=2, max_features=sqrt, n_estimators=50 \n",
            "[CV]  learning_rate=0.2, max_depth=2, max_features=sqrt, n_estimators=50, total=   0.3s\n",
            "[CV] learning_rate=0.2, max_depth=2, max_features=sqrt, n_estimators=50 \n",
            "[CV]  learning_rate=0.2, max_depth=2, max_features=sqrt, n_estimators=50, total=   0.3s\n",
            "[CV] learning_rate=0.2, max_depth=2, max_features=sqrt, n_estimators=100 \n",
            "[CV]  learning_rate=0.2, max_depth=2, max_features=sqrt, n_estimators=100, total=   0.5s\n",
            "[CV] learning_rate=0.2, max_depth=2, max_features=sqrt, n_estimators=100 \n",
            "[CV]  learning_rate=0.2, max_depth=2, max_features=sqrt, n_estimators=100, total=   0.5s\n",
            "[CV] learning_rate=0.2, max_depth=2, max_features=sqrt, n_estimators=100 \n",
            "[CV]  learning_rate=0.2, max_depth=2, max_features=sqrt, n_estimators=100, total=   0.5s\n",
            "[CV] learning_rate=0.2, max_depth=2, max_features=sqrt, n_estimators=100 \n",
            "[CV]  learning_rate=0.2, max_depth=2, max_features=sqrt, n_estimators=100, total=   0.5s\n",
            "[CV] learning_rate=0.2, max_depth=2, max_features=sqrt, n_estimators=100 \n",
            "[CV]  learning_rate=0.2, max_depth=2, max_features=sqrt, n_estimators=100, total=   0.5s\n",
            "[CV] learning_rate=0.2, max_depth=3, max_features=log2, n_estimators=10 \n",
            "[CV]  learning_rate=0.2, max_depth=3, max_features=log2, n_estimators=10, total=   0.1s\n",
            "[CV] learning_rate=0.2, max_depth=3, max_features=log2, n_estimators=10 \n",
            "[CV]  learning_rate=0.2, max_depth=3, max_features=log2, n_estimators=10, total=   0.1s\n",
            "[CV] learning_rate=0.2, max_depth=3, max_features=log2, n_estimators=10 \n",
            "[CV]  learning_rate=0.2, max_depth=3, max_features=log2, n_estimators=10, total=   0.1s\n",
            "[CV] learning_rate=0.2, max_depth=3, max_features=log2, n_estimators=10 \n",
            "[CV]  learning_rate=0.2, max_depth=3, max_features=log2, n_estimators=10, total=   0.1s\n",
            "[CV] learning_rate=0.2, max_depth=3, max_features=log2, n_estimators=10 \n",
            "[CV]  learning_rate=0.2, max_depth=3, max_features=log2, n_estimators=10, total=   0.1s\n",
            "[CV] learning_rate=0.2, max_depth=3, max_features=log2, n_estimators=20 \n",
            "[CV]  learning_rate=0.2, max_depth=3, max_features=log2, n_estimators=20, total=   0.1s\n",
            "[CV] learning_rate=0.2, max_depth=3, max_features=log2, n_estimators=20 \n",
            "[CV]  learning_rate=0.2, max_depth=3, max_features=log2, n_estimators=20, total=   0.1s\n",
            "[CV] learning_rate=0.2, max_depth=3, max_features=log2, n_estimators=20 \n",
            "[CV]  learning_rate=0.2, max_depth=3, max_features=log2, n_estimators=20, total=   0.1s\n",
            "[CV] learning_rate=0.2, max_depth=3, max_features=log2, n_estimators=20 \n",
            "[CV]  learning_rate=0.2, max_depth=3, max_features=log2, n_estimators=20, total=   0.1s\n",
            "[CV] learning_rate=0.2, max_depth=3, max_features=log2, n_estimators=20 \n",
            "[CV]  learning_rate=0.2, max_depth=3, max_features=log2, n_estimators=20, total=   0.1s\n",
            "[CV] learning_rate=0.2, max_depth=3, max_features=log2, n_estimators=50 \n",
            "[CV]  learning_rate=0.2, max_depth=3, max_features=log2, n_estimators=50, total=   0.3s\n",
            "[CV] learning_rate=0.2, max_depth=3, max_features=log2, n_estimators=50 \n",
            "[CV]  learning_rate=0.2, max_depth=3, max_features=log2, n_estimators=50, total=   0.3s\n",
            "[CV] learning_rate=0.2, max_depth=3, max_features=log2, n_estimators=50 \n",
            "[CV]  learning_rate=0.2, max_depth=3, max_features=log2, n_estimators=50, total=   0.3s\n",
            "[CV] learning_rate=0.2, max_depth=3, max_features=log2, n_estimators=50 \n",
            "[CV]  learning_rate=0.2, max_depth=3, max_features=log2, n_estimators=50, total=   0.3s\n",
            "[CV] learning_rate=0.2, max_depth=3, max_features=log2, n_estimators=50 \n",
            "[CV]  learning_rate=0.2, max_depth=3, max_features=log2, n_estimators=50, total=   0.3s\n",
            "[CV] learning_rate=0.2, max_depth=3, max_features=log2, n_estimators=100 \n",
            "[CV]  learning_rate=0.2, max_depth=3, max_features=log2, n_estimators=100, total=   0.6s\n",
            "[CV] learning_rate=0.2, max_depth=3, max_features=log2, n_estimators=100 \n",
            "[CV]  learning_rate=0.2, max_depth=3, max_features=log2, n_estimators=100, total=   0.6s\n",
            "[CV] learning_rate=0.2, max_depth=3, max_features=log2, n_estimators=100 \n",
            "[CV]  learning_rate=0.2, max_depth=3, max_features=log2, n_estimators=100, total=   0.6s\n",
            "[CV] learning_rate=0.2, max_depth=3, max_features=log2, n_estimators=100 \n",
            "[CV]  learning_rate=0.2, max_depth=3, max_features=log2, n_estimators=100, total=   0.6s\n",
            "[CV] learning_rate=0.2, max_depth=3, max_features=log2, n_estimators=100 \n",
            "[CV]  learning_rate=0.2, max_depth=3, max_features=log2, n_estimators=100, total=   0.6s\n",
            "[CV] learning_rate=0.2, max_depth=3, max_features=sqrt, n_estimators=10 \n",
            "[CV]  learning_rate=0.2, max_depth=3, max_features=sqrt, n_estimators=10, total=   0.1s\n",
            "[CV] learning_rate=0.2, max_depth=3, max_features=sqrt, n_estimators=10 \n",
            "[CV]  learning_rate=0.2, max_depth=3, max_features=sqrt, n_estimators=10, total=   0.1s\n",
            "[CV] learning_rate=0.2, max_depth=3, max_features=sqrt, n_estimators=10 \n",
            "[CV]  learning_rate=0.2, max_depth=3, max_features=sqrt, n_estimators=10, total=   0.1s\n",
            "[CV] learning_rate=0.2, max_depth=3, max_features=sqrt, n_estimators=10 \n",
            "[CV]  learning_rate=0.2, max_depth=3, max_features=sqrt, n_estimators=10, total=   0.1s\n",
            "[CV] learning_rate=0.2, max_depth=3, max_features=sqrt, n_estimators=10 \n",
            "[CV]  learning_rate=0.2, max_depth=3, max_features=sqrt, n_estimators=10, total=   0.1s\n",
            "[CV] learning_rate=0.2, max_depth=3, max_features=sqrt, n_estimators=20 \n",
            "[CV]  learning_rate=0.2, max_depth=3, max_features=sqrt, n_estimators=20, total=   0.1s\n",
            "[CV] learning_rate=0.2, max_depth=3, max_features=sqrt, n_estimators=20 \n",
            "[CV]  learning_rate=0.2, max_depth=3, max_features=sqrt, n_estimators=20, total=   0.1s\n",
            "[CV] learning_rate=0.2, max_depth=3, max_features=sqrt, n_estimators=20 \n",
            "[CV]  learning_rate=0.2, max_depth=3, max_features=sqrt, n_estimators=20, total=   0.1s\n",
            "[CV] learning_rate=0.2, max_depth=3, max_features=sqrt, n_estimators=20 \n",
            "[CV]  learning_rate=0.2, max_depth=3, max_features=sqrt, n_estimators=20, total=   0.1s\n",
            "[CV] learning_rate=0.2, max_depth=3, max_features=sqrt, n_estimators=20 \n",
            "[CV]  learning_rate=0.2, max_depth=3, max_features=sqrt, n_estimators=20, total=   0.1s\n",
            "[CV] learning_rate=0.2, max_depth=3, max_features=sqrt, n_estimators=50 \n",
            "[CV]  learning_rate=0.2, max_depth=3, max_features=sqrt, n_estimators=50, total=   0.3s\n",
            "[CV] learning_rate=0.2, max_depth=3, max_features=sqrt, n_estimators=50 \n",
            "[CV]  learning_rate=0.2, max_depth=3, max_features=sqrt, n_estimators=50, total=   0.3s\n",
            "[CV] learning_rate=0.2, max_depth=3, max_features=sqrt, n_estimators=50 \n",
            "[CV]  learning_rate=0.2, max_depth=3, max_features=sqrt, n_estimators=50, total=   0.3s\n",
            "[CV] learning_rate=0.2, max_depth=3, max_features=sqrt, n_estimators=50 \n",
            "[CV]  learning_rate=0.2, max_depth=3, max_features=sqrt, n_estimators=50, total=   0.3s\n",
            "[CV] learning_rate=0.2, max_depth=3, max_features=sqrt, n_estimators=50 \n",
            "[CV]  learning_rate=0.2, max_depth=3, max_features=sqrt, n_estimators=50, total=   0.3s\n",
            "[CV] learning_rate=0.2, max_depth=3, max_features=sqrt, n_estimators=100 \n",
            "[CV]  learning_rate=0.2, max_depth=3, max_features=sqrt, n_estimators=100, total=   0.6s\n",
            "[CV] learning_rate=0.2, max_depth=3, max_features=sqrt, n_estimators=100 \n",
            "[CV]  learning_rate=0.2, max_depth=3, max_features=sqrt, n_estimators=100, total=   0.6s\n",
            "[CV] learning_rate=0.2, max_depth=3, max_features=sqrt, n_estimators=100 \n",
            "[CV]  learning_rate=0.2, max_depth=3, max_features=sqrt, n_estimators=100, total=   0.6s\n",
            "[CV] learning_rate=0.2, max_depth=3, max_features=sqrt, n_estimators=100 \n",
            "[CV]  learning_rate=0.2, max_depth=3, max_features=sqrt, n_estimators=100, total=   0.6s\n",
            "[CV] learning_rate=0.2, max_depth=3, max_features=sqrt, n_estimators=100 \n",
            "[CV]  learning_rate=0.2, max_depth=3, max_features=sqrt, n_estimators=100, total=   0.6s\n",
            "[CV] learning_rate=0.2, max_depth=5, max_features=log2, n_estimators=10 \n",
            "[CV]  learning_rate=0.2, max_depth=5, max_features=log2, n_estimators=10, total=   0.1s\n",
            "[CV] learning_rate=0.2, max_depth=5, max_features=log2, n_estimators=10 \n",
            "[CV]  learning_rate=0.2, max_depth=5, max_features=log2, n_estimators=10, total=   0.1s\n",
            "[CV] learning_rate=0.2, max_depth=5, max_features=log2, n_estimators=10 \n",
            "[CV]  learning_rate=0.2, max_depth=5, max_features=log2, n_estimators=10, total=   0.1s\n",
            "[CV] learning_rate=0.2, max_depth=5, max_features=log2, n_estimators=10 \n",
            "[CV]  learning_rate=0.2, max_depth=5, max_features=log2, n_estimators=10, total=   0.1s\n",
            "[CV] learning_rate=0.2, max_depth=5, max_features=log2, n_estimators=10 \n",
            "[CV]  learning_rate=0.2, max_depth=5, max_features=log2, n_estimators=10, total=   0.1s\n",
            "[CV] learning_rate=0.2, max_depth=5, max_features=log2, n_estimators=20 \n",
            "[CV]  learning_rate=0.2, max_depth=5, max_features=log2, n_estimators=20, total=   0.2s\n",
            "[CV] learning_rate=0.2, max_depth=5, max_features=log2, n_estimators=20 \n",
            "[CV]  learning_rate=0.2, max_depth=5, max_features=log2, n_estimators=20, total=   0.2s\n",
            "[CV] learning_rate=0.2, max_depth=5, max_features=log2, n_estimators=20 \n",
            "[CV]  learning_rate=0.2, max_depth=5, max_features=log2, n_estimators=20, total=   0.2s\n",
            "[CV] learning_rate=0.2, max_depth=5, max_features=log2, n_estimators=20 \n",
            "[CV]  learning_rate=0.2, max_depth=5, max_features=log2, n_estimators=20, total=   0.2s\n",
            "[CV] learning_rate=0.2, max_depth=5, max_features=log2, n_estimators=20 \n",
            "[CV]  learning_rate=0.2, max_depth=5, max_features=log2, n_estimators=20, total=   0.2s\n",
            "[CV] learning_rate=0.2, max_depth=5, max_features=log2, n_estimators=50 \n",
            "[CV]  learning_rate=0.2, max_depth=5, max_features=log2, n_estimators=50, total=   0.4s\n",
            "[CV] learning_rate=0.2, max_depth=5, max_features=log2, n_estimators=50 \n",
            "[CV]  learning_rate=0.2, max_depth=5, max_features=log2, n_estimators=50, total=   0.4s\n",
            "[CV] learning_rate=0.2, max_depth=5, max_features=log2, n_estimators=50 \n",
            "[CV]  learning_rate=0.2, max_depth=5, max_features=log2, n_estimators=50, total=   0.4s\n",
            "[CV] learning_rate=0.2, max_depth=5, max_features=log2, n_estimators=50 \n",
            "[CV]  learning_rate=0.2, max_depth=5, max_features=log2, n_estimators=50, total=   0.4s\n",
            "[CV] learning_rate=0.2, max_depth=5, max_features=log2, n_estimators=50 \n",
            "[CV]  learning_rate=0.2, max_depth=5, max_features=log2, n_estimators=50, total=   0.4s\n",
            "[CV] learning_rate=0.2, max_depth=5, max_features=log2, n_estimators=100 \n",
            "[CV]  learning_rate=0.2, max_depth=5, max_features=log2, n_estimators=100, total=   0.7s\n",
            "[CV] learning_rate=0.2, max_depth=5, max_features=log2, n_estimators=100 \n",
            "[CV]  learning_rate=0.2, max_depth=5, max_features=log2, n_estimators=100, total=   0.8s\n",
            "[CV] learning_rate=0.2, max_depth=5, max_features=log2, n_estimators=100 \n",
            "[CV]  learning_rate=0.2, max_depth=5, max_features=log2, n_estimators=100, total=   0.7s\n",
            "[CV] learning_rate=0.2, max_depth=5, max_features=log2, n_estimators=100 \n",
            "[CV]  learning_rate=0.2, max_depth=5, max_features=log2, n_estimators=100, total=   0.7s\n",
            "[CV] learning_rate=0.2, max_depth=5, max_features=log2, n_estimators=100 \n",
            "[CV]  learning_rate=0.2, max_depth=5, max_features=log2, n_estimators=100, total=   0.7s\n",
            "[CV] learning_rate=0.2, max_depth=5, max_features=sqrt, n_estimators=10 \n",
            "[CV]  learning_rate=0.2, max_depth=5, max_features=sqrt, n_estimators=10, total=   0.1s\n",
            "[CV] learning_rate=0.2, max_depth=5, max_features=sqrt, n_estimators=10 \n",
            "[CV]  learning_rate=0.2, max_depth=5, max_features=sqrt, n_estimators=10, total=   0.1s\n",
            "[CV] learning_rate=0.2, max_depth=5, max_features=sqrt, n_estimators=10 \n",
            "[CV]  learning_rate=0.2, max_depth=5, max_features=sqrt, n_estimators=10, total=   0.1s\n",
            "[CV] learning_rate=0.2, max_depth=5, max_features=sqrt, n_estimators=10 \n",
            "[CV]  learning_rate=0.2, max_depth=5, max_features=sqrt, n_estimators=10, total=   0.1s\n",
            "[CV] learning_rate=0.2, max_depth=5, max_features=sqrt, n_estimators=10 \n",
            "[CV]  learning_rate=0.2, max_depth=5, max_features=sqrt, n_estimators=10, total=   0.1s\n",
            "[CV] learning_rate=0.2, max_depth=5, max_features=sqrt, n_estimators=20 \n",
            "[CV]  learning_rate=0.2, max_depth=5, max_features=sqrt, n_estimators=20, total=   0.2s\n",
            "[CV] learning_rate=0.2, max_depth=5, max_features=sqrt, n_estimators=20 \n",
            "[CV]  learning_rate=0.2, max_depth=5, max_features=sqrt, n_estimators=20, total=   0.2s\n",
            "[CV] learning_rate=0.2, max_depth=5, max_features=sqrt, n_estimators=20 \n",
            "[CV]  learning_rate=0.2, max_depth=5, max_features=sqrt, n_estimators=20, total=   0.2s\n",
            "[CV] learning_rate=0.2, max_depth=5, max_features=sqrt, n_estimators=20 \n",
            "[CV]  learning_rate=0.2, max_depth=5, max_features=sqrt, n_estimators=20, total=   0.2s\n",
            "[CV] learning_rate=0.2, max_depth=5, max_features=sqrt, n_estimators=20 \n",
            "[CV]  learning_rate=0.2, max_depth=5, max_features=sqrt, n_estimators=20, total=   0.2s\n",
            "[CV] learning_rate=0.2, max_depth=5, max_features=sqrt, n_estimators=50 \n",
            "[CV]  learning_rate=0.2, max_depth=5, max_features=sqrt, n_estimators=50, total=   0.4s\n",
            "[CV] learning_rate=0.2, max_depth=5, max_features=sqrt, n_estimators=50 \n",
            "[CV]  learning_rate=0.2, max_depth=5, max_features=sqrt, n_estimators=50, total=   0.4s\n",
            "[CV] learning_rate=0.2, max_depth=5, max_features=sqrt, n_estimators=50 \n",
            "[CV]  learning_rate=0.2, max_depth=5, max_features=sqrt, n_estimators=50, total=   0.4s\n",
            "[CV] learning_rate=0.2, max_depth=5, max_features=sqrt, n_estimators=50 \n",
            "[CV]  learning_rate=0.2, max_depth=5, max_features=sqrt, n_estimators=50, total=   0.4s\n",
            "[CV] learning_rate=0.2, max_depth=5, max_features=sqrt, n_estimators=50 \n",
            "[CV]  learning_rate=0.2, max_depth=5, max_features=sqrt, n_estimators=50, total=   0.4s\n",
            "[CV] learning_rate=0.2, max_depth=5, max_features=sqrt, n_estimators=100 \n",
            "[CV]  learning_rate=0.2, max_depth=5, max_features=sqrt, n_estimators=100, total=   0.7s\n",
            "[CV] learning_rate=0.2, max_depth=5, max_features=sqrt, n_estimators=100 \n",
            "[CV]  learning_rate=0.2, max_depth=5, max_features=sqrt, n_estimators=100, total=   0.7s\n",
            "[CV] learning_rate=0.2, max_depth=5, max_features=sqrt, n_estimators=100 \n",
            "[CV]  learning_rate=0.2, max_depth=5, max_features=sqrt, n_estimators=100, total=   0.7s\n",
            "[CV] learning_rate=0.2, max_depth=5, max_features=sqrt, n_estimators=100 \n",
            "[CV]  learning_rate=0.2, max_depth=5, max_features=sqrt, n_estimators=100, total=   0.7s\n",
            "[CV] learning_rate=0.2, max_depth=5, max_features=sqrt, n_estimators=100 \n",
            "[CV]  learning_rate=0.2, max_depth=5, max_features=sqrt, n_estimators=100, total=   0.7s\n",
            "[CV] learning_rate=0.2, max_depth=8, max_features=log2, n_estimators=10 \n",
            "[CV]  learning_rate=0.2, max_depth=8, max_features=log2, n_estimators=10, total=   0.1s\n",
            "[CV] learning_rate=0.2, max_depth=8, max_features=log2, n_estimators=10 \n",
            "[CV]  learning_rate=0.2, max_depth=8, max_features=log2, n_estimators=10, total=   0.1s\n",
            "[CV] learning_rate=0.2, max_depth=8, max_features=log2, n_estimators=10 \n",
            "[CV]  learning_rate=0.2, max_depth=8, max_features=log2, n_estimators=10, total=   0.1s\n",
            "[CV] learning_rate=0.2, max_depth=8, max_features=log2, n_estimators=10 \n",
            "[CV]  learning_rate=0.2, max_depth=8, max_features=log2, n_estimators=10, total=   0.1s\n",
            "[CV] learning_rate=0.2, max_depth=8, max_features=log2, n_estimators=10 \n",
            "[CV]  learning_rate=0.2, max_depth=8, max_features=log2, n_estimators=10, total=   0.1s\n",
            "[CV] learning_rate=0.2, max_depth=8, max_features=log2, n_estimators=20 \n",
            "[CV]  learning_rate=0.2, max_depth=8, max_features=log2, n_estimators=20, total=   0.2s\n",
            "[CV] learning_rate=0.2, max_depth=8, max_features=log2, n_estimators=20 \n",
            "[CV]  learning_rate=0.2, max_depth=8, max_features=log2, n_estimators=20, total=   0.2s\n",
            "[CV] learning_rate=0.2, max_depth=8, max_features=log2, n_estimators=20 \n",
            "[CV]  learning_rate=0.2, max_depth=8, max_features=log2, n_estimators=20, total=   0.2s\n",
            "[CV] learning_rate=0.2, max_depth=8, max_features=log2, n_estimators=20 \n",
            "[CV]  learning_rate=0.2, max_depth=8, max_features=log2, n_estimators=20, total=   0.2s\n",
            "[CV] learning_rate=0.2, max_depth=8, max_features=log2, n_estimators=20 \n",
            "[CV]  learning_rate=0.2, max_depth=8, max_features=log2, n_estimators=20, total=   0.2s\n",
            "[CV] learning_rate=0.2, max_depth=8, max_features=log2, n_estimators=50 \n",
            "[CV]  learning_rate=0.2, max_depth=8, max_features=log2, n_estimators=50, total=   0.4s\n",
            "[CV] learning_rate=0.2, max_depth=8, max_features=log2, n_estimators=50 \n",
            "[CV]  learning_rate=0.2, max_depth=8, max_features=log2, n_estimators=50, total=   0.5s\n",
            "[CV] learning_rate=0.2, max_depth=8, max_features=log2, n_estimators=50 \n",
            "[CV]  learning_rate=0.2, max_depth=8, max_features=log2, n_estimators=50, total=   0.4s\n",
            "[CV] learning_rate=0.2, max_depth=8, max_features=log2, n_estimators=50 \n",
            "[CV]  learning_rate=0.2, max_depth=8, max_features=log2, n_estimators=50, total=   0.4s\n",
            "[CV] learning_rate=0.2, max_depth=8, max_features=log2, n_estimators=50 \n",
            "[CV]  learning_rate=0.2, max_depth=8, max_features=log2, n_estimators=50, total=   0.4s\n",
            "[CV] learning_rate=0.2, max_depth=8, max_features=log2, n_estimators=100 \n",
            "[CV]  learning_rate=0.2, max_depth=8, max_features=log2, n_estimators=100, total=   0.7s\n",
            "[CV] learning_rate=0.2, max_depth=8, max_features=log2, n_estimators=100 \n",
            "[CV]  learning_rate=0.2, max_depth=8, max_features=log2, n_estimators=100, total=   0.8s\n",
            "[CV] learning_rate=0.2, max_depth=8, max_features=log2, n_estimators=100 \n",
            "[CV]  learning_rate=0.2, max_depth=8, max_features=log2, n_estimators=100, total=   0.8s\n",
            "[CV] learning_rate=0.2, max_depth=8, max_features=log2, n_estimators=100 \n",
            "[CV]  learning_rate=0.2, max_depth=8, max_features=log2, n_estimators=100, total=   0.7s\n",
            "[CV] learning_rate=0.2, max_depth=8, max_features=log2, n_estimators=100 \n",
            "[CV]  learning_rate=0.2, max_depth=8, max_features=log2, n_estimators=100, total=   0.8s\n",
            "[CV] learning_rate=0.2, max_depth=8, max_features=sqrt, n_estimators=10 \n",
            "[CV]  learning_rate=0.2, max_depth=8, max_features=sqrt, n_estimators=10, total=   0.1s\n",
            "[CV] learning_rate=0.2, max_depth=8, max_features=sqrt, n_estimators=10 \n",
            "[CV]  learning_rate=0.2, max_depth=8, max_features=sqrt, n_estimators=10, total=   0.1s\n",
            "[CV] learning_rate=0.2, max_depth=8, max_features=sqrt, n_estimators=10 \n",
            "[CV]  learning_rate=0.2, max_depth=8, max_features=sqrt, n_estimators=10, total=   0.1s\n",
            "[CV] learning_rate=0.2, max_depth=8, max_features=sqrt, n_estimators=10 \n",
            "[CV]  learning_rate=0.2, max_depth=8, max_features=sqrt, n_estimators=10, total=   0.1s\n",
            "[CV] learning_rate=0.2, max_depth=8, max_features=sqrt, n_estimators=10 \n",
            "[CV]  learning_rate=0.2, max_depth=8, max_features=sqrt, n_estimators=10, total=   0.1s\n",
            "[CV] learning_rate=0.2, max_depth=8, max_features=sqrt, n_estimators=20 \n",
            "[CV]  learning_rate=0.2, max_depth=8, max_features=sqrt, n_estimators=20, total=   0.2s\n",
            "[CV] learning_rate=0.2, max_depth=8, max_features=sqrt, n_estimators=20 \n",
            "[CV]  learning_rate=0.2, max_depth=8, max_features=sqrt, n_estimators=20, total=   0.2s\n",
            "[CV] learning_rate=0.2, max_depth=8, max_features=sqrt, n_estimators=20 \n",
            "[CV]  learning_rate=0.2, max_depth=8, max_features=sqrt, n_estimators=20, total=   0.2s\n",
            "[CV] learning_rate=0.2, max_depth=8, max_features=sqrt, n_estimators=20 \n",
            "[CV]  learning_rate=0.2, max_depth=8, max_features=sqrt, n_estimators=20, total=   0.2s\n",
            "[CV] learning_rate=0.2, max_depth=8, max_features=sqrt, n_estimators=20 \n",
            "[CV]  learning_rate=0.2, max_depth=8, max_features=sqrt, n_estimators=20, total=   0.2s\n",
            "[CV] learning_rate=0.2, max_depth=8, max_features=sqrt, n_estimators=50 \n",
            "[CV]  learning_rate=0.2, max_depth=8, max_features=sqrt, n_estimators=50, total=   0.4s\n",
            "[CV] learning_rate=0.2, max_depth=8, max_features=sqrt, n_estimators=50 \n",
            "[CV]  learning_rate=0.2, max_depth=8, max_features=sqrt, n_estimators=50, total=   0.5s\n",
            "[CV] learning_rate=0.2, max_depth=8, max_features=sqrt, n_estimators=50 \n",
            "[CV]  learning_rate=0.2, max_depth=8, max_features=sqrt, n_estimators=50, total=   0.4s\n",
            "[CV] learning_rate=0.2, max_depth=8, max_features=sqrt, n_estimators=50 \n",
            "[CV]  learning_rate=0.2, max_depth=8, max_features=sqrt, n_estimators=50, total=   0.6s\n",
            "[CV] learning_rate=0.2, max_depth=8, max_features=sqrt, n_estimators=50 \n",
            "[CV]  learning_rate=0.2, max_depth=8, max_features=sqrt, n_estimators=50, total=   0.4s\n",
            "[CV] learning_rate=0.2, max_depth=8, max_features=sqrt, n_estimators=100 \n",
            "[CV]  learning_rate=0.2, max_depth=8, max_features=sqrt, n_estimators=100, total=   0.8s\n",
            "[CV] learning_rate=0.2, max_depth=8, max_features=sqrt, n_estimators=100 \n",
            "[CV]  learning_rate=0.2, max_depth=8, max_features=sqrt, n_estimators=100, total=   0.8s\n",
            "[CV] learning_rate=0.2, max_depth=8, max_features=sqrt, n_estimators=100 \n",
            "[CV]  learning_rate=0.2, max_depth=8, max_features=sqrt, n_estimators=100, total=   0.8s\n",
            "[CV] learning_rate=0.2, max_depth=8, max_features=sqrt, n_estimators=100 \n",
            "[CV]  learning_rate=0.2, max_depth=8, max_features=sqrt, n_estimators=100, total=   0.7s\n",
            "[CV] learning_rate=0.2, max_depth=8, max_features=sqrt, n_estimators=100 \n",
            "[CV]  learning_rate=0.2, max_depth=8, max_features=sqrt, n_estimators=100, total=   0.8s\n"
          ],
          "name": "stdout"
        },
        {
          "output_type": "stream",
          "text": [
            "[Parallel(n_jobs=1)]: Done 640 out of 640 | elapsed:  3.5min finished\n"
          ],
          "name": "stderr"
        },
        {
          "output_type": "execute_result",
          "data": {
            "text/plain": [
              "GridSearchCV(cv=5, error_score=nan,\n",
              "             estimator=GradientBoostingClassifier(ccp_alpha=0.0,\n",
              "                                                  criterion='friedman_mse',\n",
              "                                                  init=None, learning_rate=1.0,\n",
              "                                                  loss='deviance', max_depth=1,\n",
              "                                                  max_features=None,\n",
              "                                                  max_leaf_nodes=None,\n",
              "                                                  min_impurity_decrease=0.0,\n",
              "                                                  min_impurity_split=None,\n",
              "                                                  min_samples_leaf=1,\n",
              "                                                  min_samples_split=2,\n",
              "                                                  min_weight_fraction_leaf=0.0,\n",
              "                                                  n_estimators=100,\n",
              "                                                  n_iter_no_c...\n",
              "                                                  presort='deprecated',\n",
              "                                                  random_state=42,\n",
              "                                                  subsample=1.0, tol=0.0001,\n",
              "                                                  validation_fraction=0.1,\n",
              "                                                  verbose=0, warm_start=False),\n",
              "             iid='deprecated', n_jobs=None,\n",
              "             param_grid={'learning_rate': [0.01, 0.05, 0.1, 0.2],\n",
              "                         'max_depth': [2, 3, 5, 8],\n",
              "                         'max_features': ['log2', 'sqrt'],\n",
              "                         'n_estimators': [10, 20, 50, 100]},\n",
              "             pre_dispatch='2*n_jobs', refit=True, return_train_score=False,\n",
              "             scoring=None, verbose=2)"
            ]
          },
          "metadata": {
            "tags": []
          },
          "execution_count": 302
        }
      ]
    },
    {
      "cell_type": "code",
      "metadata": {
        "colab": {
          "base_uri": "https://localhost:8080/"
        },
        "id": "pqxu8NyhKa8u",
        "outputId": "1f440c60-4b06-4673-c784-184843807839"
      },
      "source": [
        "# print best parameter after tuning \n",
        "print(grid.best_params_) "
      ],
      "execution_count": null,
      "outputs": [
        {
          "output_type": "stream",
          "text": [
            "{'learning_rate': 0.05, 'max_depth': 25, 'n_estimators': 200, 'num_leaves': 300}\n"
          ],
          "name": "stdout"
        }
      ]
    },
    {
      "cell_type": "markdown",
      "metadata": {
        "id": "afhELmJa_udq"
      },
      "source": [
        "#LightGBM Boosting"
      ]
    },
    {
      "cell_type": "code",
      "metadata": {
        "colab": {
          "base_uri": "https://localhost:8080/"
        },
        "id": "NkmbTDK48jAB",
        "outputId": "7311b891-0bb0-4049-9c77-8d50a0b8402a"
      },
      "source": [
        "from numpy import mean\n",
        "from numpy import std\n",
        "from lightgbm import LGBMClassifier\n",
        "from sklearn.model_selection import cross_val_score\n",
        "from sklearn.model_selection import RepeatedStratifiedKFold\n",
        "from matplotlib import pyplot\n",
        "# evaluate the model\n",
        "model7 = LGBMClassifier(learning_rate=0.05, max_depth=25, n_estimators=200, num_leaves=300)\n",
        "# fit the model on the whole dataset\n",
        "model7 = LGBMClassifier()\n",
        "model7.fit(x_train, y_train)"
      ],
      "execution_count": null,
      "outputs": [
        {
          "output_type": "execute_result",
          "data": {
            "text/plain": [
              "LGBMClassifier(boosting_type='gbdt', class_weight=None, colsample_bytree=1.0,\n",
              "               importance_type='split', learning_rate=0.1, max_depth=-1,\n",
              "               min_child_samples=20, min_child_weight=0.001, min_split_gain=0.0,\n",
              "               n_estimators=100, n_jobs=-1, num_leaves=31, objective=None,\n",
              "               random_state=None, reg_alpha=0.0, reg_lambda=0.0, silent=True,\n",
              "               subsample=1.0, subsample_for_bin=200000, subsample_freq=0)"
            ]
          },
          "metadata": {
            "tags": []
          },
          "execution_count": 295
        }
      ]
    },
    {
      "cell_type": "code",
      "metadata": {
        "id": "-ljoGhpC9yGb"
      },
      "source": [
        "y_pred=model7.predict(x_test)"
      ],
      "execution_count": null,
      "outputs": []
    },
    {
      "cell_type": "code",
      "metadata": {
        "colab": {
          "base_uri": "https://localhost:8080/"
        },
        "id": "XXYF7_AX-Pt6",
        "outputId": "8d90d24a-e752-43c9-a5f6-c69b14b78da1"
      },
      "source": [
        "print(\"The model used is Light gbm classifier\")\n",
        "acc= accuracy_score(y_test,y_pred)\n",
        "print(\"The accuracy is {} %\".format(acc*100))\n",
        "prec= precision_score(y_test,y_pred,average='micro')\n",
        "print(\"The precision is {} %\".format(prec*100))\n",
        "rec= recall_score(y_test,y_pred,average='micro')\n",
        "print(\"The recall is {} %\".format(rec*100))\n",
        "f1= f1_score(y_test,y_pred,average='micro')\n",
        "print(\"The F1-Score is {} %\".format(f1*100))"
      ],
      "execution_count": null,
      "outputs": [
        {
          "output_type": "stream",
          "text": [
            "The model used is Light gbm classifier\n",
            "The accuracy is 85.0 %\n",
            "The precision is 85.0 %\n",
            "The recall is 85.0 %\n",
            "The F1-Score is 85.0 %\n"
          ],
          "name": "stdout"
        }
      ]
    },
    {
      "cell_type": "code",
      "metadata": {
        "colab": {
          "base_uri": "https://localhost:8080/"
        },
        "id": "ELF2cC5--YD6",
        "outputId": "8d706f69-a8ee-4e98-e2f5-6de2103eda41"
      },
      "source": [
        "y_train_pred = model7.predict(x_train)\n",
        "LGBM_train_accuracy = accuracy_score(y_train,y_train_pred)\n",
        "LGBM_train_f1 = f1_score(y_train,y_train_pred,average='micro')\n",
        "print(\"Gradient Boosting Training Accuracy: \", LGBM_train_accuracy*100,\"%\")\n",
        "print(\"Gradient Boosting F1 Score: \", LGBM_train_f1*100,\"%\")"
      ],
      "execution_count": null,
      "outputs": [
        {
          "output_type": "stream",
          "text": [
            "Gradient Boosting Training Accuracy:  85.625 %\n",
            "Gradient Boosting F1 Score:  85.625 %\n"
          ],
          "name": "stdout"
        }
      ]
    },
    {
      "cell_type": "code",
      "metadata": {
        "colab": {
          "base_uri": "https://localhost:8080/"
        },
        "id": "lI0DChpDp49h",
        "outputId": "a2d6fab6-d191-497e-bbb4-4b452c81af6f"
      },
      "source": [
        "def multiclass_roc_auc_score(y_test, y_pred, average=\"macro\"):\n",
        " lb = LabelBinarizer()\n",
        " lb.fit(y_test)\n",
        " y_test = lb.transform(y_test)\n",
        " y_pred = lb.transform(y_pred)\n",
        " return roc_auc_score(y_test, y_pred, average=average)\n",
        "print(multiclass_roc_auc_score(y_test, y_pred, average=\"macro\"))"
      ],
      "execution_count": null,
      "outputs": [
        {
          "output_type": "stream",
          "text": [
            "0.9239279787306103\n"
          ],
          "name": "stdout"
        }
      ]
    },
    {
      "cell_type": "code",
      "metadata": {
        "colab": {
          "base_uri": "https://localhost:8080/"
        },
        "id": "QpZDdCaB_Ri7",
        "outputId": "5c022bb7-ec4b-4b02-b2c8-1ea7895e3a78"
      },
      "source": [
        "lg = LGBMClassifier(silent=False)\n",
        "param_grid= {\"max_depth\": [25,50, 75],\n",
        "              \"learning_rate\" : [0.01,0.05,0.1],\n",
        "              \"num_leaves\": [300,900,1200],\n",
        "              \"n_estimators\": [200]\n",
        "             }\n",
        "grid=GridSearchCV(lg,param_grid,n_jobs=-1, cv = 3,verbose=5)\n",
        "# fitting the model for grid search \n",
        "grid.fit(x_train, y_train)\n",
        "\n",
        "# print best parameter after tuning \n",
        "print(grid.best_params_) "
      ],
      "execution_count": null,
      "outputs": [
        {
          "output_type": "stream",
          "text": [
            "Fitting 3 folds for each of 27 candidates, totalling 81 fits\n"
          ],
          "name": "stdout"
        },
        {
          "output_type": "stream",
          "text": [
            "[Parallel(n_jobs=-1)]: Using backend LokyBackend with 2 concurrent workers.\n",
            "[Parallel(n_jobs=-1)]: Done  14 tasks      | elapsed:    5.4s\n",
            "[Parallel(n_jobs=-1)]: Done  68 tasks      | elapsed:   24.0s\n",
            "[Parallel(n_jobs=-1)]: Done  81 out of  81 | elapsed:   28.4s finished\n"
          ],
          "name": "stderr"
        },
        {
          "output_type": "stream",
          "text": [
            "{'learning_rate': 0.05, 'max_depth': 25, 'n_estimators': 200, 'num_leaves': 300}\n"
          ],
          "name": "stdout"
        }
      ]
    },
    {
      "cell_type": "markdown",
      "metadata": {
        "id": "SlB9Z9Kt-w93"
      },
      "source": [
        "#CATBOOST Algo"
      ]
    },
    {
      "cell_type": "code",
      "metadata": {
        "colab": {
          "base_uri": "https://localhost:8080/"
        },
        "id": "hrDmhV8H-6d6",
        "outputId": "e752c6a9-2cb7-41f7-b8c4-097f15b14e69"
      },
      "source": [
        "pip install catboost"
      ],
      "execution_count": null,
      "outputs": [
        {
          "output_type": "stream",
          "text": [
            "Requirement already satisfied: catboost in /usr/local/lib/python3.7/dist-packages (0.24.4)\n",
            "Requirement already satisfied: graphviz in /usr/local/lib/python3.7/dist-packages (from catboost) (0.10.1)\n",
            "Requirement already satisfied: matplotlib in /usr/local/lib/python3.7/dist-packages (from catboost) (3.2.2)\n",
            "Requirement already satisfied: numpy>=1.16.0 in /usr/local/lib/python3.7/dist-packages (from catboost) (1.19.5)\n",
            "Requirement already satisfied: pandas>=0.24.0 in /usr/local/lib/python3.7/dist-packages (from catboost) (1.1.5)\n",
            "Requirement already satisfied: six in /usr/local/lib/python3.7/dist-packages (from catboost) (1.15.0)\n",
            "Requirement already satisfied: plotly in /usr/local/lib/python3.7/dist-packages (from catboost) (4.4.1)\n",
            "Requirement already satisfied: scipy in /usr/local/lib/python3.7/dist-packages (from catboost) (1.4.1)\n",
            "Requirement already satisfied: python-dateutil>=2.1 in /usr/local/lib/python3.7/dist-packages (from matplotlib->catboost) (2.8.1)\n",
            "Requirement already satisfied: kiwisolver>=1.0.1 in /usr/local/lib/python3.7/dist-packages (from matplotlib->catboost) (1.3.1)\n",
            "Requirement already satisfied: cycler>=0.10 in /usr/local/lib/python3.7/dist-packages (from matplotlib->catboost) (0.10.0)\n",
            "Requirement already satisfied: pyparsing!=2.0.4,!=2.1.2,!=2.1.6,>=2.0.1 in /usr/local/lib/python3.7/dist-packages (from matplotlib->catboost) (2.4.7)\n",
            "Requirement already satisfied: pytz>=2017.2 in /usr/local/lib/python3.7/dist-packages (from pandas>=0.24.0->catboost) (2018.9)\n",
            "Requirement already satisfied: retrying>=1.3.3 in /usr/local/lib/python3.7/dist-packages (from plotly->catboost) (1.3.3)\n"
          ],
          "name": "stdout"
        }
      ]
    },
    {
      "cell_type": "code",
      "metadata": {
        "id": "uBp2gXXi-hkl"
      },
      "source": [
        "from catboost import CatBoostClassifier"
      ],
      "execution_count": null,
      "outputs": []
    },
    {
      "cell_type": "code",
      "metadata": {
        "colab": {
          "base_uri": "https://localhost:8080/"
        },
        "id": "e7o_y8CS-y_F",
        "outputId": "ceb75a9f-04f5-40fb-824f-4eddb0fe611c"
      },
      "source": [
        "\n",
        "# fit the model on the whole dataset\n",
        "model8 = CatBoostClassifier(depth=6, iterations= 50, l2_leaf_reg=5, learning_rate=0.03)\n",
        "model8.fit(x_train, y_train)"
      ],
      "execution_count": null,
      "outputs": [
        {
          "output_type": "stream",
          "text": [
            "0:\tlearn: 2.1794304\ttotal: 1.73ms\tremaining: 84.6ms\n",
            "1:\tlearn: 2.1654744\ttotal: 2.93ms\tremaining: 70.4ms\n",
            "2:\tlearn: 2.1481061\ttotal: 3.47ms\tremaining: 54.3ms\n",
            "3:\tlearn: 2.1307683\ttotal: 4.57ms\tremaining: 52.6ms\n",
            "4:\tlearn: 2.1157778\ttotal: 5.85ms\tremaining: 52.6ms\n",
            "5:\tlearn: 2.0961195\ttotal: 7.22ms\tremaining: 53ms\n",
            "6:\tlearn: 2.0791001\ttotal: 8.56ms\tremaining: 52.6ms\n",
            "7:\tlearn: 2.0634648\ttotal: 9.91ms\tremaining: 52.1ms\n",
            "8:\tlearn: 2.0448955\ttotal: 11.2ms\tremaining: 51.2ms\n",
            "9:\tlearn: 2.0263817\ttotal: 12.4ms\tremaining: 49.8ms\n",
            "10:\tlearn: 2.0082860\ttotal: 14.3ms\tremaining: 50.7ms\n",
            "11:\tlearn: 1.9921060\ttotal: 15.5ms\tremaining: 49.2ms\n",
            "12:\tlearn: 1.9734500\ttotal: 16.8ms\tremaining: 47.9ms\n",
            "13:\tlearn: 1.9570358\ttotal: 18.1ms\tremaining: 46.5ms\n",
            "14:\tlearn: 1.9408667\ttotal: 19.6ms\tremaining: 45.7ms\n",
            "15:\tlearn: 1.9250235\ttotal: 20.8ms\tremaining: 44.2ms\n",
            "16:\tlearn: 1.9078897\ttotal: 22.1ms\tremaining: 42.8ms\n",
            "17:\tlearn: 1.8926675\ttotal: 26.1ms\tremaining: 46.3ms\n",
            "18:\tlearn: 1.8793941\ttotal: 28ms\tremaining: 45.6ms\n",
            "19:\tlearn: 1.8630706\ttotal: 29.3ms\tremaining: 43.9ms\n",
            "20:\tlearn: 1.8490455\ttotal: 30.8ms\tremaining: 42.5ms\n",
            "21:\tlearn: 1.8352701\ttotal: 32.3ms\tremaining: 41.1ms\n",
            "22:\tlearn: 1.8203990\ttotal: 33.4ms\tremaining: 39.2ms\n",
            "23:\tlearn: 1.8068675\ttotal: 34.6ms\tremaining: 37.4ms\n",
            "24:\tlearn: 1.7936489\ttotal: 35.7ms\tremaining: 35.7ms\n",
            "25:\tlearn: 1.7797797\ttotal: 36.8ms\tremaining: 33.9ms\n",
            "26:\tlearn: 1.7651198\ttotal: 38.1ms\tremaining: 32.4ms\n",
            "27:\tlearn: 1.7533848\ttotal: 39.6ms\tremaining: 31.1ms\n",
            "28:\tlearn: 1.7370352\ttotal: 41ms\tremaining: 29.7ms\n",
            "29:\tlearn: 1.7251221\ttotal: 42.3ms\tremaining: 28.2ms\n",
            "30:\tlearn: 1.7123945\ttotal: 43.7ms\tremaining: 26.8ms\n",
            "31:\tlearn: 1.7014685\ttotal: 44.9ms\tremaining: 25.3ms\n",
            "32:\tlearn: 1.6888507\ttotal: 46.2ms\tremaining: 23.8ms\n",
            "33:\tlearn: 1.6749903\ttotal: 47.4ms\tremaining: 22.3ms\n",
            "34:\tlearn: 1.6603217\ttotal: 48.6ms\tremaining: 20.8ms\n",
            "35:\tlearn: 1.6507162\ttotal: 49.9ms\tremaining: 19.4ms\n",
            "36:\tlearn: 1.6375795\ttotal: 51.2ms\tremaining: 18ms\n",
            "37:\tlearn: 1.6254333\ttotal: 52.4ms\tremaining: 16.5ms\n",
            "38:\tlearn: 1.6116507\ttotal: 53.6ms\tremaining: 15.1ms\n",
            "39:\tlearn: 1.6000308\ttotal: 54.8ms\tremaining: 13.7ms\n",
            "40:\tlearn: 1.5894107\ttotal: 56ms\tremaining: 12.3ms\n",
            "41:\tlearn: 1.5789975\ttotal: 57.2ms\tremaining: 10.9ms\n",
            "42:\tlearn: 1.5677379\ttotal: 58.3ms\tremaining: 9.5ms\n",
            "43:\tlearn: 1.5576608\ttotal: 59.6ms\tremaining: 8.13ms\n",
            "44:\tlearn: 1.5474282\ttotal: 60.8ms\tremaining: 6.76ms\n",
            "45:\tlearn: 1.5369258\ttotal: 62ms\tremaining: 5.39ms\n",
            "46:\tlearn: 1.5283685\ttotal: 63.2ms\tremaining: 4.03ms\n",
            "47:\tlearn: 1.5175214\ttotal: 64.5ms\tremaining: 2.69ms\n",
            "48:\tlearn: 1.5077036\ttotal: 65.7ms\tremaining: 1.34ms\n",
            "49:\tlearn: 1.4980236\ttotal: 67.1ms\tremaining: 0us\n"
          ],
          "name": "stdout"
        },
        {
          "output_type": "execute_result",
          "data": {
            "text/plain": [
              "<catboost.core.CatBoostClassifier at 0x7ffafffb3610>"
            ]
          },
          "metadata": {
            "tags": []
          },
          "execution_count": 313
        }
      ]
    },
    {
      "cell_type": "code",
      "metadata": {
        "id": "tfTebSZO_SQ9"
      },
      "source": [
        "y_pred=model8.predict(x_test)"
      ],
      "execution_count": null,
      "outputs": []
    },
    {
      "cell_type": "code",
      "metadata": {
        "colab": {
          "base_uri": "https://localhost:8080/"
        },
        "id": "AiQzYOfy_Wdg",
        "outputId": "08ac0ce6-62c3-4815-9c3b-8ca19b552d9d"
      },
      "source": [
        "print(\"The model used is Cat boost classifier\")\n",
        "acc= accuracy_score(y_test,y_pred)\n",
        "print(\"The accuracy is {} %\".format(acc*100))\n",
        "prec= precision_score(y_test,y_pred,average='micro')\n",
        "print(\"The precision is {} %\".format(prec*100))\n",
        "rec= recall_score(y_test,y_pred,average='micro')\n",
        "print(\"The recall is {} %\".format(rec*100))\n",
        "f1= f1_score(y_test,y_pred,average='micro')\n",
        "print(\"The F1-Score is {} %\".format(f1*100))"
      ],
      "execution_count": null,
      "outputs": [
        {
          "output_type": "stream",
          "text": [
            "The model used is Cat boost classifier\n",
            "The accuracy is 77.5 %\n",
            "The precision is 77.5 %\n",
            "The recall is 77.5 %\n",
            "The F1-Score is 77.5 %\n"
          ],
          "name": "stdout"
        }
      ]
    },
    {
      "cell_type": "code",
      "metadata": {
        "colab": {
          "base_uri": "https://localhost:8080/"
        },
        "id": "GtXakPw3_Zo7",
        "outputId": "4cae9169-d02c-404c-ee5d-831e9ae7e2b7"
      },
      "source": [
        "y_train_pred = model8.predict(x_train)\n",
        "LGBM_train_accuracy = accuracy_score(y_train,y_train_pred)\n",
        "LGBM_train_f1 = f1_score(y_train,y_train_pred,average='micro')\n",
        "print(\"Gradient Boosting Training Accuracy: \", LGBM_train_accuracy*100,\"%\")\n",
        "print(\"Gradient Boosting F1 Score: \", LGBM_train_f1*100,\"%\")"
      ],
      "execution_count": null,
      "outputs": [
        {
          "output_type": "stream",
          "text": [
            "Gradient Boosting Training Accuracy:  84.375 %\n",
            "Gradient Boosting F1 Score:  84.375 %\n"
          ],
          "name": "stdout"
        }
      ]
    },
    {
      "cell_type": "code",
      "metadata": {
        "colab": {
          "base_uri": "https://localhost:8080/"
        },
        "id": "ZloZH7bMp8mH",
        "outputId": "41692c60-3e15-4bf9-8fe5-a073ad88834b"
      },
      "source": [
        "def multiclass_roc_auc_score(y_test, y_pred, average=\"macro\"):\n",
        " lb = LabelBinarizer()\n",
        " lb.fit(y_test)\n",
        " y_test = lb.transform(y_test)\n",
        " y_pred = lb.transform(y_pred)\n",
        " return roc_auc_score(y_test, y_pred, average=average)\n",
        "print(multiclass_roc_auc_score(y_test, y_pred, average=\"macro\"))"
      ],
      "execution_count": null,
      "outputs": [
        {
          "output_type": "stream",
          "text": [
            "0.8810708358734674\n"
          ],
          "name": "stdout"
        }
      ]
    },
    {
      "cell_type": "code",
      "metadata": {
        "colab": {
          "base_uri": "https://localhost:8080/"
        },
        "id": "UKmh8ZBLtPxs",
        "outputId": "292afde4-18cb-4600-d228-00cb221712ca"
      },
      "source": [
        "CB= CatBoostClassifier()\n",
        "\n",
        "param_grid = {'learning_rate': [0.03, 0.1],\n",
        "        'depth': [4, 6, 10],\n",
        "        'l2_leaf_reg': [1, 3, 5, 7, 9],\n",
        "        'iterations':(10,50)}\n",
        "grid = GridSearchCV(CB,param_grid,cv=None,n_jobs=-1)\n",
        "# fitting the model for grid search \n",
        "grid.fit(x_train, y_train)\n",
        "\n",
        "# print best parameter after tuning \n",
        "print(grid.best_params_) "
      ],
      "execution_count": null,
      "outputs": [
        {
          "output_type": "stream",
          "text": [
            "0:\tlearn: 2.1383640\ttotal: 1.56ms\tremaining: 76.5ms\n",
            "1:\tlearn: 2.0932482\ttotal: 2.68ms\tremaining: 64.3ms\n",
            "2:\tlearn: 2.0399319\ttotal: 3.15ms\tremaining: 49.3ms\n",
            "3:\tlearn: 1.9816819\ttotal: 4.25ms\tremaining: 48.9ms\n",
            "4:\tlearn: 1.9365565\ttotal: 5.36ms\tremaining: 48.2ms\n",
            "5:\tlearn: 1.8804205\ttotal: 6.41ms\tremaining: 47ms\n",
            "6:\tlearn: 1.8385967\ttotal: 7.51ms\tremaining: 46.1ms\n",
            "7:\tlearn: 1.7944943\ttotal: 8.69ms\tremaining: 45.6ms\n",
            "8:\tlearn: 1.7440786\ttotal: 9.96ms\tremaining: 45.4ms\n",
            "9:\tlearn: 1.6949734\ttotal: 11ms\tremaining: 44.1ms\n",
            "10:\tlearn: 1.6490812\ttotal: 12.2ms\tremaining: 43.3ms\n",
            "11:\tlearn: 1.6091409\ttotal: 13.3ms\tremaining: 42.1ms\n",
            "12:\tlearn: 1.5722964\ttotal: 14.4ms\tremaining: 41ms\n",
            "13:\tlearn: 1.5323613\ttotal: 15.5ms\tremaining: 39.9ms\n",
            "14:\tlearn: 1.4957584\ttotal: 16.6ms\tremaining: 38.7ms\n",
            "15:\tlearn: 1.4598647\ttotal: 17.7ms\tremaining: 37.6ms\n",
            "16:\tlearn: 1.4268737\ttotal: 18.8ms\tremaining: 36.4ms\n",
            "17:\tlearn: 1.3944105\ttotal: 19.8ms\tremaining: 35.2ms\n",
            "18:\tlearn: 1.3673000\ttotal: 20.9ms\tremaining: 34.1ms\n",
            "19:\tlearn: 1.3351832\ttotal: 21.9ms\tremaining: 32.9ms\n",
            "20:\tlearn: 1.3083586\ttotal: 23ms\tremaining: 31.8ms\n",
            "21:\tlearn: 1.2823416\ttotal: 24.1ms\tremaining: 30.7ms\n",
            "22:\tlearn: 1.2555464\ttotal: 25.2ms\tremaining: 29.6ms\n",
            "23:\tlearn: 1.2309843\ttotal: 26.3ms\tremaining: 28.5ms\n",
            "24:\tlearn: 1.2079219\ttotal: 27.4ms\tremaining: 27.4ms\n",
            "25:\tlearn: 1.1848959\ttotal: 28.5ms\tremaining: 26.3ms\n",
            "26:\tlearn: 1.1605641\ttotal: 29.6ms\tremaining: 25.2ms\n",
            "27:\tlearn: 1.1425597\ttotal: 30.7ms\tremaining: 24.1ms\n",
            "28:\tlearn: 1.1176123\ttotal: 31.8ms\tremaining: 23ms\n",
            "29:\tlearn: 1.0980389\ttotal: 33ms\tremaining: 22ms\n",
            "30:\tlearn: 1.0790142\ttotal: 34.1ms\tremaining: 20.9ms\n",
            "31:\tlearn: 1.0610796\ttotal: 35.2ms\tremaining: 19.8ms\n",
            "32:\tlearn: 1.0452244\ttotal: 36.3ms\tremaining: 18.7ms\n",
            "33:\tlearn: 1.0297574\ttotal: 37.3ms\tremaining: 17.6ms\n",
            "34:\tlearn: 1.0132675\ttotal: 38.4ms\tremaining: 16.4ms\n",
            "35:\tlearn: 1.0006873\ttotal: 39.4ms\tremaining: 15.3ms\n",
            "36:\tlearn: 0.9860725\ttotal: 40.5ms\tremaining: 14.2ms\n",
            "37:\tlearn: 0.9721694\ttotal: 41.6ms\tremaining: 13.1ms\n",
            "38:\tlearn: 0.9558143\ttotal: 42.7ms\tremaining: 12ms\n",
            "39:\tlearn: 0.9425147\ttotal: 43.7ms\tremaining: 10.9ms\n",
            "40:\tlearn: 0.9333977\ttotal: 44.5ms\tremaining: 9.76ms\n",
            "41:\tlearn: 0.9185881\ttotal: 46ms\tremaining: 8.77ms\n",
            "42:\tlearn: 0.9069160\ttotal: 47.5ms\tremaining: 7.74ms\n",
            "43:\tlearn: 0.8936830\ttotal: 49ms\tremaining: 6.67ms\n",
            "44:\tlearn: 0.8816388\ttotal: 50.4ms\tremaining: 5.6ms\n",
            "45:\tlearn: 0.8717796\ttotal: 51.8ms\tremaining: 4.51ms\n",
            "46:\tlearn: 0.8601263\ttotal: 53.2ms\tremaining: 3.39ms\n",
            "47:\tlearn: 0.8485823\ttotal: 54.4ms\tremaining: 2.27ms\n",
            "48:\tlearn: 0.8394455\ttotal: 55.4ms\tremaining: 1.13ms\n",
            "49:\tlearn: 0.8287011\ttotal: 56.6ms\tremaining: 0us\n",
            "{'depth': 6, 'iterations': 50, 'l2_leaf_reg': 5, 'learning_rate': 0.1}\n"
          ],
          "name": "stdout"
        }
      ]
    },
    {
      "cell_type": "code",
      "metadata": {
        "id": "qU8byA9v48Pq"
      },
      "source": [
        ""
      ],
      "execution_count": null,
      "outputs": []
    }
  ]
}